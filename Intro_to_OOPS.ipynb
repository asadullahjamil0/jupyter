{
 "cells": [
  {
   "cell_type": "code",
   "execution_count": 28,
   "id": "292b4b3f-b421-49c2-a667-8d94350b10d8",
   "metadata": {},
   "outputs": [],
   "source": [
    "class Animal:\n",
    "    legs = False\n",
    "    name = ''\n",
    "\n",
    "    def sound(self):\n",
    "        return '*silence*'\n",
    "\n",
    "    def move(self):\n",
    "        return True"
   ]
  },
  {
   "cell_type": "code",
   "execution_count": 29,
   "id": "12f77f69-715d-442c-a1c7-979a0b8381f1",
   "metadata": {},
   "outputs": [],
   "source": [
    "a = Animal()"
   ]
  },
  {
   "cell_type": "code",
   "execution_count": 30,
   "id": "ac184972-bf99-42cc-b82c-141880280522",
   "metadata": {},
   "outputs": [
    {
     "data": {
      "text/plain": [
       "__main__.Animal"
      ]
     },
     "execution_count": 30,
     "metadata": {},
     "output_type": "execute_result"
    }
   ],
   "source": [
    "type(a)"
   ]
  },
  {
   "cell_type": "code",
   "execution_count": 34,
   "id": "ad1179a9-4259-462a-84d4-de311fdd7493",
   "metadata": {},
   "outputs": [
    {
     "data": {
      "text/plain": [
       "'*silence*'"
      ]
     },
     "execution_count": 34,
     "metadata": {},
     "output_type": "execute_result"
    }
   ],
   "source": [
    "a.sound()"
   ]
  },
  {
   "cell_type": "code",
   "execution_count": 35,
   "id": "89ae0a8d-f502-4adc-8389-306040e4e460",
   "metadata": {},
   "outputs": [
    {
     "data": {
      "text/plain": [
       "['a', 'b', 'c']"
      ]
     },
     "execution_count": 35,
     "metadata": {},
     "output_type": "execute_result"
    }
   ],
   "source": [
    "c = 'a-b-c'\n",
    "c.split('-')"
   ]
  },
  {
   "cell_type": "code",
   "execution_count": 36,
   "id": "76056623-58e8-4094-ba80-cf6da434d5cf",
   "metadata": {},
   "outputs": [
    {
     "data": {
      "text/plain": [
       "'a,b,c'"
      ]
     },
     "execution_count": 36,
     "metadata": {},
     "output_type": "execute_result"
    }
   ],
   "source": [
    "','.join(['a', 'b', 'c'])"
   ]
  },
  {
   "cell_type": "code",
   "execution_count": 37,
   "id": "11af4a3d-e971-4464-9ebc-00c0f6eb8230",
   "metadata": {},
   "outputs": [],
   "source": [
    "class Dog(Animal):\n",
    "    def sound(self):\n",
    "        return 'Bark'"
   ]
  },
  {
   "cell_type": "code",
   "execution_count": 38,
   "id": "2684b53c-9c6b-4442-854b-50739c853bc5",
   "metadata": {},
   "outputs": [],
   "source": [
    "d = Dog()"
   ]
  },
  {
   "cell_type": "code",
   "execution_count": 40,
   "id": "6c526fa6-67c2-4cbe-b387-bb84ecce995d",
   "metadata": {},
   "outputs": [
    {
     "data": {
      "text/plain": [
       "'Bark'"
      ]
     },
     "execution_count": 40,
     "metadata": {},
     "output_type": "execute_result"
    }
   ],
   "source": [
    "d.sound()"
   ]
  },
  {
   "cell_type": "code",
   "execution_count": 43,
   "id": "52347cc8-8118-4782-bbae-6e38fd7dfb0e",
   "metadata": {},
   "outputs": [
    {
     "data": {
      "text/plain": [
       "True"
      ]
     },
     "execution_count": 43,
     "metadata": {},
     "output_type": "execute_result"
    }
   ],
   "source": [
    "d.move()"
   ]
  },
  {
   "cell_type": "code",
   "execution_count": 46,
   "id": "58c916d6-c808-4977-a076-b4a82cc30542",
   "metadata": {},
   "outputs": [
    {
     "ename": "AttributeError",
     "evalue": "'Dog' object has no attribute 'run'",
     "output_type": "error",
     "traceback": [
      "\u001b[1;31m---------------------------------------------------------------------------\u001b[0m",
      "\u001b[1;31mAttributeError\u001b[0m                            Traceback (most recent call last)",
      "Cell \u001b[1;32mIn[46], line 1\u001b[0m\n\u001b[1;32m----> 1\u001b[0m d\u001b[38;5;241m.\u001b[39mrun()\n",
      "\u001b[1;31mAttributeError\u001b[0m: 'Dog' object has no attribute 'run'"
     ]
    }
   ],
   "source": [
    "d.run()"
   ]
  },
  {
   "cell_type": "code",
   "execution_count": 12,
   "id": "46dad639-1077-4570-a026-7d7a3d10e71d",
   "metadata": {},
   "outputs": [],
   "source": [
    "class Polygon:\n",
    "    def __init__(self, no_of_sides):\n",
    "        print(\"Creating Number of sides: \", no_of_sides)\n",
    "        self.n = no_of_sides\n",
    "        self.sides = [0 in range(no_of_sides)]\n",
    "\n",
    "    def set_sides(self, sides):\n",
    "        self.sides = sides\n",
    "\n",
    "    def show_sides(self):\n",
    "        for i in self.sides:\n",
    "            print(\"Sides: \", i)\n",
    "    "
   ]
  },
  {
   "cell_type": "code",
   "execution_count": 13,
   "id": "12dbe257-45ee-4b96-bf05-450180ceb675",
   "metadata": {},
   "outputs": [
    {
     "name": "stdout",
     "output_type": "stream",
     "text": [
      "Creating Number of sides:  3\n"
     ]
    }
   ],
   "source": [
    "q = Polygon(3)"
   ]
  },
  {
   "cell_type": "code",
   "execution_count": 14,
   "id": "1f7f9b23-1380-4876-8a62-ddc84b76acd8",
   "metadata": {},
   "outputs": [],
   "source": [
    "q.set_sides(3)"
   ]
  },
  {
   "cell_type": "code",
   "execution_count": 15,
   "id": "ee315eb8-dd36-4b7c-bcdb-a6eb6acdcae8",
   "metadata": {},
   "outputs": [
    {
     "data": {
      "text/plain": [
       "3"
      ]
     },
     "execution_count": 15,
     "metadata": {},
     "output_type": "execute_result"
    }
   ],
   "source": [
    "q.n"
   ]
  },
  {
   "cell_type": "code",
   "execution_count": 16,
   "id": "fb0a9100-ff1f-40ac-ab5c-d63b35d69760",
   "metadata": {},
   "outputs": [
    {
     "name": "stdout",
     "output_type": "stream",
     "text": [
      "Creating Number of sides:  4\n"
     ]
    }
   ],
   "source": [
    "p = Polygon(4)"
   ]
  },
  {
   "cell_type": "code",
   "execution_count": 17,
   "id": "41df0334-13c6-4916-9af5-500c78f9d7e3",
   "metadata": {},
   "outputs": [
    {
     "data": {
      "text/plain": [
       "4"
      ]
     },
     "execution_count": 17,
     "metadata": {},
     "output_type": "execute_result"
    }
   ],
   "source": [
    "p.n"
   ]
  },
  {
   "cell_type": "code",
   "execution_count": 18,
   "id": "471edd1f-8489-420e-a0b2-f1417cbdf836",
   "metadata": {},
   "outputs": [],
   "source": [
    "p.set_sides([3, 4, 5])"
   ]
  },
  {
   "cell_type": "code",
   "execution_count": 19,
   "id": "f9652fd9-3799-48b5-85da-cb9bf63e6da1",
   "metadata": {},
   "outputs": [
    {
     "name": "stdout",
     "output_type": "stream",
     "text": [
      "Sides:  3\n",
      "Sides:  4\n",
      "Sides:  5\n"
     ]
    }
   ],
   "source": [
    "p.show_sides()"
   ]
  },
  {
   "cell_type": "code",
   "execution_count": 20,
   "id": "dbe552ae-eb97-4a5f-a813-c6c6599a1773",
   "metadata": {},
   "outputs": [],
   "source": [
    "class Rectangle(Polygon):\n",
    "    def __init__(self):\n",
    "        Polygon.__init__(self, 4)\n",
    "\n",
    "    def set_sides(self, sides):\n",
    "        assert sides[0] == sides[2], \"Opposites sides must be equal\"\n",
    "        assert sides[1] == sides[3], \"Opposites sides must be equal\"\n",
    "        self.side = sides\n",
    "        print(self.side)\n",
    "\n",
    "    def get_area(self):\n",
    "        area = self.side[0] * self.side[1]\n",
    "        return area"
   ]
  },
  {
   "cell_type": "code",
   "execution_count": 21,
   "id": "faf24d30-f0e3-4db1-8be1-fc039fc093c4",
   "metadata": {},
   "outputs": [
    {
     "name": "stdout",
     "output_type": "stream",
     "text": [
      "Creating Number of sides:  4\n"
     ]
    }
   ],
   "source": [
    "r = Rectangle()"
   ]
  },
  {
   "cell_type": "code",
   "execution_count": 22,
   "id": "371abf01-4c69-42b7-9b14-40f8d604dd67",
   "metadata": {},
   "outputs": [
    {
     "name": "stdout",
     "output_type": "stream",
     "text": [
      "[2, 1, 2, 1]\n"
     ]
    }
   ],
   "source": [
    "r.set_sides([2, 1, 2, 1])"
   ]
  },
  {
   "cell_type": "code",
   "execution_count": 23,
   "id": "ecacaa99-ea3e-494d-9f68-185b968f8bfd",
   "metadata": {},
   "outputs": [
    {
     "data": {
      "text/plain": [
       "2"
      ]
     },
     "execution_count": 23,
     "metadata": {},
     "output_type": "execute_result"
    }
   ],
   "source": [
    "r.get_area()"
   ]
  },
  {
   "cell_type": "code",
   "execution_count": null,
   "id": "baac92a0-3fdf-4ed3-b408-beddd277e8d7",
   "metadata": {},
   "outputs": [],
   "source": []
  }
 ],
 "metadata": {
  "kernelspec": {
   "display_name": "Python 3 (ipykernel)",
   "language": "python",
   "name": "python3"
  },
  "language_info": {
   "codemirror_mode": {
    "name": "ipython",
    "version": 3
   },
   "file_extension": ".py",
   "mimetype": "text/x-python",
   "name": "python",
   "nbconvert_exporter": "python",
   "pygments_lexer": "ipython3",
   "version": "3.12.7"
  }
 },
 "nbformat": 4,
 "nbformat_minor": 5
}
