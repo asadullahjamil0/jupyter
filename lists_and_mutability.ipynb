{
 "cells": [
  {
   "cell_type": "code",
   "execution_count": 23,
   "id": "8f78eceb-929d-451d-bf2f-be88785890ae",
   "metadata": {},
   "outputs": [],
   "source": [
    "mammals = ['cat', 'kangaroo', 'horse']\n",
    "fish = ['tuna', 'catfish', 'shark']\n",
    "animals = [mammals, fish]\n",
    "mammals[0] = ['mule']"
   ]
  },
  {
   "cell_type": "code",
   "execution_count": 28,
   "id": "62ed5e13-ad36-48c5-876e-b8854eff4922",
   "metadata": {},
   "outputs": [
    {
     "name": "stdout",
     "output_type": "stream",
     "text": [
      "Adress of lists:  1868715182848 1868729609152 1868715182848\n",
      "Hexa memory addres of animals list: 0x1b3181acb00 and 0x1b3181acb00\n"
     ]
    }
   ],
   "source": [
    "print(\"Adress of lists: \", id(mammals), id(fish), id(animals[0]))\n",
    "memory_address_animals_first = hex(id(animals[0]))\n",
    "memory_address_mammals = hex(id(mammals))\n",
    "print(f\"Hexa memory addres of animals list: {memory_address_animals_first} and {memory_address_mammals}\")"
   ]
  },
  {
   "cell_type": "code",
   "execution_count": 24,
   "id": "44d59838-fad6-4509-9917-d8350eeb4cca",
   "metadata": {},
   "outputs": [
    {
     "name": "stdout",
     "output_type": "stream",
     "text": [
      "[[['mule'], 'kangaroo', 'horse'], ['tuna', 'catfish', 'shark']]\n"
     ]
    }
   ],
   "source": [
    "print(animals)"
   ]
  },
  {
   "cell_type": "code",
   "execution_count": 29,
   "id": "807d7f0d-31c2-444e-919f-84f41e55eb26",
   "metadata": {},
   "outputs": [],
   "source": [
    "mammals_2 = mammals"
   ]
  },
  {
   "cell_type": "code",
   "execution_count": 31,
   "id": "312b8e8a-2140-4e96-85cf-02ad11faee6f",
   "metadata": {},
   "outputs": [],
   "source": [
    "mammals_2[0] = 'dog'"
   ]
  },
  {
   "cell_type": "code",
   "execution_count": 32,
   "id": "a9fc29ad-3bac-4a82-ae77-1bf5c06bb97f",
   "metadata": {},
   "outputs": [
    {
     "name": "stdout",
     "output_type": "stream",
     "text": [
      "[['dog', 'kangaroo', 'horse'], ['tuna', 'catfish', 'shark']]\n"
     ]
    }
   ],
   "source": [
    "print(animals)"
   ]
  },
  {
   "cell_type": "code",
   "execution_count": 33,
   "id": "37282b29-8610-4253-a7b6-0d3de57e705e",
   "metadata": {},
   "outputs": [
    {
     "data": {
      "text/plain": [
       "['dog', 'kangaroo', 'horse']"
      ]
     },
     "execution_count": 33,
     "metadata": {},
     "output_type": "execute_result"
    }
   ],
   "source": [
    "mammals"
   ]
  },
  {
   "cell_type": "code",
   "execution_count": 34,
   "id": "924d8214-e7bd-4a25-a92a-62603611d889",
   "metadata": {},
   "outputs": [
    {
     "name": "stdout",
     "output_type": "stream",
     "text": [
      "mammals =  ['dog', 'kangaroo', 'horse']\n",
      "mammals_2 =  ['dog', 'kangaroo', 'horse']\n",
      "animals =  [['dog', 'kangaroo', 'horse'], ['tuna', 'catfish', 'shark']]\n"
     ]
    }
   ],
   "source": [
    "# This is a problem if we assign a list to another variable it changes the actual list because of its address\n",
    "print(\"mammals = \", mammals)\n",
    "print(\"mammals_2 = \", mammals_2)\n",
    "print(\"animals = \", animals)"
   ]
  },
  {
   "cell_type": "code",
   "execution_count": 36,
   "id": "ea0d1675-1607-443e-8de9-e2550b177195",
   "metadata": {},
   "outputs": [],
   "source": [
    "# So, we have a solution for this by creating a copy of list:\n",
    "mammals_3 = mammals[:]"
   ]
  },
  {
   "cell_type": "code",
   "execution_count": 37,
   "id": "b1b56439-1501-43ec-9dbd-730b5865f6a3",
   "metadata": {},
   "outputs": [
    {
     "data": {
      "text/plain": [
       "['dog', 'kangaroo', 'horse']"
      ]
     },
     "execution_count": 37,
     "metadata": {},
     "output_type": "execute_result"
    }
   ],
   "source": [
    "mammals_3 "
   ]
  },
  {
   "cell_type": "code",
   "execution_count": 39,
   "id": "be1fc1c7-6a2e-4180-9252-ede9935bdb39",
   "metadata": {},
   "outputs": [],
   "source": [
    "mammals_3[0] = 'donkey'"
   ]
  },
  {
   "cell_type": "code",
   "execution_count": 41,
   "id": "c812aa85-852b-4b43-948e-1faa49455ad3",
   "metadata": {},
   "outputs": [
    {
     "name": "stdout",
     "output_type": "stream",
     "text": [
      "mammals =  ['dog', 'kangaroo', 'horse']\n",
      "mammals_2 =  ['dog', 'kangaroo', 'horse']\n",
      "animals =  [['dog', 'kangaroo', 'horse'], ['tuna', 'catfish', 'shark']]\n",
      "mammals_3 =  ['donkey', 'kangaroo', 'horse']\n"
     ]
    }
   ],
   "source": [
    "# Now checking again all lists, so it didn't change the actual list \n",
    "print(\"mammals = \", mammals)\n",
    "print(\"mammals_2 = \", mammals_2)\n",
    "print(\"animals = \", animals)\n",
    "print(\"mammals_3 = \", mammals_3)"
   ]
  },
  {
   "cell_type": "code",
   "execution_count": 42,
   "id": "ef454189-de85-488b-ac76-a86d14dfbc32",
   "metadata": {},
   "outputs": [],
   "source": [
    "# Another example of it\n",
    "s1 = [\"Student 1\", \"Ali\", \"Khan\"]\n",
    "s2 = [\"Student 2\", \"Farooq\", \"Azam\"]\n",
    "s3 = [\"Student 3\", \"Hadi\", \"Ayyan\"]\n",
    "Students = [ s1, s2, s3]"
   ]
  },
  {
   "cell_type": "code",
   "execution_count": 43,
   "id": "8cefc8c0-fe6d-41e8-8fc6-61a36c06f481",
   "metadata": {},
   "outputs": [
    {
     "name": "stdout",
     "output_type": "stream",
     "text": [
      "[['Student 1', 'Ali', 'Khan'], ['Student 2', 'Farooq', 'Azam'], ['Student 3', 'Hadi', 'Ayyan']]\n"
     ]
    }
   ],
   "source": [
    "print(Students)"
   ]
  },
  {
   "cell_type": "code",
   "execution_count": 44,
   "id": "c26338a0-1abc-4686-bee4-18d73f52ad05",
   "metadata": {},
   "outputs": [],
   "source": [
    "student_copy = Students"
   ]
  },
  {
   "cell_type": "code",
   "execution_count": 45,
   "id": "53b0ada9-12e1-49f3-92a4-88c9c2058c84",
   "metadata": {},
   "outputs": [
    {
     "name": "stdout",
     "output_type": "stream",
     "text": [
      "[['Student 1', 'Ali', 'Khan'], ['Student 2', 'Farooq', 'Azam'], ['Student 3', 'Hadi', 'Ayyan']]\n"
     ]
    }
   ],
   "source": [
    "print(student_copy)"
   ]
  },
  {
   "cell_type": "code",
   "execution_count": 47,
   "id": "0be0a1b5-fc1c-4887-9d6b-097b25e5ddfa",
   "metadata": {},
   "outputs": [
    {
     "name": "stdout",
     "output_type": "stream",
     "text": [
      "1868720902912 1868720902912\n"
     ]
    }
   ],
   "source": [
    "print(id(Students[0]), id(student_copy[0]))"
   ]
  },
  {
   "cell_type": "code",
   "execution_count": 52,
   "id": "4bb9e6d8-ea14-48f4-b1c7-9f5c551a3050",
   "metadata": {},
   "outputs": [],
   "source": [
    "# there is issue if we assign value again like this\n",
    "student_copy[0][0] = \"Student 1 changed\""
   ]
  },
  {
   "cell_type": "code",
   "execution_count": 53,
   "id": "05b2d1ec-dcbb-4d2f-821f-5d892dabcfcf",
   "metadata": {},
   "outputs": [
    {
     "name": "stdout",
     "output_type": "stream",
     "text": [
      "[['Student 1 changed', 'Ali', 'Khan'], ['Student 2', 'Farooq', 'Azam'], ['Student 3', 'Hadi', 'Ayyan']]\n",
      "[['Student 1 changed', 'Ali', 'Khan'], ['Student 2', 'Farooq', 'Azam'], ['Student 3', 'Hadi', 'Ayyan']]\n"
     ]
    }
   ],
   "source": [
    "print(Students)\n",
    "print(student_copy)\n"
   ]
  },
  {
   "cell_type": "code",
   "execution_count": 56,
   "id": "699dcdc0-0fc0-4eb5-89a5-ef75197523a1",
   "metadata": {},
   "outputs": [],
   "source": [
    "# Here is a solution for above issur which is:\n",
    "import copy\n",
    "students_3 = copy.deepcopy(Students)"
   ]
  },
  {
   "cell_type": "code",
   "execution_count": 59,
   "id": "0e6c3712-176d-4147-b993-46f39d4866a4",
   "metadata": {},
   "outputs": [
    {
     "name": "stdout",
     "output_type": "stream",
     "text": [
      "[['Student 1 changed', 'Ali', 'Khan'], ['Student 2', 'Farooq', 'Azam'], ['Student 3', 'Hadi', 'Ayyan']]\n",
      "[['Student 1 changed', 'Ali', 'Khan'], ['Student 2', 'Farooq', 'Azam'], ['Student 3', 'Hadi', 'Ayyan']]\n",
      "[['student 1 changed again', 'Ali', 'Khan'], ['Student 2', 'Farooq', 'Azam'], ['Student 3', 'Hadi', 'Ayyan']]\n"
     ]
    }
   ],
   "source": [
    "# Now we are printing all lists again after changing some its value\n",
    "print(Students)\n",
    "print(student_copy)\n",
    "students_3[0][0] = 'student 1 changed again'\n",
    "print(students_3)\n"
   ]
  },
  {
   "cell_type": "code",
   "execution_count": 67,
   "id": "18292567-6dcf-4b9d-a1aa-f8f2dd6a1d39",
   "metadata": {},
   "outputs": [],
   "source": [
    "def change_variable(x):\n",
    "    x = x + 1"
   ]
  },
  {
   "cell_type": "code",
   "execution_count": 70,
   "id": "c2a4a0a0-9147-45b1-bdd3-a63696601b0a",
   "metadata": {},
   "outputs": [],
   "source": [
    "x = 1\n",
    "change_variable(x)"
   ]
  },
  {
   "cell_type": "code",
   "execution_count": 71,
   "id": "d1c7cf3a-b6ec-4f9c-8cf2-f1dd2a43ebcf",
   "metadata": {},
   "outputs": [
    {
     "name": "stdout",
     "output_type": "stream",
     "text": [
      "1\n"
     ]
    }
   ],
   "source": [
    "print(x)"
   ]
  },
  {
   "cell_type": "code",
   "execution_count": 72,
   "id": "bb1798ea-957a-46a6-b561-925abb05334b",
   "metadata": {},
   "outputs": [],
   "source": [
    "def change_list(lst):\n",
    "    lst.append(52)"
   ]
  },
  {
   "cell_type": "code",
   "execution_count": 74,
   "id": "eaf639ed-b52b-44d7-8e42-95d1c69edadf",
   "metadata": {},
   "outputs": [],
   "source": [
    "change_list(s2)"
   ]
  },
  {
   "cell_type": "code",
   "execution_count": 78,
   "id": "561b6d8b-cafd-4436-8ddd-a1c9621e3fce",
   "metadata": {},
   "outputs": [
    {
     "name": "stdout",
     "output_type": "stream",
     "text": [
      "['Student 2', 'Farooq', 'Azam', 52]\n"
     ]
    }
   ],
   "source": [
    "print(s2)"
   ]
  },
  {
   "cell_type": "code",
   "execution_count": null,
   "id": "0d26ca9a-9001-4194-a2b1-b17144e1f766",
   "metadata": {},
   "outputs": [],
   "source": []
  }
 ],
 "metadata": {
  "kernelspec": {
   "display_name": "Python 3 (ipykernel)",
   "language": "python",
   "name": "python3"
  },
  "language_info": {
   "codemirror_mode": {
    "name": "ipython",
    "version": 3
   },
   "file_extension": ".py",
   "mimetype": "text/x-python",
   "name": "python",
   "nbconvert_exporter": "python",
   "pygments_lexer": "ipython3",
   "version": "3.12.7"
  }
 },
 "nbformat": 4,
 "nbformat_minor": 5
}
