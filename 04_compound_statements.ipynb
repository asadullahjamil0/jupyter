{
 "cells": [
  {
   "cell_type": "code",
   "execution_count": null,
   "id": "ccf0ced0-5875-4e09-9c16-bb5ceb38f9e8",
   "metadata": {},
   "outputs": [],
   "source": [
    "def absolute_value1(x):\n",
    "    \"\"\"Compute abs(x)\"\"\"\n",
    "    if not x < 0:\n",
    "        return x\n",
    "    else:\n",
    "        return -x"
   ]
  },
  {
   "cell_type": "code",
   "execution_count": null,
   "id": "f937353d-3163-453d-9ecc-402a14fd89f2",
   "metadata": {},
   "outputs": [
    {
     "data": {
      "text/plain": [
       "3"
      ]
     },
     "execution_count": 25,
     "metadata": {},
     "output_type": "execute_result"
    }
   ],
   "source": [
    "absolute_value1(3)"
   ]
  },
  {
   "cell_type": "code",
   "execution_count": null,
   "id": "df26e45f-d96b-4d92-9d6f-97f8f6b959d9",
   "metadata": {},
   "outputs": [
    {
     "name": "stdout",
     "output_type": "stream",
     "text": [
      "a is more than 5 and b is more than 6\n",
      "Done\n"
     ]
    }
   ],
   "source": [
    "a = 6\n",
    "b = 8\n",
    "\n",
    "if a > 5:\n",
    "    if b > 6:\n",
    "        print(\"a is more than 5 and b is more than 6\")\n",
    "    else:\n",
    "        print(\"a is more than 5 BUT b is not more than 6\")\n",
    "else:\n",
    "    print(\"a is not more than 5\")\n",
    "print(\"Done\")"
   ]
  },
  {
   "cell_type": "code",
   "execution_count": 110,
   "id": "b4bb718e-15a4-4eeb-9686-047021b5cc80",
   "metadata": {},
   "outputs": [],
   "source": [
    "def sqrt(x, guess = 0.0):\n",
    "    if(x < 0):\n",
    "        return None\n",
    "    if good_enough(guess, x):\n",
    "        return guess\n",
    "    else:\n",
    "        new_guess = improve_guess(guess, x)\n",
    "        return sqrt(x, new_guess)"
   ]
  },
  {
   "cell_type": "code",
   "execution_count": 101,
   "id": "14e4c7bb-ea7d-4926-b83b-facde4dc7356",
   "metadata": {},
   "outputs": [],
   "source": [
    "def good_enough(guess, x):\n",
    "    if abs(guess * guess - x) < 0.1:\n",
    "        return True\n",
    "    else:\n",
    "        return False"
   ]
  },
  {
   "cell_type": "code",
   "execution_count": 102,
   "id": "b845e39a-079d-427f-a2ec-f16ca188116c",
   "metadata": {},
   "outputs": [],
   "source": [
    "def improve_guess(guess, x):\n",
    "    if guess < x:\n",
    "       return guess + 0.1\n",
    "    else:\n",
    "       return guess - 0.1"
   ]
  },
  {
   "cell_type": "code",
   "execution_count": 67,
   "id": "9ffdc1ca-59d3-4f16-a81e-15bd7d7b1aae",
   "metadata": {},
   "outputs": [
    {
     "data": {
      "text/plain": [
       "2.0"
      ]
     },
     "execution_count": 67,
     "metadata": {},
     "output_type": "execute_result"
    }
   ],
   "source": [
    "sqrt(4, 1.8)"
   ]
  },
  {
   "cell_type": "code",
   "execution_count": 25,
   "id": "e5bb942b-96e3-4e5c-837d-1fbe865b066c",
   "metadata": {},
   "outputs": [],
   "source": [
    "from math import sqrt\n"
   ]
  },
  {
   "cell_type": "code",
   "execution_count": 29,
   "id": "6d4ba728-5e1c-44cf-b841-892d40f3d380",
   "metadata": {},
   "outputs": [
    {
     "data": {
      "text/plain": [
       "2.0"
      ]
     },
     "execution_count": 29,
     "metadata": {},
     "output_type": "execute_result"
    }
   ],
   "source": [
    "sqrt(4)"
   ]
  },
  {
   "cell_type": "code",
   "execution_count": 3,
   "id": "1956ecbe-48f3-49cb-aeb0-36a163cca30a",
   "metadata": {},
   "outputs": [],
   "source": [
    "def find_odd_max_num(x, y, z):\n",
    "    min_num = min(x, y, z)\n",
    "    max_num = max(x, y, z)\n",
    "\n",
    "    if x % 2 != 0 or y % 2 != 0 or z % 2 != 0:\n",
    "        return max_num\n",
    "    else:        \n",
    "        return min_num"
   ]
  },
  {
   "cell_type": "code",
   "execution_count": 8,
   "id": "536f60db",
   "metadata": {},
   "outputs": [
    {
     "data": {
      "text/plain": [
       "8"
      ]
     },
     "execution_count": 8,
     "metadata": {},
     "output_type": "execute_result"
    }
   ],
   "source": [
    "find_odd_max_num(8, 10, 10)"
   ]
  },
  {
   "cell_type": "code",
   "execution_count": 10,
   "id": "bc4e8b89",
   "metadata": {},
   "outputs": [],
   "source": [
    "def oddMax(x, y, z):\n",
    "    answer = min(x, y, z)\n",
    "    if x % 2 != 0:\n",
    "        answer = x\n",
    "    if y % 2 != 0 and y > answer:\n",
    "        return y\n",
    "    if z % 2 != 0 and z > answer:\n",
    "        return z\n",
    "    print(answer)"
   ]
  },
  {
   "cell_type": "code",
   "execution_count": 13,
   "id": "adc2c9ec",
   "metadata": {},
   "outputs": [
    {
     "name": "stdout",
     "output_type": "stream",
     "text": [
      "10\n"
     ]
    }
   ],
   "source": [
    "oddMax(16, 12, 10)"
   ]
  },
  {
   "cell_type": "code",
   "execution_count": 16,
   "id": "56c887b3",
   "metadata": {},
   "outputs": [],
   "source": [
    "def odd(x, y, z):\n",
    "    answer = min(x, y, z)\n",
    "    if x % 2 != 0:\n",
    "        answer = x\n",
    "    if y % 2 != 0 and y > answer:\n",
    "        return y\n",
    "    if z % 2 != 0 and z > answer:    \n",
    "        return z\n",
    "    print(answer)"
   ]
  },
  {
   "cell_type": "code",
   "execution_count": 19,
   "id": "25f827d0-128d-4bf8-b0cd-0b45f37b1ffd",
   "metadata": {},
   "outputs": [
    {
     "data": {
      "text/plain": [
       "2"
      ]
     },
     "execution_count": 19,
     "metadata": {},
     "output_type": "execute_result"
    }
   ],
   "source": [
    "odd(6, 2, 4)"
   ]
  },
  {
   "cell_type": "code",
   "execution_count": 112,
   "id": "1cd5d60c-995b-4521-90a7-84b081a7c33e",
   "metadata": {},
   "outputs": [
    {
     "name": "stdout",
     "output_type": "stream",
     "text": [
      "None\n"
     ]
    }
   ],
   "source": [
    "print(sqrt(-4))"
   ]
  },
  {
   "cell_type": "code",
   "execution_count": null,
   "id": "cb4658e8-01d6-46a6-bfcc-6a0fd25fa0a0",
   "metadata": {},
   "outputs": [],
   "source": []
  }
 ],
 "metadata": {
  "kernelspec": {
   "display_name": "Python 3 (ipykernel)",
   "language": "python",
   "name": "python3"
  },
  "language_info": {
   "codemirror_mode": {
    "name": "ipython",
    "version": 3
   },
   "file_extension": ".py",
   "mimetype": "text/x-python",
   "name": "python",
   "nbconvert_exporter": "python",
   "pygments_lexer": "ipython3",
   "version": "3.12.7"
  }
 },
 "nbformat": 4,
 "nbformat_minor": 5
}
