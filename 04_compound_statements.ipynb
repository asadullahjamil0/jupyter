{
 "cells": [
  {
   "cell_type": "code",
   "execution_count": 23,
   "id": "ccf0ced0-5875-4e09-9c16-bb5ceb38f9e8",
   "metadata": {},
   "outputs": [],
   "source": [
    "def absolute_value1(x):\n",
    "    \"\"\"Compute abs(x)\"\"\"\n",
    "    if not x < 0:\n",
    "        return x\n",
    "    else:\n",
    "        return -x"
   ]
  },
  {
   "cell_type": "code",
   "execution_count": 25,
   "id": "f937353d-3163-453d-9ecc-402a14fd89f2",
   "metadata": {},
   "outputs": [
    {
     "data": {
      "text/plain": [
       "3"
      ]
     },
     "execution_count": 25,
     "metadata": {},
     "output_type": "execute_result"
    }
   ],
   "source": [
    "absolute_value1(3)"
   ]
  },
  {
   "cell_type": "code",
   "execution_count": 30,
   "id": "df26e45f-d96b-4d92-9d6f-97f8f6b959d9",
   "metadata": {},
   "outputs": [
    {
     "name": "stdout",
     "output_type": "stream",
     "text": [
      "a is more than 5 and b is more than 6\n",
      "Done\n"
     ]
    }
   ],
   "source": [
    "a = 6\n",
    "b = 8\n",
    "\n",
    "if a > 5:\n",
    "    if b > 6:\n",
    "        print(\"a is more than 5 and b is more than 6\")\n",
    "    else:\n",
    "        print(\"a is more than 5 BUT b is not more than 6\")\n",
    "else:\n",
    "    print(\"a is not more than 5\")\n",
    "print(\"Done\")"
   ]
  },
  {
   "cell_type": "code",
   "execution_count": 41,
   "id": "b4bb718e-15a4-4eeb-9686-047021b5cc80",
   "metadata": {},
   "outputs": [],
   "source": [
    "def sqrt(x, guess = 0.0):\n",
    "    if x < 0:\n",
    "        return None\n",
    "    if good_enough(guess, x):\n",
    "        return guess\n",
    "    else:\n",
    "        new_guess = improve_guess(guess, x)\n",
    "        return sqrt(x, new_guess)"
   ]
  },
  {
   "cell_type": "code",
   "execution_count": 32,
   "id": "14e4c7bb-ea7d-4926-b83b-facde4dc7356",
   "metadata": {},
   "outputs": [],
   "source": [
    "def good_enough(guess, x):\n",
    "    if abs(guess * guess - x) < 0.1:\n",
    "        return True\n",
    "    else:\n",
    "        return False        "
   ]
  },
  {
   "cell_type": "code",
   "execution_count": 36,
   "id": "b845e39a-079d-427f-a2ec-f16ca188116c",
   "metadata": {},
   "outputs": [],
   "source": [
    "def improve_guess(guess, x):\n",
    "    if guess < x:\n",
    "        return guess + 0.1\n",
    "    else:\n",
    "        return guess - 0.1"
   ]
  },
  {
   "cell_type": "code",
   "execution_count": 48,
   "id": "9ffdc1ca-59d3-4f16-a81e-15bd7d7b1aae",
   "metadata": {},
   "outputs": [
    {
     "data": {
      "text/plain": [
       "2.0"
      ]
     },
     "execution_count": 48,
     "metadata": {},
     "output_type": "execute_result"
    }
   ],
   "source": [
    "sqrt(4, 1.8)"
   ]
  },
  {
   "cell_type": "code",
   "execution_count": 47,
   "id": "e5bb942b-96e3-4e5c-837d-1fbe865b066c",
   "metadata": {},
   "outputs": [],
   "source": [
    "sqrt(-4)"
   ]
  },
  {
   "cell_type": "code",
   "execution_count": 49,
   "id": "6d4ba728-5e1c-44cf-b841-892d40f3d380",
   "metadata": {},
   "outputs": [
    {
     "ename": "RecursionError",
     "evalue": "maximum recursion depth exceeded",
     "output_type": "error",
     "traceback": [
      "\u001b[0;31m---------------------------------------------------------------------------\u001b[0m",
      "\u001b[0;31mRecursionError\u001b[0m                            Traceback (most recent call last)",
      "Cell \u001b[0;32mIn[49], line 1\u001b[0m\n\u001b[0;32m----> 1\u001b[0m sqrt(\u001b[38;5;241m25\u001b[39m, \u001b[38;5;241m7\u001b[39m)\n",
      "Cell \u001b[0;32mIn[41], line 8\u001b[0m, in \u001b[0;36msqrt\u001b[0;34m(x, guess)\u001b[0m\n\u001b[1;32m      6\u001b[0m \u001b[38;5;28;01melse\u001b[39;00m:\n\u001b[1;32m      7\u001b[0m     new_guess \u001b[38;5;241m=\u001b[39m improve_guess(guess, x)\n\u001b[0;32m----> 8\u001b[0m     \u001b[38;5;28;01mreturn\u001b[39;00m sqrt(x, new_guess)\n",
      "Cell \u001b[0;32mIn[41], line 8\u001b[0m, in \u001b[0;36msqrt\u001b[0;34m(x, guess)\u001b[0m\n\u001b[1;32m      6\u001b[0m \u001b[38;5;28;01melse\u001b[39;00m:\n\u001b[1;32m      7\u001b[0m     new_guess \u001b[38;5;241m=\u001b[39m improve_guess(guess, x)\n\u001b[0;32m----> 8\u001b[0m     \u001b[38;5;28;01mreturn\u001b[39;00m sqrt(x, new_guess)\n",
      "    \u001b[0;31m[... skipping similar frames: sqrt at line 8 (2974 times)]\u001b[0m\n",
      "Cell \u001b[0;32mIn[41], line 8\u001b[0m, in \u001b[0;36msqrt\u001b[0;34m(x, guess)\u001b[0m\n\u001b[1;32m      6\u001b[0m \u001b[38;5;28;01melse\u001b[39;00m:\n\u001b[1;32m      7\u001b[0m     new_guess \u001b[38;5;241m=\u001b[39m improve_guess(guess, x)\n\u001b[0;32m----> 8\u001b[0m     \u001b[38;5;28;01mreturn\u001b[39;00m sqrt(x, new_guess)\n",
      "Cell \u001b[0;32mIn[41], line 4\u001b[0m, in \u001b[0;36msqrt\u001b[0;34m(x, guess)\u001b[0m\n\u001b[1;32m      2\u001b[0m \u001b[38;5;28;01mif\u001b[39;00m x \u001b[38;5;241m<\u001b[39m \u001b[38;5;241m0\u001b[39m:\n\u001b[1;32m      3\u001b[0m     \u001b[38;5;28;01mreturn\u001b[39;00m \u001b[38;5;28;01mNone\u001b[39;00m\n\u001b[0;32m----> 4\u001b[0m \u001b[38;5;28;01mif\u001b[39;00m good_enough(guess, x):\n\u001b[1;32m      5\u001b[0m     \u001b[38;5;28;01mreturn\u001b[39;00m guess\n\u001b[1;32m      6\u001b[0m \u001b[38;5;28;01melse\u001b[39;00m:\n",
      "\u001b[0;31mRecursionError\u001b[0m: maximum recursion depth exceeded"
     ]
    }
   ],
   "source": [
    "sqrt(25, 7)"
   ]
  },
  {
   "cell_type": "code",
   "execution_count": null,
   "id": "1956ecbe-48f3-49cb-aeb0-36a163cca30a",
   "metadata": {},
   "outputs": [],
   "source": []
  }
 ],
 "metadata": {
  "kernelspec": {
   "display_name": "Python 3 (ipykernel)",
   "language": "python",
   "name": "python3"
  },
  "language_info": {
   "codemirror_mode": {
    "name": "ipython",
    "version": 3
   },
   "file_extension": ".py",
   "mimetype": "text/x-python",
   "name": "python",
   "nbconvert_exporter": "python",
   "pygments_lexer": "ipython3",
   "version": "3.12.7"
  }
 },
 "nbformat": 4,
 "nbformat_minor": 5
}
