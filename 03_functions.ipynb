{
 "cells": [
  {
   "cell_type": "code",
   "execution_count": 16,
   "id": "44537550-5bb0-492a-a683-dcdbf85ee892",
   "metadata": {},
   "outputs": [],
   "source": [
    "def square(x):\n",
    "    return (x * x)  # notice the indentation"
   ]
  },
  {
   "cell_type": "code",
   "execution_count": 17,
   "id": "a20a4033-fdb5-439e-918e-7ce45cc9d066",
   "metadata": {},
   "outputs": [
    {
     "data": {
      "text/plain": [
       "54756"
      ]
     },
     "execution_count": 17,
     "metadata": {},
     "output_type": "execute_result"
    }
   ],
   "source": [
    "square(234)"
   ]
  },
  {
   "cell_type": "code",
   "execution_count": 18,
   "id": "02aef788-7d07-4cbb-a239-fe6d79b9acf4",
   "metadata": {},
   "outputs": [],
   "source": [
    "v = square(23)"
   ]
  },
  {
   "cell_type": "code",
   "execution_count": 19,
   "id": "e648fe46-fdb8-4e9c-ad17-af641e41d790",
   "metadata": {},
   "outputs": [
    {
     "data": {
      "text/plain": [
       "529"
      ]
     },
     "execution_count": 19,
     "metadata": {},
     "output_type": "execute_result"
    }
   ],
   "source": [
    "v"
   ]
  },
  {
   "cell_type": "code",
   "execution_count": 20,
   "id": "4133fd2c-1cf9-48a2-8cde-2de8016984b4",
   "metadata": {},
   "outputs": [],
   "source": [
    "def sum_squares(x, y):\n",
    "    return square(x) + square(y)"
   ]
  },
  {
   "cell_type": "code",
   "execution_count": 28,
   "id": "10fe858e-cc09-4d71-8c59-31b4605cfeee",
   "metadata": {},
   "outputs": [],
   "source": [
    "result = sum_squares(2, 3)"
   ]
  },
  {
   "cell_type": "code",
   "execution_count": 29,
   "id": "93edd81c-6aef-49a0-a1e7-6d27fbfc7902",
   "metadata": {},
   "outputs": [
    {
     "data": {
      "text/plain": [
       "13"
      ]
     },
     "execution_count": 29,
     "metadata": {},
     "output_type": "execute_result"
    }
   ],
   "source": [
    "result"
   ]
  },
  {
   "cell_type": "code",
   "execution_count": 22,
   "id": "f7ebf81c-d6c9-496c-97ea-a06c4d27b5b6",
   "metadata": {},
   "outputs": [],
   "source": [
    "def qube(x):\n",
    "    return (x * x * x)"
   ]
  },
  {
   "cell_type": "code",
   "execution_count": 23,
   "id": "f474edcf-b4a4-4647-87c3-ed8fab1d18e6",
   "metadata": {},
   "outputs": [
    {
     "data": {
      "text/plain": [
       "27"
      ]
     },
     "execution_count": 23,
     "metadata": {},
     "output_type": "execute_result"
    }
   ],
   "source": [
    "qube(3)"
   ]
  },
  {
   "cell_type": "code",
   "execution_count": 24,
   "id": "3498cc69-3dce-4909-85df-3e7b32db89a4",
   "metadata": {},
   "outputs": [],
   "source": [
    "def sum_qubes(x,y):\n",
    "    return qube(x) + qube(y)"
   ]
  },
  {
   "cell_type": "code",
   "execution_count": 26,
   "id": "a78599f3-6a2d-4f05-aa88-2b0935c050cb",
   "metadata": {},
   "outputs": [],
   "source": [
    "result = sum_qubes(3, 3)"
   ]
  },
  {
   "cell_type": "code",
   "execution_count": 27,
   "id": "e60bef89-3304-415c-b883-8dcd330d16e3",
   "metadata": {},
   "outputs": [
    {
     "data": {
      "text/plain": [
       "54"
      ]
     },
     "execution_count": 27,
     "metadata": {},
     "output_type": "execute_result"
    }
   ],
   "source": [
    "result"
   ]
  },
  {
   "cell_type": "code",
   "execution_count": 30,
   "id": "a977464b-0e53-4b6f-a56d-4f802e1fac49",
   "metadata": {},
   "outputs": [
    {
     "data": {
      "text/plain": [
       "10.889999999999999"
      ]
     },
     "execution_count": 30,
     "metadata": {},
     "output_type": "execute_result"
    }
   ],
   "source": [
    "square(3.3)"
   ]
  },
  {
   "cell_type": "code",
   "execution_count": 32,
   "id": "28cebec8-a3f6-458a-95f2-0244485bc990",
   "metadata": {},
   "outputs": [
    {
     "ename": "TypeError",
     "evalue": "can't multiply sequence by non-int of type 'str'",
     "output_type": "error",
     "traceback": [
      "\u001b[0;31m---------------------------------------------------------------------------\u001b[0m",
      "\u001b[0;31mTypeError\u001b[0m                                 Traceback (most recent call last)",
      "Cell \u001b[0;32mIn[32], line 1\u001b[0m\n\u001b[0;32m----> 1\u001b[0m sum_squares(\u001b[38;5;124m'\u001b[39m\u001b[38;5;124ma\u001b[39m\u001b[38;5;124m'\u001b[39m, \u001b[38;5;241m2\u001b[39m)\n",
      "Cell \u001b[0;32mIn[20], line 2\u001b[0m, in \u001b[0;36msum_squares\u001b[0;34m(x, y)\u001b[0m\n\u001b[1;32m      1\u001b[0m \u001b[38;5;28;01mdef\u001b[39;00m \u001b[38;5;21msum_squares\u001b[39m(x, y):\n\u001b[0;32m----> 2\u001b[0m     \u001b[38;5;28;01mreturn\u001b[39;00m square(x) \u001b[38;5;241m+\u001b[39m square(y)\n",
      "Cell \u001b[0;32mIn[16], line 2\u001b[0m, in \u001b[0;36msquare\u001b[0;34m(x)\u001b[0m\n\u001b[1;32m      1\u001b[0m \u001b[38;5;28;01mdef\u001b[39;00m \u001b[38;5;21msquare\u001b[39m(x):\n\u001b[0;32m----> 2\u001b[0m     \u001b[38;5;28;01mreturn\u001b[39;00m (x \u001b[38;5;241m*\u001b[39m x)\n",
      "\u001b[0;31mTypeError\u001b[0m: can't multiply sequence by non-int of type 'str'"
     ]
    }
   ],
   "source": [
    "sum_squares('a', 2)"
   ]
  },
  {
   "cell_type": "code",
   "execution_count": 42,
   "id": "b5d5a04e-5c54-4ead-8c83-76b40714bc3f",
   "metadata": {},
   "outputs": [],
   "source": [
    "def sqrt(num, guess = 1):\n",
    "    print(\"Finding square root of\" ,num, \"starting with guess:\",guess)"
   ]
  },
  {
   "cell_type": "code",
   "execution_count": 43,
   "id": "7b871fcd-70f3-4002-a03c-f9a296abce37",
   "metadata": {},
   "outputs": [
    {
     "name": "stdout",
     "output_type": "stream",
     "text": [
      "Finding square root of 36 starting with guess: 3\n"
     ]
    }
   ],
   "source": [
    "sqrt(36, 3)"
   ]
  },
  {
   "cell_type": "code",
   "execution_count": 1,
   "id": "878ba46a-29b0-4542-989b-6960f31df47e",
   "metadata": {},
   "outputs": [],
   "source": [
    "from math import pi\n",
    "def get_area(radius):\n",
    "    return pi * (radius * radius)"
   ]
  },
  {
   "cell_type": "code",
   "execution_count": 2,
   "id": "565194f3-afc6-430c-a6de-e4bedc29b531",
   "metadata": {},
   "outputs": [
    {
     "data": {
      "text/plain": [
       "12.566370614359172"
      ]
     },
     "execution_count": 2,
     "metadata": {},
     "output_type": "execute_result"
    }
   ],
   "source": [
    "get_area(2)"
   ]
  },
  {
   "cell_type": "code",
   "execution_count": 3,
   "id": "b33ccd84-ded5-4a73-992a-99ec050ef57c",
   "metadata": {},
   "outputs": [
    {
     "data": {
      "text/plain": [
       "1661.9025137490005"
      ]
     },
     "execution_count": 3,
     "metadata": {},
     "output_type": "execute_result"
    }
   ],
   "source": [
    "get_area(23)"
   ]
  },
  {
   "cell_type": "code",
   "execution_count": 4,
   "id": "e5b05f4d",
   "metadata": {},
   "outputs": [],
   "source": [
    "def output_paramter(radius):\n",
    "    print(\"The parameter of the circle with radius\",radius,\"is\",(2 * pi * radius))"
   ]
  },
  {
   "cell_type": "code",
   "execution_count": 5,
   "id": "cb6e80ca",
   "metadata": {},
   "outputs": [
    {
     "name": "stdout",
     "output_type": "stream",
     "text": [
      "The parameter of the circle with radius 1 is 6.283185307179586\n"
     ]
    }
   ],
   "source": [
    "output_paramter(1)"
   ]
  }
 ],
 "metadata": {
  "kernelspec": {
   "display_name": "base",
   "language": "python",
   "name": "python3"
  },
  "language_info": {
   "codemirror_mode": {
    "name": "ipython",
    "version": 3
   },
   "file_extension": ".py",
   "mimetype": "text/x-python",
   "name": "python",
   "nbconvert_exporter": "python",
   "pygments_lexer": "ipython3",
   "version": "3.12.7"
  }
 },
 "nbformat": 4,
 "nbformat_minor": 5
}
