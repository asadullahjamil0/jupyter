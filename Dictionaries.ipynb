{
 "cells": [
  {
   "cell_type": "code",
   "execution_count": 1,
   "id": "327a5b37-96bf-4546-aa10-3eaa94b0a14e",
   "metadata": {},
   "outputs": [],
   "source": [
    "d = {\n",
    "    \"random\": \"value that has no order\",\n",
    "    \n",
    "}"
   ]
  },
  {
   "cell_type": "code",
   "execution_count": 4,
   "id": "6c0b4761-0ad4-44c9-989b-e2a9bcd5be9d",
   "metadata": {},
   "outputs": [
    {
     "data": {
      "text/plain": [
       "'value that has no order'"
      ]
     },
     "execution_count": 4,
     "metadata": {},
     "output_type": "execute_result"
    }
   ],
   "source": [
    "d[\"random\"]"
   ]
  },
  {
   "cell_type": "code",
   "execution_count": 5,
   "id": "551d12be-8d25-4dd0-a5f4-dd028d02d0a7",
   "metadata": {},
   "outputs": [],
   "source": [
    "d['variable']= \"A memory location, tha value of which can change\""
   ]
  },
  {
   "cell_type": "code",
   "execution_count": 6,
   "id": "8ec9f447-1e09-40ec-8165-9a09c873aa72",
   "metadata": {},
   "outputs": [
    {
     "data": {
      "text/plain": [
       "{'random': 'value that has no order',\n",
       " 'variable': 'A memory location, tha value of which can change'}"
      ]
     },
     "execution_count": 6,
     "metadata": {},
     "output_type": "execute_result"
    }
   ],
   "source": [
    "d"
   ]
  },
  {
   "cell_type": "code",
   "execution_count": 7,
   "id": "f42879ff-8cfa-4fc0-83eb-affe76c8da81",
   "metadata": {},
   "outputs": [
    {
     "data": {
      "text/plain": [
       "'A memory location, tha value of which can change'"
      ]
     },
     "execution_count": 7,
     "metadata": {},
     "output_type": "execute_result"
    }
   ],
   "source": [
    "d['variable']"
   ]
  },
  {
   "cell_type": "code",
   "execution_count": 8,
   "id": "9c89c20a-f764-4c95-b36a-035eb3b3e70b",
   "metadata": {},
   "outputs": [
    {
     "ename": "KeyError",
     "evalue": "'python'",
     "output_type": "error",
     "traceback": [
      "\u001b[0;31m---------------------------------------------------------------------------\u001b[0m",
      "\u001b[0;31mKeyError\u001b[0m                                  Traceback (most recent call last)",
      "Cell \u001b[0;32mIn[8], line 1\u001b[0m\n\u001b[0;32m----> 1\u001b[0m d[\u001b[38;5;124m'\u001b[39m\u001b[38;5;124mpython\u001b[39m\u001b[38;5;124m'\u001b[39m]\n",
      "\u001b[0;31mKeyError\u001b[0m: 'python'"
     ]
    }
   ],
   "source": [
    "d['python']"
   ]
  },
  {
   "cell_type": "code",
   "execution_count": 20,
   "id": "0f59e3bf-743b-4958-b785-07f43061575a",
   "metadata": {},
   "outputs": [
    {
     "name": "stdout",
     "output_type": "stream",
     "text": [
      "variable : value that has no order\n",
      "variable : A memory location, tha value of which can change\n"
     ]
    }
   ],
   "source": [
    "for k in d:\n",
    "    v = d[k]\n",
    "    print(a,\":\", v)"
   ]
  },
  {
   "cell_type": "code",
   "execution_count": 24,
   "id": "0daaf345-be6e-4cb8-9c0b-58f906d15b1c",
   "metadata": {},
   "outputs": [
    {
     "data": {
      "text/plain": [
       "True"
      ]
     },
     "execution_count": 24,
     "metadata": {},
     "output_type": "execute_result"
    }
   ],
   "source": [
    "\"random\" in d"
   ]
  },
  {
   "cell_type": "code",
   "execution_count": 25,
   "id": "fe164e4a-6fd4-4191-89b6-b383d49400ed",
   "metadata": {},
   "outputs": [
    {
     "name": "stdout",
     "output_type": "stream",
     "text": [
      "the keyword else is not in d\n"
     ]
    }
   ],
   "source": [
    "if \"else\" not in d:\n",
    "    print(\"the keyword else is not in d\")\n",
    "else:\n",
    "    print(\"else in d\")"
   ]
  },
  {
   "cell_type": "code",
   "execution_count": 26,
   "id": "2e49aa95-220e-46b7-ae1e-44e6fc8ebe63",
   "metadata": {},
   "outputs": [
    {
     "data": {
      "text/plain": [
       "dict_items([('random', 'value that has no order'), ('variable', 'A memory location, tha value of which can change')])"
      ]
     },
     "execution_count": 26,
     "metadata": {},
     "output_type": "execute_result"
    }
   ],
   "source": [
    "d.items()"
   ]
  },
  {
   "cell_type": "code",
   "execution_count": 27,
   "id": "ca5fa607-86c9-404e-9fee-63f86fb7082a",
   "metadata": {},
   "outputs": [],
   "source": [
    "l = d.items()"
   ]
  },
  {
   "cell_type": "code",
   "execution_count": 40,
   "id": "07963a93-0240-459d-9853-fa6b7bda5a6e",
   "metadata": {},
   "outputs": [
    {
     "data": {
      "text/plain": [
       "dict_items([('random', 'value that has no order'), ('variable', 'A memory location, tha value of which can change')])"
      ]
     },
     "execution_count": 40,
     "metadata": {},
     "output_type": "execute_result"
    }
   ],
   "source": [
    "l"
   ]
  },
  {
   "cell_type": "code",
   "execution_count": 62,
   "id": "ec5d6de7-db85-4190-9534-e7c2726ff251",
   "metadata": {},
   "outputs": [
    {
     "name": "stdout",
     "output_type": "stream",
     "text": [
      "random : value that has no order\n",
      "variable : A memory location, tha value of which can change\n"
     ]
    }
   ],
   "source": [
    "for k, v in d.items():\n",
    "    print(k, \":\", v)"
   ]
  },
  {
   "cell_type": "code",
   "execution_count": 58,
   "id": "476f9e48-2540-4700-a88e-341701a15d81",
   "metadata": {},
   "outputs": [],
   "source": [
    "digits = [[1, 2], [3, 4], [5, 6]]"
   ]
  },
  {
   "cell_type": "code",
   "execution_count": 59,
   "id": "05cf96d5-7315-4929-97ff-2b27a0586da8",
   "metadata": {},
   "outputs": [
    {
     "name": "stdout",
     "output_type": "stream",
     "text": [
      "1 2\n",
      "3 4\n",
      "5 6\n"
     ]
    }
   ],
   "source": [
    "for a, b in digits:\n",
    "    print(a, b)"
   ]
  },
  {
   "cell_type": "code",
   "execution_count": 66,
   "id": "59777a9b-39b7-4538-97da-1d18b9286784",
   "metadata": {},
   "outputs": [
    {
     "name": "stdout",
     "output_type": "stream",
     "text": [
      "Connecting to 121.52.145.151:8000\n"
     ]
    }
   ],
   "source": [
    "autograder_conf = {\n",
    "    'url' : '121.52.145.151:8000',\n",
    "    'username' : 'p1111111',\n",
    "    'submission_pass' : 'abc-334'\n",
    "}\n",
    "print (\"Connecting to\", autograder_conf['url'])"
   ]
  },
  {
   "cell_type": "code",
   "execution_count": 67,
   "id": "78ed128c-2fcd-4c3e-bac2-ec6ea2081ea4",
   "metadata": {},
   "outputs": [],
   "source": [
    "num_names = {\n",
    "    1: 'one',\n",
    "    2: 'two',\n",
    "    3: 'Three',\n",
    "    4: 'Four',\n",
    "    5: 'Five',\n",
    "}"
   ]
  },
  {
   "cell_type": "code",
   "execution_count": 69,
   "id": "6290bd3f-a4cc-4f54-a475-1ac70084db8b",
   "metadata": {},
   "outputs": [
    {
     "data": {
      "text/plain": [
       "'one'"
      ]
     },
     "execution_count": 69,
     "metadata": {},
     "output_type": "execute_result"
    }
   ],
   "source": [
    "num_names[ 1 ]"
   ]
  },
  {
   "cell_type": "code",
   "execution_count": 70,
   "id": "98ee5385-0e88-4eef-840c-7d3cd33f020f",
   "metadata": {},
   "outputs": [],
   "source": [
    "v = '1'"
   ]
  },
  {
   "cell_type": "code",
   "execution_count": 72,
   "id": "8291b2db-39c5-4988-8c96-53a9e44acb5a",
   "metadata": {},
   "outputs": [
    {
     "data": {
      "text/plain": [
       "'one'"
      ]
     },
     "execution_count": 72,
     "metadata": {},
     "output_type": "execute_result"
    }
   ],
   "source": [
    "num_names[ int(v) ] "
   ]
  },
  {
   "cell_type": "code",
   "execution_count": null,
   "id": "40c4e25b-9994-4f75-977f-9544dea7e5da",
   "metadata": {},
   "outputs": [],
   "source": []
  }
 ],
 "metadata": {
  "kernelspec": {
   "display_name": "Python 3 (ipykernel)",
   "language": "python",
   "name": "python3"
  },
  "language_info": {
   "codemirror_mode": {
    "name": "ipython",
    "version": 3
   },
   "file_extension": ".py",
   "mimetype": "text/x-python",
   "name": "python",
   "nbconvert_exporter": "python",
   "pygments_lexer": "ipython3",
   "version": "3.12.7"
  }
 },
 "nbformat": 4,
 "nbformat_minor": 5
}
