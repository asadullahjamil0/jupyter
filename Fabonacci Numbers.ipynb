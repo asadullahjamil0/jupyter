{
 "cells": [
  {
   "cell_type": "code",
   "execution_count": 1,
   "id": "17f15da1-4acb-4cd3-b0b6-4d6e85c190be",
   "metadata": {},
   "outputs": [],
   "source": [
    "def fab(n):\n",
    "    if n <= 1:\n",
    "        return n\n",
    "    else:\n",
    "        return fab(n-1) + fab(n-2)"
   ]
  },
  {
   "cell_type": "code",
   "execution_count": 2,
   "id": "6bbab833-c180-4226-97ef-b62bad9d115f",
   "metadata": {},
   "outputs": [
    {
     "data": {
      "text/plain": [
       "5"
      ]
     },
     "execution_count": 2,
     "metadata": {},
     "output_type": "execute_result"
    }
   ],
   "source": [
    "fab(5)"
   ]
  },
  {
   "cell_type": "code",
   "execution_count": 3,
   "id": "3351ed28-48e5-452f-8fd9-b7f733597253",
   "metadata": {},
   "outputs": [
    {
     "data": {
      "text/plain": [
       "9227465"
      ]
     },
     "execution_count": 3,
     "metadata": {},
     "output_type": "execute_result"
    }
   ],
   "source": [
    "fab(35)"
   ]
  },
  {
   "cell_type": "code",
   "execution_count": 4,
   "id": "8984cf4e-52eb-4adb-b23f-e3f182774321",
   "metadata": {},
   "outputs": [
    {
     "name": "stdout",
     "output_type": "stream",
     "text": [
      "CPU times: total: 23.2 s\n",
      "Wall time: 23.8 s\n"
     ]
    },
    {
     "data": {
      "text/plain": [
       "63245986"
      ]
     },
     "execution_count": 4,
     "metadata": {},
     "output_type": "execute_result"
    }
   ],
   "source": [
    "%time fab(39)"
   ]
  },
  {
   "cell_type": "code",
   "execution_count": 5,
   "id": "ba2d35b5-1482-44ba-9761-79114872602f",
   "metadata": {},
   "outputs": [],
   "source": [
    "def fab2(n):\n",
    "    if n <= 0: return n\n",
    "\n",
    "    a, b = 0, 1\n",
    "    \n",
    "    for i in range(1, n+1):\n",
    "        n = a + b\n",
    "        a = b\n",
    "        b = n\n",
    "        \n",
    "    return a   "
   ]
  },
  {
   "cell_type": "code",
   "execution_count": 6,
   "id": "2951fb8a-763b-4d06-927e-fd3966d640b5",
   "metadata": {},
   "outputs": [
    {
     "data": {
      "text/plain": [
       "63245986"
      ]
     },
     "execution_count": 6,
     "metadata": {},
     "output_type": "execute_result"
    }
   ],
   "source": [
    "fab2(39)"
   ]
  },
  {
   "cell_type": "code",
   "execution_count": 8,
   "id": "ac1f58e5-2725-4beb-934e-23761a9b7bd5",
   "metadata": {},
   "outputs": [
    {
     "name": "stdout",
     "output_type": "stream",
     "text": [
      "CPU times: total: 0 ns\n",
      "Wall time: 0 ns\n"
     ]
    },
    {
     "data": {
      "text/plain": [
       "1431181439314368982806567444246559718305231073036073662367607266895781713447936520"
      ]
     },
     "execution_count": 8,
     "metadata": {},
     "output_type": "execute_result"
    }
   ],
   "source": [
    "%time fab2(390)"
   ]
  },
  {
   "cell_type": "code",
   "execution_count": 5,
   "id": "4cdcd153-ccf7-46c2-962e-3fbf1af28714",
   "metadata": {},
   "outputs": [],
   "source": [
    "from math import sqrt"
   ]
  },
  {
   "cell_type": "code",
   "execution_count": 12,
   "id": "a53c797b",
   "metadata": {},
   "outputs": [
    {
     "name": "stdout",
     "output_type": "stream",
     "text": [
      "CPU times: user 5 μs, sys: 1 μs, total: 6 μs\n",
      "Wall time: 9.54 μs\n"
     ]
    },
    {
     "data": {
      "text/plain": [
       "36.373066958946424"
      ]
     },
     "execution_count": 12,
     "metadata": {},
     "output_type": "execute_result"
    }
   ],
   "source": [
    "%time sqrt(1323)"
   ]
  },
  {
   "cell_type": "code",
   "execution_count": null,
   "id": "0b99ddeb",
   "metadata": {},
   "outputs": [],
   "source": []
  }
 ],
 "metadata": {
  "kernelspec": {
   "display_name": "Python 3 (ipykernel)",
   "language": "python",
   "name": "python3"
  },
  "language_info": {
   "codemirror_mode": {
    "name": "ipython",
    "version": 3
   },
   "file_extension": ".py",
   "mimetype": "text/x-python",
   "name": "python",
   "nbconvert_exporter": "python",
   "pygments_lexer": "ipython3",
   "version": "3.12.7"
  }
 },
 "nbformat": 4,
 "nbformat_minor": 5
}
