{
 "cells": [
  {
   "cell_type": "code",
   "execution_count": 2,
   "id": "dd0936b1-e13d-4bee-b0e5-63c39b9e921b",
   "metadata": {},
   "outputs": [],
   "source": [
    "class Point:\n",
    "    def __init__(self, x = 0, y = 0):\n",
    "        self.x = x\n",
    "        self.y = y\n",
    "    def __str__(self):\n",
    "        return \"[\" + str(self.x) + \",\" + str(self.y) + \"]\"\n",
    "     "
   ]
  },
  {
   "cell_type": "code",
   "execution_count": 3,
   "id": "11518255-5fb4-4fa1-b194-4a1e3de0e37c",
   "metadata": {},
   "outputs": [],
   "source": [
    "p1 = Point()\n"
   ]
  },
  {
   "cell_type": "code",
   "execution_count": 4,
   "id": "0cef05f7-61e6-43f5-b951-484150de7ee9",
   "metadata": {},
   "outputs": [
    {
     "name": "stdout",
     "output_type": "stream",
     "text": [
      "p1 =  0\n"
     ]
    }
   ],
   "source": [
    "print(\"p1 = \", p1.x)"
   ]
  },
  {
   "cell_type": "code",
   "execution_count": 5,
   "id": "8e244129-efcb-4bef-aa22-03f40630e924",
   "metadata": {},
   "outputs": [],
   "source": [
    "p2 = Point(2, 4)"
   ]
  },
  {
   "cell_type": "code",
   "execution_count": 6,
   "id": "1026417f-fb5a-4618-be0c-23c46c7b403e",
   "metadata": {},
   "outputs": [
    {
     "name": "stdout",
     "output_type": "stream",
     "text": [
      "p2 =  2\n"
     ]
    }
   ],
   "source": [
    "print(\"p2 = \", p2.x)"
   ]
  },
  {
   "cell_type": "code",
   "execution_count": 7,
   "id": "395829ea-5c22-4bf4-b81d-5a394deaad9c",
   "metadata": {},
   "outputs": [
    {
     "name": "stdout",
     "output_type": "stream",
     "text": [
      "[2,4]\n"
     ]
    }
   ],
   "source": [
    "print(p2)"
   ]
  },
  {
   "cell_type": "code",
   "execution_count": 8,
   "id": "172d04fe-6014-4559-b08a-38bec6735ef0",
   "metadata": {},
   "outputs": [],
   "source": [
    "class Shape:\n",
    "    def __init__(self, points):\n",
    "        self.points = points\n",
    "    def __str__(self):\n",
    "        ret = \" \"\n",
    "        for i in self.points:\n",
    "            ret += str(i) + \" - \"\n",
    "        return ret"
   ]
  },
  {
   "cell_type": "code",
   "execution_count": 9,
   "id": "e5e17e66-a82b-4089-9f5f-416085dd5048",
   "metadata": {},
   "outputs": [],
   "source": [
    "p1 = [5, 5]\n",
    "p2 = [10, 5]\n",
    "p3 = [5, 10]\n",
    "p = [ p1, p2, p3]\n",
    "sh = Shape(p)"
   ]
  },
  {
   "cell_type": "code",
   "execution_count": 10,
   "id": "1aa349d3-24de-467a-93fe-39345fd7e192",
   "metadata": {},
   "outputs": [
    {
     "name": "stdout",
     "output_type": "stream",
     "text": [
      " [5, 5] - [10, 5] - [5, 10] - \n"
     ]
    }
   ],
   "source": [
    "print(sh)"
   ]
  },
  {
   "cell_type": "code",
   "execution_count": 11,
   "id": "8e81fec8-4831-45ed-9dbf-85d713a089d8",
   "metadata": {},
   "outputs": [],
   "source": [
    "# Composition\n",
    "def print_points(self):\n",
    "    for i in self.points:\n",
    "        print(i)\n",
    "        \n",
    "Shape.print_points = print_points"
   ]
  },
  {
   "cell_type": "code",
   "execution_count": 12,
   "id": "c28e562e-2b61-4e6e-8026-416702f9f9f8",
   "metadata": {},
   "outputs": [
    {
     "name": "stdout",
     "output_type": "stream",
     "text": [
      "[5, 5]\n",
      "[10, 5]\n",
      "[5, 10]\n"
     ]
    }
   ],
   "source": [
    "sh.print_points()"
   ]
  },
  {
   "cell_type": "code",
   "execution_count": 13,
   "id": "37dd7e5c-757f-4c1f-bd10-a769dc7a46f6",
   "metadata": {},
   "outputs": [],
   "source": [
    "# Inheritance\n",
    "class Rectangle(Shape):\n",
    "    pass"
   ]
  },
  {
   "cell_type": "code",
   "execution_count": 14,
   "id": "53fced99-5e26-4d8e-9de6-f592fd8e64ab",
   "metadata": {},
   "outputs": [],
   "source": [
    "t = Rectangle(p)"
   ]
  },
  {
   "cell_type": "code",
   "execution_count": 15,
   "id": "65b3762c-df6c-4bd3-9a7d-989feb74e09b",
   "metadata": {},
   "outputs": [
    {
     "name": "stdout",
     "output_type": "stream",
     "text": [
      "[5, 5]\n",
      "[10, 5]\n",
      "[5, 10]\n"
     ]
    }
   ],
   "source": [
    "t.print_points()"
   ]
  },
  {
   "cell_type": "code",
   "execution_count": 16,
   "id": "f500401b-4931-4804-81c5-a75acb7926b5",
   "metadata": {},
   "outputs": [
    {
     "name": "stdout",
     "output_type": "stream",
     "text": [
      " [5, 5] - [10, 5] - [5, 10] - \n"
     ]
    }
   ],
   "source": [
    "print(t)"
   ]
  },
  {
   "cell_type": "code",
   "execution_count": 19,
   "id": "9448e86f-34c1-48b0-aaa5-c257d846d94d",
   "metadata": {},
   "outputs": [],
   "source": [
    "class Square(Rectangle):\n",
    "    def __init__(self, length):\n",
    "        super().__init__(length, length)\n",
    "    def __str__(self):\n",
    "        return \"Square: \"+ super().__str__()"
   ]
  },
  {
   "cell_type": "code",
   "execution_count": 94,
   "id": "970ac442-0e3a-45aa-acf8-9ee642c2780b",
   "metadata": {},
   "outputs": [],
   "source": [
    "def fab1(n):\n",
    "    a = 1\n",
    "    b = 1\n",
    "    for i in range(n):\n",
    "        a, b = b, a+b\n",
    "    return a\n"
   ]
  },
  {
   "cell_type": "code",
   "execution_count": 95,
   "id": "9edc6897-bf21-4fb2-9a9e-ed8786d0cb60",
   "metadata": {},
   "outputs": [
    {
     "data": {
      "text/plain": [
       "987"
      ]
     },
     "execution_count": 95,
     "metadata": {},
     "output_type": "execute_result"
    }
   ],
   "source": [
    "fab(15)"
   ]
  },
  {
   "cell_type": "code",
   "execution_count": 96,
   "id": "18e911fa-b8e1-4e38-b6ac-c1d68cbe10d7",
   "metadata": {},
   "outputs": [],
   "source": [
    "def fab2(n):\n",
    "    if n <= 1:\n",
    "        return 1\n",
    "    else:\n",
    "        return fab(n-2) + fab(n-1)"
   ]
  },
  {
   "cell_type": "code",
   "execution_count": 97,
   "id": "a0ca022b-5ee4-41f8-a9ac-9785f948521d",
   "metadata": {},
   "outputs": [
    {
     "data": {
      "text/plain": [
       "987"
      ]
     },
     "execution_count": 97,
     "metadata": {},
     "output_type": "execute_result"
    }
   ],
   "source": [
    "fab2(15)"
   ]
  },
  {
   "cell_type": "code",
   "execution_count": 99,
   "id": "d6e3cc41-a3be-46f6-ae08-bfcf8dbf2a53",
   "metadata": {},
   "outputs": [
    {
     "name": "stdout",
     "output_type": "stream",
     "text": [
      "Fab: \n",
      "1, 1, 2, 3, 5, 8, 13, 21, 34, 55, 89, 144, 233, 377, 610, \n",
      "Fab2: \n",
      "1, 1, 2, 3, 5, 8, 13, 21, 34, 55, 89, 144, 233, 377, 610, "
     ]
    }
   ],
   "source": [
    "print(\"Fab: \")\n",
    "for i in range(15):\n",
    "    print(fab(i), end= \", \")\n",
    "\n",
    "print(\"\\nFab2: \")\n",
    "for i in range(15):\n",
    "    print(fab2(i), end= \", \")"
   ]
  },
  {
   "cell_type": "code",
   "execution_count": 80,
   "id": "485ded1f-689a-4ca7-bdd9-682ad6e413ff",
   "metadata": {},
   "outputs": [],
   "source": [
    "import time\n",
    "def compute_time(fn, limit):\n",
    "    l = []\n",
    "    for i in range(limit):\n",
    "        start_time = int(round(time.time() * 1000))\n",
    "                     \n",
    "        fn(i)    \n",
    "        end_time = int(round(time.time() * 1000))\n",
    "    \n",
    "        time_taken = end_time - start_time\n",
    "        l.append(time_taken)\n",
    "    return l"
   ]
  },
  {
   "cell_type": "code",
   "execution_count": 93,
   "id": "bc4f9f61-3b56-41b4-8899-1abf632b4b37",
   "metadata": {},
   "outputs": [
    {
     "ename": "NameError",
     "evalue": "name 'fab1' is not defined",
     "output_type": "error",
     "traceback": [
      "\u001b[1;31m---------------------------------------------------------------------------\u001b[0m",
      "\u001b[1;31mNameError\u001b[0m                                 Traceback (most recent call last)",
      "Cell \u001b[1;32mIn[93], line 2\u001b[0m\n\u001b[0;32m      1\u001b[0m limit \u001b[38;5;241m=\u001b[39m \u001b[38;5;241m150\u001b[39m\n\u001b[1;32m----> 2\u001b[0m fab1_time \u001b[38;5;241m=\u001b[39m compute_time(fab1, limit)\n\u001b[0;32m      3\u001b[0m fab2_time \u001b[38;5;241m=\u001b[39m compute_time(fab2, limit)\n",
      "\u001b[1;31mNameError\u001b[0m: name 'fab1' is not defined"
     ]
    }
   ],
   "source": [
    "limit = 150\n",
    "fab1_time = compute_time(fab1, limit)\n",
    "fab2_time = compute_time(fab2, limit)"
   ]
  },
  {
   "cell_type": "code",
   "execution_count": 88,
   "id": "f89a4b96-8d86-4ac8-8eb3-596d71c794dd",
   "metadata": {},
   "outputs": [
    {
     "name": "stdout",
     "output_type": "stream",
     "text": [
      "[0, 0, 0, 0, 0, 0, 0, 0, 0, 0, 0, 0, 0, 0, 0, 0, 0, 0, 0, 0, 0, 0, 0, 0, 0, 0, 0, 0, 0, 0, 0, 0, 0, 0, 0, 0, 0, 0, 0, 0, 0, 0, 0, 0, 0, 0, 0, 0, 0, 0, 0, 0, 0, 0, 1, 0, 0, 0, 0, 0, 0, 0, 0, 0, 0, 0, 0, 0, 0, 0, 0, 0, 0, 0, 0, 0, 0, 0, 0, 0, 0, 0, 0, 0, 0, 0, 0, 0, 0, 0, 0, 0, 0, 0, 0, 0, 0, 0, 0, 0, 0, 0, 0, 0, 0, 0, 0, 0, 0, 0, 0, 0, 0, 0, 0, 0, 0, 0, 0, 0, 0, 0, 0, 0, 0, 0, 0, 0, 0, 0, 0, 0, 0, 0, 0, 0, 0, 0, 0, 0, 0, 0, 0, 0, 0, 0, 0, 0, 0, 0]\n",
      "[0, 0, 0, 0, 0, 0, 0, 0, 0, 0, 0, 0, 0, 0, 0, 0, 0, 0, 0, 0, 0, 0, 0, 0, 0, 0, 0, 0, 0, 0, 0, 0, 0, 0, 0, 0, 0, 0, 0, 0, 0, 0, 0, 0, 0, 0, 1, 0, 0, 0, 0, 0, 0, 0, 0, 0, 0, 0, 0, 0, 0, 0, 0, 0, 0, 0, 0, 0, 0, 0, 0, 0, 0, 0, 0, 0, 0, 0, 0, 0, 0, 1, 0, 0, 0, 0, 0, 0, 0, 0, 0, 0, 0, 0, 0, 0, 0, 0, 0, 0, 0, 0, 0, 0, 0, 0, 0, 0, 0, 0, 0, 0, 0, 0, 0, 0, 0, 0, 0, 1, 0, 0, 0, 0, 0, 0, 0, 0, 0, 0, 0, 0, 0, 0, 0, 0, 0, 0, 1, 0, 0, 0, 0, 0, 0, 0, 0, 0, 0, 0]\n"
     ]
    }
   ],
   "source": [
    "print(fab1_time)\n",
    "print(fab2_time)"
   ]
  },
  {
   "cell_type": "code",
   "execution_count": null,
   "id": "f6a62c81-c670-4428-ae47-a8a56589bf9f",
   "metadata": {},
   "outputs": [],
   "source": []
  }
 ],
 "metadata": {
  "kernelspec": {
   "display_name": "Python 3 (ipykernel)",
   "language": "python",
   "name": "python3"
  },
  "language_info": {
   "codemirror_mode": {
    "name": "ipython",
    "version": 3
   },
   "file_extension": ".py",
   "mimetype": "text/x-python",
   "name": "python",
   "nbconvert_exporter": "python",
   "pygments_lexer": "ipython3",
   "version": "3.12.7"
  }
 },
 "nbformat": 4,
 "nbformat_minor": 5
}
