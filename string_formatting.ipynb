{
 "cells": [
  {
   "cell_type": "code",
   "execution_count": 1,
   "id": "e4bf1d41-b41c-4967-849b-e70b80ecc0ef",
   "metadata": {},
   "outputs": [],
   "source": [
    "x, y = 24, 54"
   ]
  },
  {
   "cell_type": "code",
   "execution_count": 2,
   "id": "e8a0789b-b7a6-4c2e-97e2-5e13c61f331c",
   "metadata": {},
   "outputs": [
    {
     "name": "stdout",
     "output_type": "stream",
     "text": [
      "x= 24 y= 54\n"
     ]
    }
   ],
   "source": [
    "print(\"x=\", x, \"y=\", y)"
   ]
  },
  {
   "cell_type": "code",
   "execution_count": 3,
   "id": "cdae83f2-258a-4db5-83b7-8be94de80441",
   "metadata": {},
   "outputs": [
    {
     "name": "stdout",
     "output_type": "stream",
     "text": [
      "x=24 and y=54\n"
     ]
    }
   ],
   "source": [
    "# Solution of this unnecessary string spaces (old-method)\n",
    "print(\"x=%d and y=%d\" % (x, y))"
   ]
  },
  {
   "cell_type": "code",
   "execution_count": 4,
   "id": "21007ba7-171f-4374-8406-08bfa4061341",
   "metadata": {},
   "outputs": [
    {
     "name": "stdout",
     "output_type": "stream",
     "text": [
      "x=24 and y=54\n"
     ]
    }
   ],
   "source": [
    "# New method but better\n",
    "print(\"x={} and y={}\".format(x, y))"
   ]
  },
  {
   "cell_type": "code",
   "execution_count": 5,
   "id": "b48e9dc1-0b61-429b-a84c-23931ac0487b",
   "metadata": {},
   "outputs": [
    {
     "name": "stdout",
     "output_type": "stream",
     "text": [
      "fl=3.492800 and it=482\n"
     ]
    }
   ],
   "source": [
    "# Difference between int and float(we use %f for float), but there is some flaws in this mehtod(new is better so)\n",
    "fl = 3.4928\n",
    "it = 482\n",
    "print(\"fl=%f and it=%d\" % (fl, it))"
   ]
  },
  {
   "cell_type": "code",
   "execution_count": 6,
   "id": "6e8dd6c0-94bb-4256-a5ef-8297ebcb9b2c",
   "metadata": {},
   "outputs": [
    {
     "name": "stdout",
     "output_type": "stream",
     "text": [
      "  1\n",
      " 45\n",
      " 78\n",
      "911\n",
      "1000\n"
     ]
    }
   ],
   "source": [
    "l = [1, 45, 78, 911, 1000]\n",
    "for i in l:\n",
    "    \n",
    "    # print(\"%d\" % i)\n",
    "    print(\"{:3}\".format(i))"
   ]
  },
  {
   "cell_type": "code",
   "execution_count": 7,
   "id": "bf04d630-022a-476c-85ca-6ad472df4cbd",
   "metadata": {},
   "outputs": [
    {
     "name": "stdout",
     "output_type": "stream",
     "text": [
      "=      Test=\n"
     ]
    }
   ],
   "source": [
    "# for strings \n",
    "s = \"Test\"\n",
    "print(\"={:>10}=\".format(s))"
   ]
  },
  {
   "cell_type": "code",
   "execution_count": null,
   "id": "7745c66f-afac-4af1-8ed6-65caa1cf47bd",
   "metadata": {},
   "outputs": [],
   "source": []
  }
 ],
 "metadata": {
  "kernelspec": {
   "display_name": "base",
   "language": "python",
   "name": "python3"
  },
  "language_info": {
   "codemirror_mode": {
    "name": "ipython",
    "version": 3
   },
   "file_extension": ".py",
   "mimetype": "text/x-python",
   "name": "python",
   "nbconvert_exporter": "python",
   "pygments_lexer": "ipython3",
   "version": "3.12.7"
  }
 },
 "nbformat": 4,
 "nbformat_minor": 5
}
