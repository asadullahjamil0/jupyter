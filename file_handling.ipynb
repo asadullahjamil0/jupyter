{
 "cells": [
  {
   "cell_type": "code",
   "execution_count": 36,
   "id": "d97c3092-75c2-46cd-8016-be4ad56fb060",
   "metadata": {},
   "outputs": [],
   "source": [
    "directory = 'res'\n",
    "name = 'dummy.txt'"
   ]
  },
  {
   "cell_type": "code",
   "execution_count": null,
   "id": "c47c16f1-ac1f-4193-a4a8-fbed18cc2268",
   "metadata": {},
   "outputs": [],
   "source": [
    "import os"
   ]
  },
  {
   "cell_type": "code",
   "execution_count": 37,
   "id": "f93e6dd2-bc07-4091-8adb-c36491b76f6e",
   "metadata": {},
   "outputs": [
    {
     "name": "stdout",
     "output_type": "stream",
     "text": [
      "res/dummy.txt\n"
     ]
    }
   ],
   "source": [
    "filename = os.path.join(directory, name)\n",
    "print (filename)"
   ]
  },
  {
   "cell_type": "code",
   "execution_count": 38,
   "id": "ebe6a3e2-5d40-433e-949c-0ed59cc7d33b",
   "metadata": {},
   "outputs": [
    {
     "data": {
      "text/plain": [
       "'res/dummy.txt'"
      ]
     },
     "execution_count": 38,
     "metadata": {},
     "output_type": "execute_result"
    }
   ],
   "source": [
    "filename"
   ]
  },
  {
   "cell_type": "code",
   "execution_count": 10,
   "id": "05733c41-4256-472d-bd60-6cb20cbd3c68",
   "metadata": {},
   "outputs": [
    {
     "name": "stdout",
     "output_type": "stream",
     "text": [
      "hey \n",
      "\n",
      "this is file \n",
      "\n",
      "for dummy text\n",
      "\n",
      "Man, I long to be a real life\n"
     ]
    }
   ],
   "source": [
    "f = open(filename, 'r')\n",
    "\n",
    "for line in f:\n",
    "    print (line)\n",
    "    \n",
    "f.close()"
   ]
  },
  {
   "cell_type": "code",
   "execution_count": 11,
   "id": "8a48e0e2-b352-425b-9e8b-1f52572c3bd7",
   "metadata": {},
   "outputs": [
    {
     "name": "stdout",
     "output_type": "stream",
     "text": [
      "hey\n",
      "this is file\n",
      "for dummy text\n",
      "Man, I long to be a real life\n"
     ]
    }
   ],
   "source": [
    "f = open(filename, 'r')\n",
    "\n",
    "for line in f:\n",
    "    print (line.strip())\n",
    "    \n",
    "f.close()"
   ]
  },
  {
   "cell_type": "code",
   "execution_count": 12,
   "id": "c4ce6080-365d-4cc9-955a-1a88fa7a7603",
   "metadata": {},
   "outputs": [
    {
     "name": "stdout",
     "output_type": "stream",
     "text": [
      "hey\n",
      "this is file\n",
      "for dummy text\n",
      "Man, I long to be a real life\n"
     ]
    }
   ],
   "source": [
    "with open(filename, 'r') as f:\n",
    "    for line in f:\n",
    "        print(line.strip())"
   ]
  },
  {
   "cell_type": "code",
   "execution_count": 56,
   "id": "9119fa0a-6774-47b4-ab37-dd58945e0a61",
   "metadata": {},
   "outputs": [
    {
     "name": "stdout",
     "output_type": "stream",
     "text": [
      "hey \n",
      "this is file \n",
      "for dummy text\n",
      "Man, I long to be a real life\n"
     ]
    }
   ],
   "source": [
    "# much shorter way to read files\n",
    "with open(filename, 'r') as f:\n",
    "    print(f.read())"
   ]
  },
  {
   "cell_type": "code",
   "execution_count": 57,
   "id": "0962e947-c403-4fa6-ab38-adbfceb5d654",
   "metadata": {},
   "outputs": [],
   "source": [
    "with open(filename, 'r') as f:\n",
    "    l = f.read().split('\\n')"
   ]
  },
  {
   "cell_type": "code",
   "execution_count": 25,
   "id": "22307e74-8ff3-493d-a794-64d3412b7ee4",
   "metadata": {},
   "outputs": [
    {
     "data": {
      "text/plain": [
       "['hey ', 'this is file ', 'for dummy text', 'Man, I long to be a real life']"
      ]
     },
     "execution_count": 25,
     "metadata": {},
     "output_type": "execute_result"
    }
   ],
   "source": [
    "l"
   ]
  },
  {
   "cell_type": "code",
   "execution_count": 21,
   "id": "39cea081-0d52-4cbc-83b1-4260e0d4b670",
   "metadata": {},
   "outputs": [
    {
     "data": {
      "text/plain": [
       "['a-b-c']"
      ]
     },
     "execution_count": 21,
     "metadata": {},
     "output_type": "execute_result"
    }
   ],
   "source": [
    "a = \"a-b-c\"\n",
    "a.split()"
   ]
  },
  {
   "cell_type": "code",
   "execution_count": 26,
   "id": "9eca2c57-71af-4682-97f0-c2fbf14dd87d",
   "metadata": {},
   "outputs": [],
   "source": [
    "out_name = \"dummy-out.txt\""
   ]
  },
  {
   "cell_type": "code",
   "execution_count": 27,
   "id": "3d9844c2-2848-48b1-82ac-c598fd3b6f2c",
   "metadata": {},
   "outputs": [
    {
     "name": "stdout",
     "output_type": "stream",
     "text": [
      "res/dummy-out.txt\n"
     ]
    }
   ],
   "source": [
    "out_filename = os.path.join(directory, out_name)\n",
    "print (out_filename)"
   ]
  },
  {
   "cell_type": "code",
   "execution_count": 33,
   "id": "414cb5d7-0581-4ea8-bcc3-aad0842be64e",
   "metadata": {},
   "outputs": [],
   "source": [
    "with open(out_filename, 'a') as f:\n",
    "    f.write(\"Six...\\n\")"
   ]
  },
  {
   "cell_type": "code",
   "execution_count": 5,
   "id": "7d4c7dc3-8a7d-4ecc-9906-79ebaedba179",
   "metadata": {},
   "outputs": [],
   "source": [
    "directory1 = 'res2'\n",
    "dummy1 = \"dummy1.txt\""
   ]
  },
  {
   "cell_type": "code",
   "execution_count": 6,
   "id": "72369a49-2697-4b5a-8d91-915ff923dbf5",
   "metadata": {},
   "outputs": [],
   "source": [
    "file_name1 = os.path.join(directory1, dummy1)"
   ]
  },
  {
   "cell_type": "code",
   "execution_count": 7,
   "id": "4d1f50ae-b552-42d6-af05-93a2ce2c3fe7",
   "metadata": {},
   "outputs": [
    {
     "data": {
      "text/plain": [
       "'res2/dummy1.txt'"
      ]
     },
     "execution_count": 7,
     "metadata": {},
     "output_type": "execute_result"
    }
   ],
   "source": [
    "file_name1"
   ]
  },
  {
   "cell_type": "code",
   "execution_count": 9,
   "id": "0eb68d9d-6c9d-456b-86f4-a908b9cf0aad",
   "metadata": {},
   "outputs": [
    {
     "name": "stdout",
     "output_type": "stream",
     "text": [
      "Hey, this is another dummy file for testing\n",
      "Hope, you'll be successfull in your future\n",
      "Best of luck\n"
     ]
    }
   ],
   "source": [
    "with open(file_name1, 'r') as f:\n",
    "    print(f.read())"
   ]
  },
  {
   "cell_type": "code",
   "execution_count": null,
   "id": "f9f2961e-da58-4a5b-9b35-f5ec3e019b4b",
   "metadata": {},
   "outputs": [],
   "source": [
    "out_dummy1 = 'dummy1_out.txt'\n",
    "out_filename1 = os.path.join(directory1, out_dummy1)"
   ]
  },
  {
   "cell_type": "code",
   "execution_count": 11,
   "id": "ab556043-c7f7-416a-a585-087fb85779cc",
   "metadata": {},
   "outputs": [],
   "source": [
    "numbers = [\"Six\", \"Seven\", \"Eight\", \"Nine\", \"Ten\"]\n",
    "with open(out_filename1, 'a') as f:\n",
    "    for i in range(0, 5):\n",
    "        f.write(numbers[i]), \"\\n\""
   ]
  },
  {
   "cell_type": "code",
   "execution_count": 13,
   "id": "a3d4a801-233a-4697-8c65-b9996245d508",
   "metadata": {},
   "outputs": [
    {
     "name": "stdout",
     "output_type": "stream",
     "text": [
      "Two...Two...Three...Four...Four...\n",
      "Five...\n",
      "Five...\n",
      "Five...\n",
      "FiveFiveFiveFiveFiveSixSevenEightNineTenSixSixSevenEightNineTenSixSevenEightNineTen\n"
     ]
    }
   ],
   "source": [
    "with open(out_filename1, 'r') as f:\n",
    "    print(f.read())"
   ]
  },
  {
   "cell_type": "code",
   "execution_count": 1,
   "id": "82c2f98a",
   "metadata": {},
   "outputs": [],
   "source": [
    "import os"
   ]
  },
  {
   "cell_type": "code",
   "execution_count": 3,
   "id": "64b84ecc-b5a8-45be-a1e2-d9326ec29eec",
   "metadata": {},
   "outputs": [],
   "source": [
    "directory = \"res\"\n",
    "csv_file = os.path.join(directory, \"datafile.csv\")"
   ]
  },
  {
   "cell_type": "code",
   "execution_count": 7,
   "id": "64be5f7d-9482-4853-aec8-fd2eedd3f0ea",
   "metadata": {},
   "outputs": [
    {
     "data": {
      "text/plain": [
       "'res\\\\datafile.csv'"
      ]
     },
     "execution_count": 7,
     "metadata": {},
     "output_type": "execute_result"
    }
   ],
   "source": [
    "csv_file"
   ]
  },
  {
   "cell_type": "code",
   "execution_count": 8,
   "id": "2854e0be-124d-4892-b130-44a040dcff9a",
   "metadata": {},
   "outputs": [
    {
     "name": "stdout",
     "output_type": "stream",
     "text": [
      "res\\datafile.csv\n"
     ]
    }
   ],
   "source": [
    "print(csv_file)"
   ]
  },
  {
   "cell_type": "code",
   "execution_count": 25,
   "id": "0a854458-eae0-430b-adc5-81b507c39084",
   "metadata": {},
   "outputs": [],
   "source": [
    "rows = []\n",
    "with open(csv_file, 'r') as f:\n",
    "    for line in f:\n",
    "        # print(line.strip().split(\",\"))\n",
    "        rows.append(line.strip().split(\",\"))"
   ]
  },
  {
   "cell_type": "code",
   "execution_count": 26,
   "id": "2b38513b-cfc5-48c3-b243-8fe4213a0119",
   "metadata": {},
   "outputs": [
    {
     "data": {
      "text/plain": [
       "[['Roll no', 'Full Name', ' A1', ' A2', ' A3', ' A4'],\n",
       " ['p101111', 'Ali khayam', ' 64', ' 89', ' 82', ' 12'],\n",
       " ['p101112', 'AsadUllah', ' 71', ' 91', ' 23', ' 65'],\n",
       " ['p101113', 'Mubashir', ' 56', ' 92', ' 50', ' 20']]"
      ]
     },
     "execution_count": 26,
     "metadata": {},
     "output_type": "execute_result"
    }
   ],
   "source": [
    "rows"
   ]
  },
  {
   "cell_type": "code",
   "execution_count": 55,
   "id": "aab77273-6732-4336-9019-3167bdb45490",
   "metadata": {},
   "outputs": [],
   "source": [
    "for r in rows[1:]:\n",
    "    for i in range(2, 6):\n",
    "        r[i] = float(r[i])"
   ]
  },
  {
   "cell_type": "code",
   "execution_count": 56,
   "id": "3b5c6d10-34d1-4b54-87d7-a0bd03bc9d75",
   "metadata": {},
   "outputs": [
    {
     "data": {
      "text/plain": [
       "[['Roll no', 'Full Name', ' A1', ' A2', ' A3', ' A4'],\n",
       " ['p101111', 'Ali khayam', 64.0, 89.0, 82.0, 12.0],\n",
       " ['p101112', 'AsadUllah', 71.0, 91.0, 23.0, 65.0],\n",
       " ['p101113', 'Mubashir', 56.0, 92.0, 50.0, 20.0]]"
      ]
     },
     "execution_count": 56,
     "metadata": {},
     "output_type": "execute_result"
    }
   ],
   "source": [
    "rows"
   ]
  },
  {
   "cell_type": "code",
   "execution_count": 60,
   "id": "2e0f2bb6-d477-42a2-b638-de701a123913",
   "metadata": {},
   "outputs": [
    {
     "data": {
      "text/plain": [
       "'a,b,c'"
      ]
     },
     "execution_count": 60,
     "metadata": {},
     "output_type": "execute_result"
    }
   ],
   "source": [
    "','.join(['a', 'b', 'c'])"
   ]
  },
  {
   "cell_type": "code",
   "execution_count": 62,
   "id": "8395b890-c90d-4965-81ae-1f1716af4f77",
   "metadata": {},
   "outputs": [
    {
     "name": "stdout",
     "output_type": "stream",
     "text": [
      "['Roll no', 'Full Name', ' A1', ' A2', ' A3', ' A4']\n",
      "['p101111', 'Ali khayam', '64.0', '89.0', '82.0', '12.0']\n",
      "['p101112', 'AsadUllah', '71.0', '91.0', '23.0', '65.0']\n",
      "['p101113', 'Mubashir', '56.0', '92.0', '50.0', '20.0']\n"
     ]
    }
   ],
   "source": [
    "for r in rows:\n",
    "    print( [str(c) for c in r])"
   ]
  },
  {
   "cell_type": "code",
   "execution_count": 64,
   "id": "39ea9168-8173-4098-978b-fe7b21df7167",
   "metadata": {},
   "outputs": [],
   "source": [
    "out_rows = []\n",
    "for r in rows:\n",
    "    r = [str(c) for c in r]\n",
    "    out_rows.append(r)"
   ]
  },
  {
   "cell_type": "code",
   "execution_count": 80,
   "id": "c37f83ca-dfd4-4e35-ac79-7c91279728cc",
   "metadata": {},
   "outputs": [
    {
     "data": {
      "text/plain": [
       "[['Roll no', 'Full Name', ' A1', ' A2', ' A3', ' A4'],\n",
       " ['p101111', 'Ali khayam', '64.0', '89.0', '82.0', '12.0'],\n",
       " ['p101112', 'AsadUllah', '71.0', '91.0', '23.0', '65.0'],\n",
       " ['p101113', 'Mubashir', '56.0', '92.0', '50.0', '20.0']]"
      ]
     },
     "execution_count": 80,
     "metadata": {},
     "output_type": "execute_result"
    }
   ],
   "source": [
    "out_rows"
   ]
  },
  {
   "cell_type": "code",
   "execution_count": 79,
   "id": "d6f119be-fb99-4e81-9bbf-5daf86a9eb9b",
   "metadata": {},
   "outputs": [
    {
     "name": "stdout",
     "output_type": "stream",
     "text": [
      "Roll no,Full Name, A1, A2, A3, A4\n",
      "p101111,Ali khayam,64.0,89.0,82.0,12.0\n",
      "p101112,AsadUllah,71.0,91.0,23.0,65.0\n",
      "p101113,Mubashir,56.0,92.0,50.0,20.0\n"
     ]
    },
    {
     "data": {
      "text/plain": [
       "str"
      ]
     },
     "execution_count": 79,
     "metadata": {},
     "output_type": "execute_result"
    }
   ],
   "source": [
    "for r in out_rows:\n",
    "    out_line = ','.join(r)\n",
    "    print(out_line)\n",
    "\n",
    "type(out_line)"
   ]
  },
  {
   "cell_type": "code",
   "execution_count": 72,
   "id": "33bc06ea-dfac-46b8-820d-b18c753716b2",
   "metadata": {},
   "outputs": [],
   "source": [
    "csv_filename_out = os.path.join(directory, \"datafile-out.csv\")"
   ]
  },
  {
   "cell_type": "code",
   "execution_count": 78,
   "id": "55bfe58b-d1a1-47a5-ac29-b1362eb34cc3",
   "metadata": {},
   "outputs": [],
   "source": [
    "with open(csv_filename_out, 'w') as f:\n",
    "    for r in out_rows:\n",
    "        out_line = ','.join(r)\n",
    "        f.write(out_line + '\\n')"
   ]
  },
  {
   "cell_type": "code",
   "execution_count": null,
   "id": "b3b008b2-a0d6-4cdd-862c-5211cd009679",
   "metadata": {},
   "outputs": [],
   "source": []
  }
 ],
 "metadata": {
  "kernelspec": {
   "display_name": "Python 3 (ipykernel)",
   "language": "python",
   "name": "python3"
  },
  "language_info": {
   "codemirror_mode": {
    "name": "ipython",
    "version": 3
   },
   "file_extension": ".py",
   "mimetype": "text/x-python",
   "name": "python",
   "nbconvert_exporter": "python",
   "pygments_lexer": "ipython3",
   "version": "3.12.7"
  }
 },
 "nbformat": 4,
 "nbformat_minor": 5
}
