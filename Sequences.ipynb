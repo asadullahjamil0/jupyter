{
 "cells": [
  {
   "cell_type": "code",
   "execution_count": 1,
   "id": "4cadf883-10d9-4778-9a3e-aa5a8f64a593",
   "metadata": {},
   "outputs": [],
   "source": [
    "digits = [ 1, 2, 4, 6, 9, 2, 7 ]"
   ]
  },
  {
   "cell_type": "code",
   "execution_count": 2,
   "id": "71dcf247-c83b-4a1c-a160-230a2c807665",
   "metadata": {},
   "outputs": [
    {
     "data": {
      "text/plain": [
       "7"
      ]
     },
     "execution_count": 2,
     "metadata": {},
     "output_type": "execute_result"
    }
   ],
   "source": [
    "len(digits)"
   ]
  },
  {
   "cell_type": "code",
   "execution_count": 4,
   "id": "cb9d9d92-8db9-455b-9073-a9ba6d83296b",
   "metadata": {},
   "outputs": [
    {
     "name": "stdout",
     "output_type": "stream",
     "text": [
      "2\n",
      "4\n",
      "8\n",
      "12\n",
      "18\n",
      "4\n",
      "14\n"
     ]
    }
   ],
   "source": [
    "for i in range (0, len(digits)):\n",
    "    print(digits[i] * 2)"
   ]
  },
  {
   "cell_type": "code",
   "execution_count": 5,
   "id": "98cdb6b2-0404-46b1-9641-95f734bd3149",
   "metadata": {},
   "outputs": [],
   "source": [
    "def v():\n",
    "    return 0"
   ]
  },
  {
   "cell_type": "code",
   "execution_count": 6,
   "id": "ac7aad4e-41a2-42d9-9c7f-3fdeebb0a055",
   "metadata": {},
   "outputs": [
    {
     "data": {
      "text/plain": [
       "1"
      ]
     },
     "execution_count": 6,
     "metadata": {},
     "output_type": "execute_result"
    }
   ],
   "source": [
    "digits[v()]"
   ]
  },
  {
   "cell_type": "code",
   "execution_count": 8,
   "id": "554aabc2-f894-4dc1-b416-555341187531",
   "metadata": {},
   "outputs": [
    {
     "data": {
      "text/plain": [
       "True"
      ]
     },
     "execution_count": 8,
     "metadata": {},
     "output_type": "execute_result"
    }
   ],
   "source": [
    "1 in digits"
   ]
  },
  {
   "cell_type": "code",
   "execution_count": 11,
   "id": "9546b2a2-c9e5-478c-b501-2b1dc50fd831",
   "metadata": {},
   "outputs": [
    {
     "name": "stdout",
     "output_type": "stream",
     "text": [
      "put Water in\n",
      "put Tea in\n",
      "put Milk in\n",
      "put Sugar in\n"
     ]
    }
   ],
   "source": [
    "def make_tea(ing):\n",
    "    for i in ing:\n",
    "        print(\"put\", i , \"in\")\n",
    "\n",
    "ingredients = [\"Water\", \"Tea\", \"Milk\", \"Sugar\"]\n",
    "make_tea(ingredients)"
   ]
  },
  {
   "cell_type": "code",
   "execution_count": 51,
   "id": "44467e6b-0ef3-4d1c-b744-fa0fa6133ee1",
   "metadata": {},
   "outputs": [],
   "source": [
    "def counting(arr, n):\n",
    "    counter = 0\n",
    "    for i in arr:\n",
    "        if i == n:\n",
    "            counter = counter + 1\n",
    "            \n",
    "    return counter            "
   ]
  },
  {
   "cell_type": "code",
   "execution_count": 52,
   "id": "241d03fb-dc7c-4d77-a05c-06905752d93e",
   "metadata": {},
   "outputs": [
    {
     "data": {
      "text/plain": [
       "3"
      ]
     },
     "execution_count": 52,
     "metadata": {},
     "output_type": "execute_result"
    }
   ],
   "source": [
    "arr = [ 2, 4, 6, 9, 1, 9, 14, 9 ]\n",
    "counting(arr, 9)"
   ]
  },
  {
   "cell_type": "code",
   "execution_count": 55,
   "id": "3c5f63c5-88c9-4cd6-93e6-8edcff167c63",
   "metadata": {},
   "outputs": [
    {
     "data": {
      "text/plain": [
       "9"
      ]
     },
     "execution_count": 55,
     "metadata": {},
     "output_type": "execute_result"
    }
   ],
   "source": [
    "arr[-1]"
   ]
  },
  {
   "cell_type": "code",
   "execution_count": 56,
   "id": "517afa57-c66f-4045-9c0f-b089de6649f0",
   "metadata": {},
   "outputs": [
    {
     "data": {
      "text/plain": [
       "[4, 6, 9, 1, 9, 14]"
      ]
     },
     "execution_count": 56,
     "metadata": {},
     "output_type": "execute_result"
    }
   ],
   "source": [
    "arr[-7:-1]"
   ]
  },
  {
   "cell_type": "code",
   "execution_count": 18,
   "id": "79b4f365-b8ae-4323-ab6b-8143f05fc54b",
   "metadata": {},
   "outputs": [],
   "source": [
    "pairs = [\n",
    "    [10, 10],\n",
    "    [2, 20],\n",
    "    [3, 30],\n",
    "    [40, 40],\n",
    "    [5, 50],\n",
    "    [9, 9],\n",
    "    [70, 70],\n",
    "]"
   ]
  },
  {
   "cell_type": "code",
   "execution_count": 2,
   "id": "ea40436d-0346-4122-9d31-1142c204dc23",
   "metadata": {},
   "outputs": [
    {
     "data": {
      "text/plain": [
       "[2, 20]"
      ]
     },
     "execution_count": 2,
     "metadata": {},
     "output_type": "execute_result"
    }
   ],
   "source": [
    "pairs[1]"
   ]
  },
  {
   "cell_type": "code",
   "execution_count": 3,
   "id": "3049e831-24a0-4024-9fca-809ca5faabdb",
   "metadata": {},
   "outputs": [
    {
     "data": {
      "text/plain": [
       "40"
      ]
     },
     "execution_count": 3,
     "metadata": {},
     "output_type": "execute_result"
    }
   ],
   "source": [
    "pairs[3][1]"
   ]
  },
  {
   "cell_type": "code",
   "execution_count": 6,
   "id": "1e86fd48-51e2-40c4-a83c-4270b7ee0441",
   "metadata": {},
   "outputs": [
    {
     "name": "stdout",
     "output_type": "stream",
     "text": [
      "[1, 10]\n",
      "[2, 20]\n",
      "[3, 30]\n",
      "[4, 40]\n",
      "[5, 50]\n"
     ]
    }
   ],
   "source": [
    "for a in pairs:\n",
    "    print(a)"
   ]
  },
  {
   "cell_type": "code",
   "execution_count": 13,
   "id": "85a3be5f-1398-4ad4-8180-81bde30ac852",
   "metadata": {},
   "outputs": [
    {
     "name": "stdout",
     "output_type": "stream",
     "text": [
      "x: 10 and y: 10\n",
      "x: 2 and y: 20\n",
      "x: 3 and y: 30\n",
      "x: 40 and y: 40\n",
      "x: 5 and y: 50\n"
     ]
    }
   ],
   "source": [
    "for x, y in pairs:\n",
    "    print(\"x:\",x,\"and y:\",y)"
   ]
  },
  {
   "cell_type": "code",
   "execution_count": 19,
   "id": "801ba97d-14ae-456e-858e-4f02f00c867a",
   "metadata": {},
   "outputs": [
    {
     "name": "stdout",
     "output_type": "stream",
     "text": [
      "4\n"
     ]
    }
   ],
   "source": [
    "same_count = 0\n",
    "for x, y in pairs:\n",
    "    if x == y:\n",
    "        same_count += 1\n",
    "\n",
    "print (same_count)"
   ]
  },
  {
   "cell_type": "code",
   "execution_count": 28,
   "id": "cdccbc3c-aced-4ddc-96ac-5e588d70643a",
   "metadata": {},
   "outputs": [],
   "source": [
    "a = [ 44.2, 234.33, 76, 91.0, 54 ]"
   ]
  },
  {
   "cell_type": "code",
   "execution_count": 29,
   "id": "af6f2d8d-28db-47d9-a73a-f639f7906bc0",
   "metadata": {},
   "outputs": [
    {
     "name": "stdout",
     "output_type": "stream",
     "text": [
      "[44.2, 234.33, 76, 91.0, 54]\n",
      "[44.2, 234.33, 76, 91.0, 54, 13]\n"
     ]
    }
   ],
   "source": [
    "print(a)\n",
    "a.append(13)\n",
    "print(a)\n"
   ]
  },
  {
   "cell_type": "code",
   "execution_count": 38,
   "id": "f433a58c-05db-4d90-b12a-9fd26b9e3378",
   "metadata": {},
   "outputs": [],
   "source": [
    "a.insert(8, 76)"
   ]
  },
  {
   "cell_type": "code",
   "execution_count": 39,
   "id": "9a59c5e4-0cc9-4908-99e7-0c97992b9ac1",
   "metadata": {},
   "outputs": [
    {
     "name": "stdout",
     "output_type": "stream",
     "text": [
      "[1000, -1, 44.2, 234.33, 76, 76, 91.0, 54, 76, 13]\n"
     ]
    }
   ],
   "source": [
    "print(a)"
   ]
  },
  {
   "cell_type": "code",
   "execution_count": 35,
   "id": "ce4850ff-5659-4cc5-9c7a-1dd20160bbd8",
   "metadata": {},
   "outputs": [
    {
     "data": {
      "text/plain": [
       "2"
      ]
     },
     "execution_count": 35,
     "metadata": {},
     "output_type": "execute_result"
    }
   ],
   "source": [
    "a.index(44.2)"
   ]
  },
  {
   "cell_type": "code",
   "execution_count": 42,
   "id": "a320be58-64f1-4dd7-aa04-2835b4db2904",
   "metadata": {},
   "outputs": [],
   "source": [
    "a.remove(76)"
   ]
  },
  {
   "cell_type": "code",
   "execution_count": 43,
   "id": "9d5de35e-ca58-45b2-98ee-3cbf9f8bbc8f",
   "metadata": {},
   "outputs": [
    {
     "name": "stdout",
     "output_type": "stream",
     "text": [
      "[1000, -1, 44.2, 234.33, 91.0, 54, 76, 13]\n"
     ]
    }
   ],
   "source": [
    "print(a)"
   ]
  },
  {
   "cell_type": "code",
   "execution_count": 44,
   "id": "13b68c05-ff5d-4588-ac03-5751f645bebc",
   "metadata": {},
   "outputs": [],
   "source": [
    "a.reverse()"
   ]
  },
  {
   "cell_type": "code",
   "execution_count": 55,
   "id": "59238620-c030-458d-b5c8-19ece282d1a1",
   "metadata": {},
   "outputs": [
    {
     "name": "stdout",
     "output_type": "stream",
     "text": [
      "[1000, 234.33, 91.0, 76, 54, 44.2, 13, -1]\n",
      "[-1, 13, 44.2, 54, 76, 91.0, 234.33, 1000]\n"
     ]
    }
   ],
   "source": [
    "print(a)\n",
    "a.reverse()\n",
    "print(a)"
   ]
  },
  {
   "cell_type": "code",
   "execution_count": 59,
   "id": "a5ba52ef-cd57-46e5-adac-3775c7495a48",
   "metadata": {},
   "outputs": [
    {
     "name": "stdout",
     "output_type": "stream",
     "text": [
      "[-1, 13, 44.2, 54, 76, 91.0, 234.33, 1000]\n",
      "[1000, 234.33, 91.0, 76, 54, 44.2, 13, -1]\n"
     ]
    }
   ],
   "source": [
    "print(a)\n",
    "a.sort(reverse=True)\n",
    "print(a)"
   ]
  },
  {
   "cell_type": "code",
   "execution_count": 61,
   "id": "441e3e76-40e9-4043-9954-450f64bb8bab",
   "metadata": {},
   "outputs": [
    {
     "name": "stdout",
     "output_type": "stream",
     "text": [
      "[1000, 234.33, 91.0, 76, 54, 44.2, 13, -1]\n"
     ]
    }
   ],
   "source": [
    "print(a)"
   ]
  },
  {
   "cell_type": "code",
   "execution_count": 62,
   "id": "820e2321-b726-40c8-8153-55c6e2355ffa",
   "metadata": {},
   "outputs": [],
   "source": [
    "s = \"This is a dummy string. Lorem ipsum\""
   ]
  },
  {
   "cell_type": "code",
   "execution_count": 63,
   "id": "e421866a-f6eb-4839-ba3e-8341ecfaea97",
   "metadata": {},
   "outputs": [
    {
     "data": {
      "text/plain": [
       "'T'"
      ]
     },
     "execution_count": 63,
     "metadata": {},
     "output_type": "execute_result"
    }
   ],
   "source": [
    "s[0]"
   ]
  },
  {
   "cell_type": "code",
   "execution_count": 64,
   "id": "f70eebea-0fbf-437a-80d5-241f42b4dccf",
   "metadata": {},
   "outputs": [
    {
     "data": {
      "text/plain": [
       "35"
      ]
     },
     "execution_count": 64,
     "metadata": {},
     "output_type": "execute_result"
    }
   ],
   "source": [
    "len(s)"
   ]
  },
  {
   "cell_type": "code",
   "execution_count": 65,
   "id": "2e9bc027-a963-4ff0-8dbf-e96cce0658fc",
   "metadata": {},
   "outputs": [
    {
     "data": {
      "text/plain": [
       "'is '"
      ]
     },
     "execution_count": 65,
     "metadata": {},
     "output_type": "execute_result"
    }
   ],
   "source": [
    "s[2:5]"
   ]
  },
  {
   "cell_type": "code",
   "execution_count": 70,
   "id": "f704c854-27f4-4c10-886b-1a934fd8b838",
   "metadata": {},
   "outputs": [
    {
     "name": "stdout",
     "output_type": "stream",
     "text": [
      "range(1, 10, 2)\n"
     ]
    }
   ],
   "source": [
    "r = range(1,10, 2)\n",
    "print(r)"
   ]
  },
  {
   "cell_type": "code",
   "execution_count": 81,
   "id": "3b9635d7-36e2-4ec6-9683-783ab760ecf4",
   "metadata": {},
   "outputs": [
    {
     "name": "stdout",
     "output_type": "stream",
     "text": [
      "Printing table of: 1\n",
      "1 x 1 = 1\n",
      "1 x 2 = 2\n",
      "1 x 3 = 3\n",
      "1 x 4 = 4\n",
      "1 x 5 = 5\n",
      "Printing table of: 2\n",
      "2 x 1 = 2\n",
      "2 x 2 = 4\n",
      "2 x 3 = 6\n",
      "2 x 4 = 8\n",
      "2 x 5 = 10\n",
      "Printing table of: 3\n",
      "3 x 1 = 3\n",
      "3 x 2 = 6\n",
      "3 x 3 = 9\n",
      "3 x 4 = 12\n",
      "3 x 5 = 15\n",
      "Printing table of: 4\n",
      "4 x 1 = 4\n",
      "4 x 2 = 8\n",
      "4 x 3 = 12\n",
      "4 x 4 = 16\n",
      "4 x 5 = 20\n",
      "Printing table of: 5\n",
      "5 x 1 = 5\n",
      "5 x 2 = 10\n",
      "5 x 3 = 15\n",
      "5 x 4 = 20\n",
      "5 x 5 = 25\n"
     ]
    }
   ],
   "source": [
    "for j in range(1, 6):\n",
    "    print(\"Printing table of:\", j)\n",
    "    for i in range(1, 6):\n",
    "        print(j, \"x\", i, \"=\", j * i)"
   ]
  },
  {
   "cell_type": "code",
   "execution_count": 86,
   "id": "54aefa17-a98c-4893-a699-59a7650f3def",
   "metadata": {},
   "outputs": [
    {
     "name": "stdout",
     "output_type": "stream",
     "text": [
      "[2, 4, 6, 1000]\n"
     ]
    }
   ],
   "source": [
    "nums = [1, 2, 3, 4, 5, 6, 1000]\n",
    "even_nums = []\n",
    "\n",
    "for i in nums:\n",
    "    if i % 2 == 0:\n",
    "        even_nums.append(i)\n",
    "\n",
    "print(even_nums)"
   ]
  },
  {
   "cell_type": "code",
   "execution_count": 9,
   "id": "5b43efe2-885a-4ab0-96cb-f203447d681b",
   "metadata": {},
   "outputs": [
    {
     "data": {
      "text/plain": [
       "[1, 2, 4, 11, 22, 44]"
      ]
     },
     "execution_count": 9,
     "metadata": {},
     "output_type": "execute_result"
    }
   ],
   "source": [
    "n = 44\n",
    "[i  for i in range(1, n + 1)   if n % i == 0]"
   ]
  },
  {
   "cell_type": "code",
   "execution_count": 3,
   "id": "fa266e8c-d343-4c87-934d-c7ad51cafe51",
   "metadata": {},
   "outputs": [
    {
     "data": {
      "text/plain": [
       "(8, 9)"
      ]
     },
     "execution_count": 3,
     "metadata": {},
     "output_type": "execute_result"
    }
   ],
   "source": [
    "# Tuples - immutable datatypes\n",
    "digits = ( 1, 8, 9, 5 )\n",
    "digits[1:3]"
   ]
  },
  {
   "cell_type": "code",
   "execution_count": 4,
   "id": "cda9c882-88c9-410b-9f84-7a1d7d748e8a",
   "metadata": {},
   "outputs": [
    {
     "data": {
      "text/plain": [
       "4"
      ]
     },
     "execution_count": 4,
     "metadata": {},
     "output_type": "execute_result"
    }
   ],
   "source": [
    "len(digits)"
   ]
  },
  {
   "cell_type": "code",
   "execution_count": null,
   "id": "12053050-82b4-4d35-82e1-3cbe64965241",
   "metadata": {},
   "outputs": [],
   "source": []
  }
 ],
 "metadata": {
  "kernelspec": {
   "display_name": "base",
   "language": "python",
   "name": "python3"
  },
  "language_info": {
   "codemirror_mode": {
    "name": "ipython",
    "version": 3
   },
   "file_extension": ".py",
   "mimetype": "text/x-python",
   "name": "python",
   "nbconvert_exporter": "python",
   "pygments_lexer": "ipython3",
   "version": "3.12.7"
  }
 },
 "nbformat": 4,
 "nbformat_minor": 5
}
