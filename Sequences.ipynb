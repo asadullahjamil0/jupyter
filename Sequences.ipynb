{
 "cells": [
  {
   "cell_type": "code",
   "execution_count": 1,
   "id": "4cadf883-10d9-4778-9a3e-aa5a8f64a593",
   "metadata": {},
   "outputs": [],
   "source": [
    "digits = [ 1, 2, 4, 6, 9, 2, 7 ]"
   ]
  },
  {
   "cell_type": "code",
   "execution_count": 2,
   "id": "71dcf247-c83b-4a1c-a160-230a2c807665",
   "metadata": {},
   "outputs": [
    {
     "data": {
      "text/plain": [
       "7"
      ]
     },
     "execution_count": 2,
     "metadata": {},
     "output_type": "execute_result"
    }
   ],
   "source": [
    "len(digits)"
   ]
  },
  {
   "cell_type": "code",
   "execution_count": 4,
   "id": "cb9d9d92-8db9-455b-9073-a9ba6d83296b",
   "metadata": {},
   "outputs": [
    {
     "name": "stdout",
     "output_type": "stream",
     "text": [
      "2\n",
      "4\n",
      "8\n",
      "12\n",
      "18\n",
      "4\n",
      "14\n"
     ]
    }
   ],
   "source": [
    "for i in range (0, len(digits)):\n",
    "    print(digits[i] * 2)"
   ]
  },
  {
   "cell_type": "code",
   "execution_count": 5,
   "id": "98cdb6b2-0404-46b1-9641-95f734bd3149",
   "metadata": {},
   "outputs": [],
   "source": [
    "def v():\n",
    "    return 0"
   ]
  },
  {
   "cell_type": "code",
   "execution_count": 6,
   "id": "ac7aad4e-41a2-42d9-9c7f-3fdeebb0a055",
   "metadata": {},
   "outputs": [
    {
     "data": {
      "text/plain": [
       "1"
      ]
     },
     "execution_count": 6,
     "metadata": {},
     "output_type": "execute_result"
    }
   ],
   "source": [
    "digits[v()]"
   ]
  },
  {
   "cell_type": "code",
   "execution_count": 8,
   "id": "554aabc2-f894-4dc1-b416-555341187531",
   "metadata": {},
   "outputs": [
    {
     "data": {
      "text/plain": [
       "True"
      ]
     },
     "execution_count": 8,
     "metadata": {},
     "output_type": "execute_result"
    }
   ],
   "source": [
    "1 in digits"
   ]
  },
  {
   "cell_type": "code",
   "execution_count": 11,
   "id": "9546b2a2-c9e5-478c-b501-2b1dc50fd831",
   "metadata": {},
   "outputs": [
    {
     "name": "stdout",
     "output_type": "stream",
     "text": [
      "put Water in\n",
      "put Tea in\n",
      "put Milk in\n",
      "put Sugar in\n"
     ]
    }
   ],
   "source": [
    "def make_tea(ing):\n",
    "    for i in ing:\n",
    "        print(\"put\", i , \"in\")\n",
    "\n",
    "ingredients = [\"Water\", \"Tea\", \"Milk\", \"Sugar\"]\n",
    "make_tea(ingredients)"
   ]
  },
  {
   "cell_type": "code",
   "execution_count": 51,
   "id": "44467e6b-0ef3-4d1c-b744-fa0fa6133ee1",
   "metadata": {},
   "outputs": [],
   "source": [
    "def counting(arr, n):\n",
    "    counter = 0\n",
    "    for i in arr:\n",
    "        if i == n:\n",
    "            counter = counter + 1\n",
    "            \n",
    "    return counter            "
   ]
  },
  {
   "cell_type": "code",
   "execution_count": 52,
   "id": "241d03fb-dc7c-4d77-a05c-06905752d93e",
   "metadata": {},
   "outputs": [
    {
     "data": {
      "text/plain": [
       "3"
      ]
     },
     "execution_count": 52,
     "metadata": {},
     "output_type": "execute_result"
    }
   ],
   "source": [
    "arr = [ 2, 4, 6, 9, 1, 9, 14, 9 ]\n",
    "counting(arr, 9)"
   ]
  },
  {
   "cell_type": "code",
   "execution_count": 55,
   "id": "3c5f63c5-88c9-4cd6-93e6-8edcff167c63",
   "metadata": {},
   "outputs": [
    {
     "data": {
      "text/plain": [
       "9"
      ]
     },
     "execution_count": 55,
     "metadata": {},
     "output_type": "execute_result"
    }
   ],
   "source": [
    "arr[-1]"
   ]
  },
  {
   "cell_type": "code",
   "execution_count": 56,
   "id": "517afa57-c66f-4045-9c0f-b089de6649f0",
   "metadata": {},
   "outputs": [
    {
     "data": {
      "text/plain": [
       "[4, 6, 9, 1, 9, 14]"
      ]
     },
     "execution_count": 56,
     "metadata": {},
     "output_type": "execute_result"
    }
   ],
   "source": [
    "arr[-7:-1]"
   ]
  },
  {
   "cell_type": "code",
   "execution_count": null,
   "id": "79b4f365-b8ae-4323-ab6b-8143f05fc54b",
   "metadata": {},
   "outputs": [],
   "source": []
  }
 ],
 "metadata": {
  "kernelspec": {
   "display_name": "Python 3 (ipykernel)",
   "language": "python",
   "name": "python3"
  },
  "language_info": {
   "codemirror_mode": {
    "name": "ipython",
    "version": 3
   },
   "file_extension": ".py",
   "mimetype": "text/x-python",
   "name": "python",
   "nbconvert_exporter": "python",
   "pygments_lexer": "ipython3",
   "version": "3.12.7"
  }
 },
 "nbformat": 4,
 "nbformat_minor": 5
}
