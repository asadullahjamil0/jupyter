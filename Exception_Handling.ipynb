{
 "cells": [
  {
   "cell_type": "code",
   "execution_count": 2,
   "id": "c665171f-f8ab-46ad-826a-e0e3371eb5cc",
   "metadata": {},
   "outputs": [
    {
     "ename": "FileNotFoundError",
     "evalue": "[Errno 2] No such file or directory: 'four-oh-four.txt'",
     "output_type": "error",
     "traceback": [
      "\u001b[1;31m---------------------------------------------------------------------------\u001b[0m",
      "\u001b[1;31mFileNotFoundError\u001b[0m                         Traceback (most recent call last)",
      "Cell \u001b[1;32mIn[2], line 1\u001b[0m\n\u001b[1;32m----> 1\u001b[0m f \u001b[38;5;241m=\u001b[39m \u001b[38;5;28mopen\u001b[39m(\u001b[38;5;124m\"\u001b[39m\u001b[38;5;124mfour-oh-four.txt\u001b[39m\u001b[38;5;124m\"\u001b[39m, \u001b[38;5;124m'\u001b[39m\u001b[38;5;124mr\u001b[39m\u001b[38;5;124m'\u001b[39m)\n",
      "File \u001b[1;32m~\\anaconda3\\Lib\\site-packages\\IPython\\core\\interactiveshell.py:324\u001b[0m, in \u001b[0;36m_modified_open\u001b[1;34m(file, *args, **kwargs)\u001b[0m\n\u001b[0;32m    317\u001b[0m \u001b[38;5;28;01mif\u001b[39;00m file \u001b[38;5;129;01min\u001b[39;00m {\u001b[38;5;241m0\u001b[39m, \u001b[38;5;241m1\u001b[39m, \u001b[38;5;241m2\u001b[39m}:\n\u001b[0;32m    318\u001b[0m     \u001b[38;5;28;01mraise\u001b[39;00m \u001b[38;5;167;01mValueError\u001b[39;00m(\n\u001b[0;32m    319\u001b[0m         \u001b[38;5;124mf\u001b[39m\u001b[38;5;124m\"\u001b[39m\u001b[38;5;124mIPython won\u001b[39m\u001b[38;5;124m'\u001b[39m\u001b[38;5;124mt let you open fd=\u001b[39m\u001b[38;5;132;01m{\u001b[39;00mfile\u001b[38;5;132;01m}\u001b[39;00m\u001b[38;5;124m by default \u001b[39m\u001b[38;5;124m\"\u001b[39m\n\u001b[0;32m    320\u001b[0m         \u001b[38;5;124m\"\u001b[39m\u001b[38;5;124mas it is likely to crash IPython. If you know what you are doing, \u001b[39m\u001b[38;5;124m\"\u001b[39m\n\u001b[0;32m    321\u001b[0m         \u001b[38;5;124m\"\u001b[39m\u001b[38;5;124myou can use builtins\u001b[39m\u001b[38;5;124m'\u001b[39m\u001b[38;5;124m open.\u001b[39m\u001b[38;5;124m\"\u001b[39m\n\u001b[0;32m    322\u001b[0m     )\n\u001b[1;32m--> 324\u001b[0m \u001b[38;5;28;01mreturn\u001b[39;00m io_open(file, \u001b[38;5;241m*\u001b[39margs, \u001b[38;5;241m*\u001b[39m\u001b[38;5;241m*\u001b[39mkwargs)\n",
      "\u001b[1;31mFileNotFoundError\u001b[0m: [Errno 2] No such file or directory: 'four-oh-four.txt'"
     ]
    }
   ],
   "source": [
    "f = open(\"four-oh-four.txt\", 'r')"
   ]
  },
  {
   "cell_type": "code",
   "execution_count": 4,
   "id": "291b77e3-41bb-4ff9-a972-36c2981069e4",
   "metadata": {},
   "outputs": [
    {
     "ename": "ValueError",
     "evalue": "invalid literal for int() with base 10: 'abc'",
     "output_type": "error",
     "traceback": [
      "\u001b[1;31m---------------------------------------------------------------------------\u001b[0m",
      "\u001b[1;31mValueError\u001b[0m                                Traceback (most recent call last)",
      "Cell \u001b[1;32mIn[4], line 1\u001b[0m\n\u001b[1;32m----> 1\u001b[0m \u001b[38;5;28mint\u001b[39m(\u001b[38;5;124m'\u001b[39m\u001b[38;5;124mabc\u001b[39m\u001b[38;5;124m'\u001b[39m)\n",
      "\u001b[1;31mValueError\u001b[0m: invalid literal for int() with base 10: 'abc'"
     ]
    }
   ],
   "source": [
    "int('abc')"
   ]
  },
  {
   "cell_type": "code",
   "execution_count": 25,
   "id": "1a581fd6-b054-4af3-908b-0aa4ee4571e1",
   "metadata": {},
   "outputs": [],
   "source": [
    "def div(num, den):\n",
    "    return num / float(den)"
   ]
  },
  {
   "cell_type": "code",
   "execution_count": 31,
   "id": "3c2f10fe-11df-4c53-a5f0-ecafb2ba6b63",
   "metadata": {},
   "outputs": [
    {
     "name": "stdout",
     "output_type": "stream",
     "text": [
      "Divide 4 with 2:  2.0\n",
      "Everything divided Successful\n",
      "Done\n"
     ]
    }
   ],
   "source": [
    "try:\n",
    "    print(\"Divide 4 with 2: \", div(4, 2))\n",
    "    print(\"Divide 4 with 0: \", div(4, 0))\n",
    "    print(\"Everything divided Successful\")\n",
    "except ZeroDivisionError:\n",
    "    print(\"Do not ask me to divide with 0\")\n",
    "\n",
    "print(\"Done\")"
   ]
  },
  {
   "cell_type": "code",
   "execution_count": 64,
   "id": "5de5acc6-69dd-43b1-a837-4f1608d472d8",
   "metadata": {},
   "outputs": [],
   "source": [
    "def calculator(op, n1, n2):\n",
    "    if op == 'div':\n",
    "       return div(n1, n2)\n",
    "    elif op == 'mul':\n",
    "        return mul(n1, n2)"
   ]
  },
  {
   "cell_type": "code",
   "execution_count": 72,
   "id": "3cf12aab-5e27-4927-abd8-382f13469546",
   "metadata": {},
   "outputs": [
    {
     "name": "stdout",
     "output_type": "stream",
     "text": [
      "Do not ask me to divide with 0\n"
     ]
    }
   ],
   "source": [
    "# Exception hierarchy\n",
    "try:\n",
    "    print(\"Divide 4 with 0: \", calculator('div', 4, 0))\n",
    "    print(\"Success\")\n",
    "    v\n",
    "except ZeroDivisionError:\n",
    "    print(\"Do not ask me to divide with 0\")\n",
    "except NameError:\n",
    "    print(\"That's a bad name\")"
   ]
  },
  {
   "cell_type": "code",
   "execution_count": 74,
   "id": "7e27dbdd-b620-445f-8108-9e63a5d94967",
   "metadata": {},
   "outputs": [
    {
     "name": "stdout",
     "output_type": "stream",
     "text": [
      "Divide 4 with 0:  2.0\n",
      "Success\n",
      "No idea what went wrong\n"
     ]
    }
   ],
   "source": [
    "# It is not recommended in most of the cases\n",
    "try:\n",
    "    print(\"Divide 4 with 0: \", calculator('div', 4, 2))\n",
    "    print(\"Success\")\n",
    "    v\n",
    "except Exception:\n",
    "    print(\"No idea what went wrong\")"
   ]
  },
  {
   "cell_type": "code",
   "execution_count": 9,
   "id": "dcefc8af-a74f-47d5-8034-b097e0c11b50",
   "metadata": {},
   "outputs": [],
   "source": [
    "# Exception raise\n",
    "def sqrt(num, guess = 0.1):\n",
    "    if num < 0:\n",
    "        raise ValueError(\"Cannot find square root of negative numbers\")\n",
    "    return 6"
   ]
  },
  {
   "cell_type": "code",
   "execution_count": 10,
   "id": "c7d2f9ac-85e8-4cd0-9638-12cdde2d15e2",
   "metadata": {},
   "outputs": [
    {
     "name": "stdout",
     "output_type": "stream",
     "text": [
      "Try to find square root of negative numbers\n"
     ]
    }
   ],
   "source": [
    "try:\n",
    "    sqrt(-2)\n",
    "except ValueError:\n",
    "    print(\"Try to find square root of negative numbers\")"
   ]
  },
  {
   "cell_type": "code",
   "execution_count": null,
   "id": "f13a9a31-cfba-4ea8-82d7-1c794cc2f500",
   "metadata": {},
   "outputs": [],
   "source": []
  }
 ],
 "metadata": {
  "kernelspec": {
   "display_name": "base",
   "language": "python",
   "name": "python3"
  },
  "language_info": {
   "codemirror_mode": {
    "name": "ipython",
    "version": 3
   },
   "file_extension": ".py",
   "mimetype": "text/x-python",
   "name": "python",
   "nbconvert_exporter": "python",
   "pygments_lexer": "ipython3",
   "version": "3.12.7"
  }
 },
 "nbformat": 4,
 "nbformat_minor": 5
}
