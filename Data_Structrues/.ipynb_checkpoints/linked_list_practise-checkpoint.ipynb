{
 "cells": [
  {
   "cell_type": "code",
   "execution_count": 4,
   "id": "dbf272bc-6f8e-4279-a027-92ebfd3b5704",
   "metadata": {},
   "outputs": [],
   "source": [
    "class Node:\n",
    "    def __init__(self, data=None):\n",
    "        self.val = data\n",
    "        self.next = None\n",
    "\n",
    "class LinkedList:\n",
    "    def __init__(self):\n",
    "        self.head = None"
   ]
  },
  {
   "cell_type": "code",
   "execution_count": 28,
   "id": "fe854574-a4bb-425b-b5ae-eccbd5fdb31c",
   "metadata": {},
   "outputs": [],
   "source": [
    "def push(self, val):\n",
    "    new_node = Node(val)\n",
    "\n",
    "    if self.head is None:\n",
    "        self.head = new_node\n",
    "        return\n",
    "\n",
    "    last = self.head\n",
    "    while last.next is not None:\n",
    "        last = last.next\n",
    "\n",
    "    last.next = new_node\n",
    "\n",
    "LinkedList.push = push"
   ]
  },
  {
   "cell_type": "code",
   "execution_count": 29,
   "id": "08638bcf-d12b-4bb9-bada-efd5ef940bee",
   "metadata": {},
   "outputs": [],
   "source": [
    "def __str__(self):\n",
    "    ret_str = \"[\"\n",
    "    temp = self.head\n",
    "    while temp is not None:\n",
    "        ret_str += str(temp.val) + \", \"\n",
    "        temp = temp.next\n",
    "\n",
    "    ret_str = ret_str.rstrip(\", \")\n",
    "    ret_str += \"]\"\n",
    "    return ret_str\n",
    "\n",
    "LinkedList.__str__ = __str__"
   ]
  },
  {
   "cell_type": "code",
   "execution_count": 30,
   "id": "85d71f0b-6785-4ebe-80d0-26dc42a0c716",
   "metadata": {},
   "outputs": [],
   "source": [
    "l = LinkedList()"
   ]
  },
  {
   "cell_type": "code",
   "execution_count": 139,
   "id": "8b3cab12-c51d-4643-a49f-cde94fa5d343",
   "metadata": {},
   "outputs": [
    {
     "name": "stdout",
     "output_type": "stream",
     "text": [
      "exec: case 2\n",
      "exec: case 2\n",
      "exec: case 2\n",
      "[1, 2, 3, 1, 2, 3]\n"
     ]
    }
   ],
   "source": [
    "l.push(1)\n",
    "l.push(2)\n",
    "l.push(3)\n",
    "\n",
    "print(l)"
   ]
  },
  {
   "cell_type": "code",
   "execution_count": 56,
   "id": "19b89ba0-92eb-498d-9ca7-e99dd6146f65",
   "metadata": {},
   "outputs": [],
   "source": [
    "def pop(self):\n",
    "    # case when there is no node\n",
    "    if self.head is None:\n",
    "        raise Exception(\"Cannot pop. No value.\")\n",
    "\n",
    "    #case when there is just one node\n",
    "    if self.head.next is None:\n",
    "        print(\"case 1\")\n",
    "        val = self.head.val\n",
    "        self.head = None\n",
    "        return val\n",
    "\n",
    "    #case when there is atleast two node\n",
    "    temp = self.head\n",
    "    print(\"Case 2\")\n",
    "    while temp.next is not None:\n",
    "        prev = temp\n",
    "        temp = temp.next\n",
    "\n",
    "    val = temp.val\n",
    "    prev.next = None\n",
    "    return val\n",
    "\n",
    "LinkedList.pop = pop"
   ]
  },
  {
   "cell_type": "code",
   "execution_count": 68,
   "id": "790ca34c-22e3-48aa-ae37-c95499c5b422",
   "metadata": {},
   "outputs": [
    {
     "name": "stdout",
     "output_type": "stream",
     "text": [
      "Case 2\n"
     ]
    },
    {
     "data": {
      "text/plain": [
       "2"
      ]
     },
     "execution_count": 68,
     "metadata": {},
     "output_type": "execute_result"
    }
   ],
   "source": [
    "l.pop()"
   ]
  },
  {
   "cell_type": "code",
   "execution_count": 69,
   "id": "af8fd9a2-1d2c-4dc1-9774-fd39716c24f7",
   "metadata": {},
   "outputs": [
    {
     "name": "stdout",
     "output_type": "stream",
     "text": [
      "[1]\n"
     ]
    }
   ],
   "source": [
    "print(l)"
   ]
  },
  {
   "cell_type": "code",
   "execution_count": 70,
   "id": "a7588a0b-65f8-4fa8-b9ae-aa13bdb8c2d4",
   "metadata": {},
   "outputs": [
    {
     "name": "stdout",
     "output_type": "stream",
     "text": [
      "case 1\n"
     ]
    },
    {
     "data": {
      "text/plain": [
       "1"
      ]
     },
     "execution_count": 70,
     "metadata": {},
     "output_type": "execute_result"
    }
   ],
   "source": [
    "l.pop()"
   ]
  },
  {
   "cell_type": "code",
   "execution_count": 71,
   "id": "f89faf44-94dc-4765-a374-699ac2938683",
   "metadata": {},
   "outputs": [
    {
     "name": "stdout",
     "output_type": "stream",
     "text": [
      "[]\n"
     ]
    }
   ],
   "source": [
    "print(l)"
   ]
  },
  {
   "cell_type": "code",
   "execution_count": 72,
   "id": "1c56f7ea-841e-482a-8c9e-de9478995747",
   "metadata": {},
   "outputs": [
    {
     "ename": "Exception",
     "evalue": "Cannot pop. No value.",
     "output_type": "error",
     "traceback": [
      "\u001b[31m---------------------------------------------------------------------------\u001b[39m",
      "\u001b[31mException\u001b[39m                                 Traceback (most recent call last)",
      "\u001b[36mCell\u001b[39m\u001b[36m \u001b[39m\u001b[32mIn[72]\u001b[39m\u001b[32m, line 1\u001b[39m\n\u001b[32m----> \u001b[39m\u001b[32m1\u001b[39m \u001b[43ml\u001b[49m\u001b[43m.\u001b[49m\u001b[43mpop\u001b[49m\u001b[43m(\u001b[49m\u001b[43m)\u001b[49m\n",
      "\u001b[36mCell\u001b[39m\u001b[36m \u001b[39m\u001b[32mIn[56]\u001b[39m\u001b[32m, line 4\u001b[39m, in \u001b[36mpop\u001b[39m\u001b[34m(self)\u001b[39m\n\u001b[32m      1\u001b[39m \u001b[38;5;28;01mdef\u001b[39;00m\u001b[38;5;250m \u001b[39m\u001b[34mpop\u001b[39m(\u001b[38;5;28mself\u001b[39m):\n\u001b[32m      2\u001b[39m     \u001b[38;5;66;03m# case when there is no node\u001b[39;00m\n\u001b[32m      3\u001b[39m     \u001b[38;5;28;01mif\u001b[39;00m \u001b[38;5;28mself\u001b[39m.head \u001b[38;5;129;01mis\u001b[39;00m \u001b[38;5;28;01mNone\u001b[39;00m:\n\u001b[32m----> \u001b[39m\u001b[32m4\u001b[39m         \u001b[38;5;28;01mraise\u001b[39;00m \u001b[38;5;167;01mException\u001b[39;00m(\u001b[33m\"\u001b[39m\u001b[33mCannot pop. No value.\u001b[39m\u001b[33m\"\u001b[39m)\n\u001b[32m      6\u001b[39m     \u001b[38;5;66;03m#case when there is just one node\u001b[39;00m\n\u001b[32m      7\u001b[39m     \u001b[38;5;28;01mif\u001b[39;00m \u001b[38;5;28mself\u001b[39m.head.next \u001b[38;5;129;01mis\u001b[39;00m \u001b[38;5;28;01mNone\u001b[39;00m:\n",
      "\u001b[31mException\u001b[39m: Cannot pop. No value."
     ]
    }
   ],
   "source": [
    "l.pop()"
   ]
  },
  {
   "cell_type": "code",
   "execution_count": 144,
   "id": "c7f68b36-beb7-4b74-98f4-7fdbd7bdd7a8",
   "metadata": {},
   "outputs": [],
   "source": [
    "def insert(self, index, val):\n",
    "    new_node = Node(val)\n",
    "    if index == 0:\n",
    "        print(\"Case 1\")\n",
    "        new_node.next = self.head\n",
    "        self.head = new_node\n",
    "        return\n",
    "\n",
    "    temp = self.head\n",
    "\n",
    "    counter = 0\n",
    "    print(\"Case 2\")\n",
    "    while temp is not None and counter < index:\n",
    "        prev = temp\n",
    "        temp = temp.next\n",
    "        counter += 1\n",
    "\n",
    "    prev.next = new_node\n",
    "    new_node.next = temp\n",
    "\n",
    "LinkedList.insert = insert\n",
    "        "
   ]
  },
  {
   "cell_type": "code",
   "execution_count": 145,
   "id": "897a1933-cff6-48fe-9aa6-2b7679f09715",
   "metadata": {},
   "outputs": [
    {
     "name": "stdout",
     "output_type": "stream",
     "text": [
      "Case 1\n"
     ]
    }
   ],
   "source": [
    "l.insert(0, 12)"
   ]
  },
  {
   "cell_type": "code",
   "execution_count": 146,
   "id": "89361033-20f5-4a00-8a39-841175dbef86",
   "metadata": {},
   "outputs": [
    {
     "name": "stdout",
     "output_type": "stream",
     "text": [
      "[12, 1, 2, 3, 1, 2, 3]\n"
     ]
    }
   ],
   "source": [
    "print(l)"
   ]
  },
  {
   "cell_type": "code",
   "execution_count": 89,
   "id": "e552bb33-f35b-41bb-afc2-13a7588dd6d8",
   "metadata": {},
   "outputs": [
    {
     "name": "stdout",
     "output_type": "stream",
     "text": [
      "Case 2\n"
     ]
    }
   ],
   "source": [
    "l.insert(4, 123)"
   ]
  },
  {
   "cell_type": "code",
   "execution_count": 95,
   "id": "b1d21177-d462-4d8d-9daa-539a36b05294",
   "metadata": {},
   "outputs": [
    {
     "name": "stdout",
     "output_type": "stream",
     "text": [
      "[]\n"
     ]
    },
    {
     "ename": "Exception",
     "evalue": "Cannot pop. No value.",
     "output_type": "error",
     "traceback": [
      "\u001b[31m---------------------------------------------------------------------------\u001b[39m",
      "\u001b[31mException\u001b[39m                                 Traceback (most recent call last)",
      "\u001b[36mCell\u001b[39m\u001b[36m \u001b[39m\u001b[32mIn[95]\u001b[39m\u001b[32m, line 2\u001b[39m\n\u001b[32m      1\u001b[39m \u001b[38;5;28mprint\u001b[39m(l)\n\u001b[32m----> \u001b[39m\u001b[32m2\u001b[39m \u001b[43ml\u001b[49m\u001b[43m.\u001b[49m\u001b[43mpop\u001b[49m\u001b[43m(\u001b[49m\u001b[43m)\u001b[49m\n",
      "\u001b[36mCell\u001b[39m\u001b[36m \u001b[39m\u001b[32mIn[56]\u001b[39m\u001b[32m, line 4\u001b[39m, in \u001b[36mpop\u001b[39m\u001b[34m(self)\u001b[39m\n\u001b[32m      1\u001b[39m \u001b[38;5;28;01mdef\u001b[39;00m\u001b[38;5;250m \u001b[39m\u001b[34mpop\u001b[39m(\u001b[38;5;28mself\u001b[39m):\n\u001b[32m      2\u001b[39m     \u001b[38;5;66;03m# case when there is no node\u001b[39;00m\n\u001b[32m      3\u001b[39m     \u001b[38;5;28;01mif\u001b[39;00m \u001b[38;5;28mself\u001b[39m.head \u001b[38;5;129;01mis\u001b[39;00m \u001b[38;5;28;01mNone\u001b[39;00m:\n\u001b[32m----> \u001b[39m\u001b[32m4\u001b[39m         \u001b[38;5;28;01mraise\u001b[39;00m \u001b[38;5;167;01mException\u001b[39;00m(\u001b[33m\"\u001b[39m\u001b[33mCannot pop. No value.\u001b[39m\u001b[33m\"\u001b[39m)\n\u001b[32m      6\u001b[39m     \u001b[38;5;66;03m#case when there is just one node\u001b[39;00m\n\u001b[32m      7\u001b[39m     \u001b[38;5;28;01mif\u001b[39;00m \u001b[38;5;28mself\u001b[39m.head.next \u001b[38;5;129;01mis\u001b[39;00m \u001b[38;5;28;01mNone\u001b[39;00m:\n",
      "\u001b[31mException\u001b[39m: Cannot pop. No value."
     ]
    }
   ],
   "source": [
    "print(l)\n",
    "l.pop()"
   ]
  },
  {
   "cell_type": "code",
   "execution_count": 111,
   "id": "e89637b8-b6e7-4563-bd4b-e367476a9e58",
   "metadata": {},
   "outputs": [],
   "source": [
    "def remove(self, val):\n",
    "    if self.head is None:\n",
    "        raise Exception(\"Cannot remove. No value\")\n",
    "\n",
    "    temp = self.head\n",
    "    #check first node\n",
    "    if temp is not None:\n",
    "        if temp.val == val:\n",
    "            print(\"Case 1\")\n",
    "            self.head = temp.next\n",
    "            temp = None\n",
    "            return\n",
    "\n",
    "    # lets move to next node\n",
    "    while temp is not None:\n",
    "        if temp.val == val:\n",
    "            break\n",
    "\n",
    "        prev = temp\n",
    "        temp = temp.next\n",
    "\n",
    "    if temp is None:\n",
    "        return\n",
    "\n",
    "    print(\"Case 2\")\n",
    "    prev.next = temp.next\n",
    "\n",
    "LinkedList.remove = remove"
   ]
  },
  {
   "cell_type": "code",
   "execution_count": 112,
   "id": "5f56deb8-1138-444a-9dd7-0eebcda22905",
   "metadata": {},
   "outputs": [
    {
     "name": "stdout",
     "output_type": "stream",
     "text": [
      "exec: case 1\n",
      "Case 1\n"
     ]
    }
   ],
   "source": [
    "l.push(10)\n",
    "l.remove(10)"
   ]
  },
  {
   "cell_type": "code",
   "execution_count": 113,
   "id": "482b3fa8-3ad1-496f-9c56-740c44ea34ed",
   "metadata": {},
   "outputs": [
    {
     "name": "stdout",
     "output_type": "stream",
     "text": [
      "[]\n"
     ]
    }
   ],
   "source": [
    "print(l)"
   ]
  },
  {
   "cell_type": "code",
   "execution_count": 114,
   "id": "5228a56e-e55f-4fe9-8337-faa367c77b5c",
   "metadata": {},
   "outputs": [
    {
     "ename": "Exception",
     "evalue": "Cannot remove. No value",
     "output_type": "error",
     "traceback": [
      "\u001b[31m---------------------------------------------------------------------------\u001b[39m",
      "\u001b[31mException\u001b[39m                                 Traceback (most recent call last)",
      "\u001b[36mCell\u001b[39m\u001b[36m \u001b[39m\u001b[32mIn[114]\u001b[39m\u001b[32m, line 1\u001b[39m\n\u001b[32m----> \u001b[39m\u001b[32m1\u001b[39m \u001b[43ml\u001b[49m\u001b[43m.\u001b[49m\u001b[43mremove\u001b[49m\u001b[43m(\u001b[49m\u001b[32;43m10\u001b[39;49m\u001b[43m)\u001b[49m\n",
      "\u001b[36mCell\u001b[39m\u001b[36m \u001b[39m\u001b[32mIn[111]\u001b[39m\u001b[32m, line 3\u001b[39m, in \u001b[36mremove\u001b[39m\u001b[34m(self, val)\u001b[39m\n\u001b[32m      1\u001b[39m \u001b[38;5;28;01mdef\u001b[39;00m\u001b[38;5;250m \u001b[39m\u001b[34mremove\u001b[39m(\u001b[38;5;28mself\u001b[39m, val):\n\u001b[32m      2\u001b[39m     \u001b[38;5;28;01mif\u001b[39;00m \u001b[38;5;28mself\u001b[39m.head \u001b[38;5;129;01mis\u001b[39;00m \u001b[38;5;28;01mNone\u001b[39;00m:\n\u001b[32m----> \u001b[39m\u001b[32m3\u001b[39m         \u001b[38;5;28;01mraise\u001b[39;00m \u001b[38;5;167;01mException\u001b[39;00m(\u001b[33m\"\u001b[39m\u001b[33mCannot remove. No value\u001b[39m\u001b[33m\"\u001b[39m)\n\u001b[32m      5\u001b[39m     temp = \u001b[38;5;28mself\u001b[39m.head\n\u001b[32m      6\u001b[39m     \u001b[38;5;66;03m#check first node\u001b[39;00m\n",
      "\u001b[31mException\u001b[39m: Cannot remove. No value"
     ]
    }
   ],
   "source": [
    "l.remove(10)\n"
   ]
  },
  {
   "cell_type": "code",
   "execution_count": 115,
   "id": "830eda6d-010e-4279-a9dd-cc13a4bd2b1d",
   "metadata": {},
   "outputs": [
    {
     "name": "stdout",
     "output_type": "stream",
     "text": [
      "[]\n"
     ]
    }
   ],
   "source": [
    "print(l)"
   ]
  },
  {
   "cell_type": "code",
   "execution_count": 120,
   "id": "c0b29aa3-57f9-45bf-b959-d8c650009508",
   "metadata": {},
   "outputs": [
    {
     "name": "stdout",
     "output_type": "stream",
     "text": [
      "exec: case 2\n",
      "exec: case 2\n",
      "exec: case 2\n",
      "Case 2\n",
      "[1, 3, 1, 3, 1, 3, 1, 3]\n"
     ]
    }
   ],
   "source": [
    "l.push(1)\n",
    "l.push(2)\n",
    "l.push(3)\n",
    "\n",
    "l.remove(2)\n",
    "print(l)"
   ]
  },
  {
   "cell_type": "code",
   "execution_count": 131,
   "id": "24e9680f-6d66-4c24-94d3-082f543b2d54",
   "metadata": {},
   "outputs": [
    {
     "ename": "Exception",
     "evalue": "Cannot remove. No value",
     "output_type": "error",
     "traceback": [
      "\u001b[31m---------------------------------------------------------------------------\u001b[39m",
      "\u001b[31mException\u001b[39m                                 Traceback (most recent call last)",
      "\u001b[36mCell\u001b[39m\u001b[36m \u001b[39m\u001b[32mIn[131]\u001b[39m\u001b[32m, line 1\u001b[39m\n\u001b[32m----> \u001b[39m\u001b[32m1\u001b[39m \u001b[43ml\u001b[49m\u001b[43m.\u001b[49m\u001b[43mremove\u001b[49m\u001b[43m(\u001b[49m\u001b[32;43m3\u001b[39;49m\u001b[43m)\u001b[49m\n",
      "\u001b[36mCell\u001b[39m\u001b[36m \u001b[39m\u001b[32mIn[111]\u001b[39m\u001b[32m, line 3\u001b[39m, in \u001b[36mremove\u001b[39m\u001b[34m(self, val)\u001b[39m\n\u001b[32m      1\u001b[39m \u001b[38;5;28;01mdef\u001b[39;00m\u001b[38;5;250m \u001b[39m\u001b[34mremove\u001b[39m(\u001b[38;5;28mself\u001b[39m, val):\n\u001b[32m      2\u001b[39m     \u001b[38;5;28;01mif\u001b[39;00m \u001b[38;5;28mself\u001b[39m.head \u001b[38;5;129;01mis\u001b[39;00m \u001b[38;5;28;01mNone\u001b[39;00m:\n\u001b[32m----> \u001b[39m\u001b[32m3\u001b[39m         \u001b[38;5;28;01mraise\u001b[39;00m \u001b[38;5;167;01mException\u001b[39;00m(\u001b[33m\"\u001b[39m\u001b[33mCannot remove. No value\u001b[39m\u001b[33m\"\u001b[39m)\n\u001b[32m      5\u001b[39m     temp = \u001b[38;5;28mself\u001b[39m.head\n\u001b[32m      6\u001b[39m     \u001b[38;5;66;03m#check first node\u001b[39;00m\n",
      "\u001b[31mException\u001b[39m: Cannot remove. No value"
     ]
    }
   ],
   "source": [
    "l.remove(3)"
   ]
  },
  {
   "cell_type": "code",
   "execution_count": 136,
   "id": "a45f5cf2-23ff-44b3-8ac0-80687e6c07b9",
   "metadata": {},
   "outputs": [],
   "source": [
    "def length(self):\n",
    "    counter = 0\n",
    "\n",
    "    temp = self.head\n",
    "    while temp is not None:\n",
    "        temp = temp.next\n",
    "        counter += 1\n",
    "        \n",
    "    return counter\n",
    "\n",
    "LinkedList.length = length"
   ]
  },
  {
   "cell_type": "code",
   "execution_count": 140,
   "id": "0edd6563-4aae-4f37-8ca8-036d32cccfda",
   "metadata": {},
   "outputs": [
    {
     "name": "stdout",
     "output_type": "stream",
     "text": [
      "[1, 2, 3, 1, 2, 3]\n"
     ]
    }
   ],
   "source": [
    "print(l)"
   ]
  },
  {
   "cell_type": "code",
   "execution_count": 141,
   "id": "3d466608-193e-413d-8344-f49794225292",
   "metadata": {},
   "outputs": [
    {
     "data": {
      "text/plain": [
       "6"
      ]
     },
     "execution_count": 141,
     "metadata": {},
     "output_type": "execute_result"
    }
   ],
   "source": [
    "l.length()"
   ]
  },
  {
   "cell_type": "code",
   "execution_count": 161,
   "id": "d4592f31-ad23-4a68-914f-1460597c4f05",
   "metadata": {},
   "outputs": [],
   "source": [
    "def getIndex(self, index):\n",
    "    if self.head is None:\n",
    "        raise Exception(\"Cannot get index. No value.\")\n",
    "\n",
    "    temp = self.head\n",
    "    if temp.next is None:\n",
    "        return temp.val\n",
    "\n",
    "    counter = 0\n",
    "    while temp is not None and counter == index:\n",
    "        temp = temp.next\n",
    "        val = temp.val\n",
    "        counter += 1\n",
    "        \n",
    "    return val\n",
    "LinkedList.getIndex = getIndex        "
   ]
  },
  {
   "cell_type": "code",
   "execution_count": 164,
   "id": "8c1f4e38-f821-44c2-a385-a119afac5a6f",
   "metadata": {
    "scrolled": true
   },
   "outputs": [
    {
     "name": "stdout",
     "output_type": "stream",
     "text": [
      "[12, 2, 3]\n"
     ]
    }
   ],
   "source": [
    "l.getIndex(2)\n",
    "print(l)"
   ]
  },
  {
   "cell_type": "code",
   "execution_count": 154,
   "id": "6d2f6d7a-4aa4-4c6e-a4a7-498b64aa7ddf",
   "metadata": {},
   "outputs": [
    {
     "name": "stdout",
     "output_type": "stream",
     "text": [
      "Case 2\n",
      "[12]\n"
     ]
    }
   ],
   "source": [
    "l.pop()\n",
    "print(l)"
   ]
  },
  {
   "cell_type": "code",
   "execution_count": 159,
   "id": "f878c2ea-60b8-45d8-9c1f-be5caaa5191f",
   "metadata": {},
   "outputs": [
    {
     "name": "stdout",
     "output_type": "stream",
     "text": [
      "exec: case 2\n"
     ]
    }
   ],
   "source": [
    "l.push(3)"
   ]
  },
  {
   "cell_type": "code",
   "execution_count": 165,
   "id": "b2621c35-a4ba-4204-aa6f-f1317abbd3f7",
   "metadata": {},
   "outputs": [
    {
     "data": {
      "text/plain": [
       "12"
      ]
     },
     "execution_count": 165,
     "metadata": {},
     "output_type": "execute_result"
    }
   ],
   "source": [
    "l.getIndex(2)"
   ]
  },
  {
   "cell_type": "code",
   "execution_count": null,
   "id": "d5d6ccc3-4841-4967-a2be-5df9e5600f61",
   "metadata": {},
   "outputs": [],
   "source": []
  }
 ],
 "metadata": {
  "kernelspec": {
   "display_name": "Python 3 (ipykernel)",
   "language": "python",
   "name": "python3"
  },
  "language_info": {
   "codemirror_mode": {
    "name": "ipython",
    "version": 3
   },
   "file_extension": ".py",
   "mimetype": "text/x-python",
   "name": "python",
   "nbconvert_exporter": "python",
   "pygments_lexer": "ipython3",
   "version": "3.13.7"
  }
 },
 "nbformat": 4,
 "nbformat_minor": 5
}
