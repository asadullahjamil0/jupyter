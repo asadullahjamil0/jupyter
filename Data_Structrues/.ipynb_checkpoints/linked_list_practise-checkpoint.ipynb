{
 "cells": [
  {
   "cell_type": "code",
   "execution_count": 4,
   "id": "dbf272bc-6f8e-4279-a027-92ebfd3b5704",
   "metadata": {},
   "outputs": [],
   "source": [
    "class Node:\n",
    "    def __init__(self, data=None):\n",
    "        self.val = data\n",
    "        self.next = None\n",
    "\n",
    "class LinkedList:\n",
    "    def __init__(self):\n",
    "        self.head = None"
   ]
  },
  {
   "cell_type": "code",
   "execution_count": 28,
   "id": "fe854574-a4bb-425b-b5ae-eccbd5fdb31c",
   "metadata": {},
   "outputs": [],
   "source": [
    "def push(self, val):\n",
    "    new_node = Node(val)\n",
    "\n",
    "    if self.head is None:\n",
    "        self.head = new_node\n",
    "        return\n",
    "\n",
    "    last = self.head\n",
    "    while last.next is not None:\n",
    "        last = last.next\n",
    "\n",
    "    last.next = new_node\n",
    "\n",
    "LinkedList.push = push"
   ]
  },
  {
   "cell_type": "code",
   "execution_count": 29,
   "id": "08638bcf-d12b-4bb9-bada-efd5ef940bee",
   "metadata": {},
   "outputs": [],
   "source": [
    "def __str__(self):\n",
    "    ret_str = \"[\"\n",
    "    temp = self.head\n",
    "    while temp is not None:\n",
    "        ret_str += str(temp.val) + \", \"\n",
    "        temp = temp.next\n",
    "\n",
    "    ret_str = ret_str.rstrip(\", \")\n",
    "    ret_str += \"]\"\n",
    "    return ret_str\n",
    "\n",
    "LinkedList.__str__ = __str__"
   ]
  },
  {
   "cell_type": "code",
   "execution_count": 30,
   "id": "85d71f0b-6785-4ebe-80d0-26dc42a0c716",
   "metadata": {},
   "outputs": [],
   "source": [
    "l = LinkedList()"
   ]
  },
  {
   "cell_type": "code",
   "execution_count": 66,
   "id": "8b3cab12-c51d-4643-a49f-cde94fa5d343",
   "metadata": {},
   "outputs": [
    {
     "name": "stdout",
     "output_type": "stream",
     "text": [
      "exec: case 1\n",
      "exec: case 2\n",
      "exec: case 2\n",
      "[1, 2, 3]\n"
     ]
    }
   ],
   "source": [
    "l.push(1)\n",
    "l.push(2)\n",
    "l.push(3)\n",
    "\n",
    "print(l)"
   ]
  },
  {
   "cell_type": "code",
   "execution_count": 56,
   "id": "19b89ba0-92eb-498d-9ca7-e99dd6146f65",
   "metadata": {},
   "outputs": [],
   "source": [
    "def pop(self):\n",
    "    # case when there is no node\n",
    "    if self.head is None:\n",
    "        raise Exception(\"Cannot pop. No value.\")\n",
    "\n",
    "    #case when there is just one node\n",
    "    if self.head.next is None:\n",
    "        print(\"case 1\")\n",
    "        val = self.head.val\n",
    "        self.head = None\n",
    "        return val\n",
    "\n",
    "    #case when there is atleast two node\n",
    "    temp = self.head\n",
    "    print(\"Case 2\")\n",
    "    while temp.next is not None:\n",
    "        prev = temp\n",
    "        temp = temp.next\n",
    "\n",
    "    val = temp.val\n",
    "    prev.next = None\n",
    "    return val\n",
    "\n",
    "LinkedList.pop = pop"
   ]
  },
  {
   "cell_type": "code",
   "execution_count": 68,
   "id": "790ca34c-22e3-48aa-ae37-c95499c5b422",
   "metadata": {},
   "outputs": [
    {
     "name": "stdout",
     "output_type": "stream",
     "text": [
      "Case 2\n"
     ]
    },
    {
     "data": {
      "text/plain": [
       "2"
      ]
     },
     "execution_count": 68,
     "metadata": {},
     "output_type": "execute_result"
    }
   ],
   "source": [
    "l.pop()"
   ]
  },
  {
   "cell_type": "code",
   "execution_count": 69,
   "id": "af8fd9a2-1d2c-4dc1-9774-fd39716c24f7",
   "metadata": {},
   "outputs": [
    {
     "name": "stdout",
     "output_type": "stream",
     "text": [
      "[1]\n"
     ]
    }
   ],
   "source": [
    "print(l)"
   ]
  },
  {
   "cell_type": "code",
   "execution_count": 70,
   "id": "a7588a0b-65f8-4fa8-b9ae-aa13bdb8c2d4",
   "metadata": {},
   "outputs": [
    {
     "name": "stdout",
     "output_type": "stream",
     "text": [
      "case 1\n"
     ]
    },
    {
     "data": {
      "text/plain": [
       "1"
      ]
     },
     "execution_count": 70,
     "metadata": {},
     "output_type": "execute_result"
    }
   ],
   "source": [
    "l.pop()"
   ]
  },
  {
   "cell_type": "code",
   "execution_count": 71,
   "id": "f89faf44-94dc-4765-a374-699ac2938683",
   "metadata": {},
   "outputs": [
    {
     "name": "stdout",
     "output_type": "stream",
     "text": [
      "[]\n"
     ]
    }
   ],
   "source": [
    "print(l)"
   ]
  },
  {
   "cell_type": "code",
   "execution_count": 72,
   "id": "1c56f7ea-841e-482a-8c9e-de9478995747",
   "metadata": {},
   "outputs": [
    {
     "ename": "Exception",
     "evalue": "Cannot pop. No value.",
     "output_type": "error",
     "traceback": [
      "\u001b[31m---------------------------------------------------------------------------\u001b[39m",
      "\u001b[31mException\u001b[39m                                 Traceback (most recent call last)",
      "\u001b[36mCell\u001b[39m\u001b[36m \u001b[39m\u001b[32mIn[72]\u001b[39m\u001b[32m, line 1\u001b[39m\n\u001b[32m----> \u001b[39m\u001b[32m1\u001b[39m \u001b[43ml\u001b[49m\u001b[43m.\u001b[49m\u001b[43mpop\u001b[49m\u001b[43m(\u001b[49m\u001b[43m)\u001b[49m\n",
      "\u001b[36mCell\u001b[39m\u001b[36m \u001b[39m\u001b[32mIn[56]\u001b[39m\u001b[32m, line 4\u001b[39m, in \u001b[36mpop\u001b[39m\u001b[34m(self)\u001b[39m\n\u001b[32m      1\u001b[39m \u001b[38;5;28;01mdef\u001b[39;00m\u001b[38;5;250m \u001b[39m\u001b[34mpop\u001b[39m(\u001b[38;5;28mself\u001b[39m):\n\u001b[32m      2\u001b[39m     \u001b[38;5;66;03m# case when there is no node\u001b[39;00m\n\u001b[32m      3\u001b[39m     \u001b[38;5;28;01mif\u001b[39;00m \u001b[38;5;28mself\u001b[39m.head \u001b[38;5;129;01mis\u001b[39;00m \u001b[38;5;28;01mNone\u001b[39;00m:\n\u001b[32m----> \u001b[39m\u001b[32m4\u001b[39m         \u001b[38;5;28;01mraise\u001b[39;00m \u001b[38;5;167;01mException\u001b[39;00m(\u001b[33m\"\u001b[39m\u001b[33mCannot pop. No value.\u001b[39m\u001b[33m\"\u001b[39m)\n\u001b[32m      6\u001b[39m     \u001b[38;5;66;03m#case when there is just one node\u001b[39;00m\n\u001b[32m      7\u001b[39m     \u001b[38;5;28;01mif\u001b[39;00m \u001b[38;5;28mself\u001b[39m.head.next \u001b[38;5;129;01mis\u001b[39;00m \u001b[38;5;28;01mNone\u001b[39;00m:\n",
      "\u001b[31mException\u001b[39m: Cannot pop. No value."
     ]
    }
   ],
   "source": [
    "l.pop()"
   ]
  },
  {
   "cell_type": "code",
   "execution_count": null,
   "id": "c7f68b36-beb7-4b74-98f4-7fdbd7bdd7a8",
   "metadata": {},
   "outputs": [],
   "source": [
    "def insertion(self, index, val):\n",
    "    new_node = Node(val)\n",
    "    if index == 0:\n",
    "        new_node.next = self.head\n",
    "        self.head = new_node\n",
    "        return\n",
    "\n",
    "    temp = self.head\n",
    "\n",
    "    counter = 0\n",
    "    while temp is not None and counter < index:\n",
    "        prev = temp\n",
    "        temp = temp.next\n",
    "        \n",
    "        "
   ]
  }
 ],
 "metadata": {
  "kernelspec": {
   "display_name": "Python 3 (ipykernel)",
   "language": "python",
   "name": "python3"
  },
  "language_info": {
   "codemirror_mode": {
    "name": "ipython",
    "version": 3
   },
   "file_extension": ".py",
   "mimetype": "text/x-python",
   "name": "python",
   "nbconvert_exporter": "python",
   "pygments_lexer": "ipython3",
   "version": "3.13.7"
  }
 },
 "nbformat": 4,
 "nbformat_minor": 5
}
