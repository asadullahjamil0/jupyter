{
 "cells": [
  {
   "cell_type": "code",
   "execution_count": 1,
   "id": "f5f2bc37-9153-451b-9304-6164a5d9698d",
   "metadata": {},
   "outputs": [],
   "source": [
    "class Node:\n",
    "    def __init__(self, data = None):\n",
    "        self.val = data\n",
    "        self.next = None\n",
    "class LinkedList:\n",
    "    def __init__(self):\n",
    "        self.head = None\n",
    "        "
   ]
  },
  {
   "cell_type": "code",
   "execution_count": 2,
   "id": "0eba4bc2-b1ec-4985-bdaf-dea836ff2d2d",
   "metadata": {},
   "outputs": [],
   "source": [
    "def push(self, val):\n",
    "    new_node = Node(val)\n",
    "\n",
    "    if self.head is None:\n",
    "        self.head = new_node\n",
    "        return\n",
    "\n",
    "    last = self.head\n",
    "    while last.next is not None:\n",
    "        last = last.next\n",
    "\n",
    "    last.next = new_node\n",
    "LinkedList.push = push    "
   ]
  },
  {
   "cell_type": "code",
   "execution_count": 3,
   "id": "d2b6cf23-5dca-452b-bc4b-ceba448b4b89",
   "metadata": {},
   "outputs": [],
   "source": [
    "def __str__(self):\n",
    "    ret_str = '['\n",
    "    temp = self.head\n",
    "    while temp is not None:\n",
    "        ret_str += str(temp.val) + ', '\n",
    "        temp = temp.next\n",
    "\n",
    "    ret_str = ret_str.rstrip(', ')\n",
    "    ret_str += ']'\n",
    "    return ret_str\n",
    "\n",
    "LinkedList.__str__ = __str__"
   ]
  },
  {
   "cell_type": "code",
   "execution_count": 4,
   "id": "0c6617c8-6d7f-441e-8564-b108851b0e07",
   "metadata": {},
   "outputs": [
    {
     "name": "stdout",
     "output_type": "stream",
     "text": [
      "[1, 2, 3]\n"
     ]
    }
   ],
   "source": [
    "l = LinkedList()\n",
    "l.push(1)\n",
    "l.push(2)\n",
    "l.push(3)\n",
    "print(l)"
   ]
  },
  {
   "cell_type": "code",
   "execution_count": 5,
   "id": "01819b7a-b466-4525-b7dc-aaf54f3562ac",
   "metadata": {},
   "outputs": [],
   "source": [
    "def pop(self):\n",
    "    if self.head is None:\n",
    "        raise Exception(\"Cannot pop! No value\")\n",
    "\n",
    "    if self.head.next is None:\n",
    "        print(\"Case 1\")\n",
    "        val = self.head\n",
    "        self.head = None\n",
    "        return val\n",
    "\n",
    "    temp = self.head\n",
    "    while temp.next is not None:\n",
    "        prev = temp\n",
    "        temp = temp.next\n",
    "\n",
    "    print(\"Case 2\")\n",
    "    val = temp.val\n",
    "    prev.next = None\n",
    "    return val\n",
    "\n",
    "LinkedList.pop = pop"
   ]
  },
  {
   "cell_type": "code",
   "execution_count": 6,
   "id": "08146805-b1e0-4ae0-9aa4-a7c4f1e5046c",
   "metadata": {},
   "outputs": [],
   "source": [
    "l.push(1)\n",
    "l.push(2)\n",
    "l.push(3)"
   ]
  },
  {
   "cell_type": "code",
   "execution_count": 7,
   "id": "e6cdad28-b749-48b7-9189-bdd0919e6d93",
   "metadata": {},
   "outputs": [
    {
     "name": "stdout",
     "output_type": "stream",
     "text": [
      "[1, 2, 3, 1, 2, 3]\n"
     ]
    }
   ],
   "source": [
    "print(l)"
   ]
  },
  {
   "cell_type": "code",
   "execution_count": 9,
   "id": "87fddc71-f9a1-4585-9498-1852861cce0a",
   "metadata": {},
   "outputs": [
    {
     "name": "stdout",
     "output_type": "stream",
     "text": [
      "Case 2\n",
      "[1, 2, 3, 1]\n"
     ]
    }
   ],
   "source": [
    "l.pop()\n",
    "print(l)"
   ]
  },
  {
   "cell_type": "code",
   "execution_count": 37,
   "id": "4d4493df-e1f3-4923-a26f-5165c7272de4",
   "metadata": {},
   "outputs": [],
   "source": [
    "def insert(self, index, val):\n",
    "    new_node = Node(val)\n",
    "\n",
    "    if index == 0:\n",
    "        print(\"case 1\")\n",
    "        new_node.next = self.head\n",
    "        self.head = new_node\n",
    "        return\n",
    "\n",
    "    temp = self.head\n",
    "    counter = 0\n",
    "    while temp.next is not None and counter < index:\n",
    "        prev = temp\n",
    "        temp = temp.next\n",
    "        counter += 1\n",
    "    print(\"case 2\")\n",
    "    prev.next = new_node\n",
    "    new_node.next = temp\n",
    "\n",
    "LinkedList.insert = insert"
   ]
  },
  {
   "cell_type": "code",
   "execution_count": 34,
   "id": "9433de57-9434-4c80-aaf0-91636bec64dc",
   "metadata": {},
   "outputs": [
    {
     "name": "stdout",
     "output_type": "stream",
     "text": [
      "[0, 1, 2, 4, 3, 8, 8, 9, 11, 10]\n"
     ]
    }
   ],
   "source": [
    "print(l)"
   ]
  },
  {
   "cell_type": "code",
   "execution_count": 25,
   "id": "3c55b958-59d4-4d25-91c0-e9b09b6d4ce1",
   "metadata": {},
   "outputs": [
    {
     "name": "stdout",
     "output_type": "stream",
     "text": [
      "[1, 2, 4, 3, 1]\n"
     ]
    }
   ],
   "source": [
    "l.insert(2, 4)\n",
    "print(l)"
   ]
  },
  {
   "cell_type": "code",
   "execution_count": 26,
   "id": "e16bc904-f82d-49a3-a3ba-8911862a423d",
   "metadata": {},
   "outputs": [
    {
     "name": "stdout",
     "output_type": "stream",
     "text": [
      "case 1\n",
      "[0, 1, 2, 4, 3, 1]\n"
     ]
    }
   ],
   "source": [
    "l.insert(0, 0)\n",
    "print(l)"
   ]
  },
  {
   "cell_type": "code",
   "execution_count": 38,
   "id": "98415b55-f18f-4170-af99-d2ec5b945cd8",
   "metadata": {},
   "outputs": [
    {
     "name": "stdout",
     "output_type": "stream",
     "text": [
      "case 2\n",
      "[0, 1, 2, 4, 3, 8, 8, 9, 11, 12, 10]\n"
     ]
    }
   ],
   "source": [
    "l.insert(40, 12)\n",
    "print(l)"
   ]
  },
  {
   "cell_type": "code",
   "execution_count": null,
   "id": "98553f17-6ef7-41e1-a908-6b393202aede",
   "metadata": {},
   "outputs": [],
   "source": []
  }
 ],
 "metadata": {
  "kernelspec": {
   "display_name": "Python 3 (ipykernel)",
   "language": "python",
   "name": "python3"
  },
  "language_info": {
   "codemirror_mode": {
    "name": "ipython",
    "version": 3
   },
   "file_extension": ".py",
   "mimetype": "text/x-python",
   "name": "python",
   "nbconvert_exporter": "python",
   "pygments_lexer": "ipython3",
   "version": "3.12.7"
  }
 },
 "nbformat": 4,
 "nbformat_minor": 5
}
