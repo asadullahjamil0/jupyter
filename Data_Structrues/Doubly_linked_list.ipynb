{
 "cells": [
  {
   "cell_type": "code",
   "execution_count": 1,
   "id": "5c6e49ac-de34-42f5-93eb-a1d5a605ee94",
   "metadata": {},
   "outputs": [],
   "source": [
    "class Node:\n",
    "    def __init__(self, data = None):\n",
    "        self.val = data\n",
    "        self.next = None\n",
    "        self.prev = None\n",
    "\n",
    "class Doubly:\n",
    "    def __init__(self):\n",
    "        self.head = None"
   ]
  },
  {
   "cell_type": "code",
   "execution_count": 4,
   "id": "01dbe427-5f92-4e21-932b-54b8f57d7e88",
   "metadata": {},
   "outputs": [],
   "source": [
    "def push(self):\n",
    "    new_node = Node(val)\n",
    "\n",
    "    #no node currently\n",
    "    if self.head is None:\n",
    "        self.head = new_node\n",
    "        return\n",
    "\n",
    "    # otherwise, reach the end and then insert\n",
    "    last = self.head\n",
    "    while last.next is not None:\n",
    "        last = last.next\n",
    "\n",
    "    last.next = new_node\n",
    "    new_node.prev = last #(change)\n",
    "\n",
    "Doubly.push = push   # we can add functions to classes even after definition"
   ]
  },
  {
   "cell_type": "code",
   "execution_count": 6,
   "id": "0c1d31b8-3bfe-40f4-822b-a0879bef3228",
   "metadata": {},
   "outputs": [],
   "source": [
    "def __str__(self):\n",
    "    ret_str = \"[\"\n",
    "    temp = self.head\n",
    "    while temp is not None:\n",
    "        ret_str += ret_str + \", \"\n",
    "        temp = temp.next\n",
    "\n",
    "    ret_str = ret_str.rstrip(ret_str)\n",
    "    ret_str += \"]\"\n",
    "    return ret_str\n",
    "\n",
    "Doubly.__str__ = __str__"
   ]
  },
  {
   "cell_type": "code",
   "execution_count": 7,
   "id": "8c5df1b7-0f10-4ef4-8157-21aea3b90e10",
   "metadata": {},
   "outputs": [],
   "source": [
    "def pop(self):\n",
    "\n",
    "    #Case when there is no node\n",
    "    if self.head is None:\n",
    "        raise Exception(\"Cannot Pop. No value\")\n",
    "\n",
    "    #case when there is just one node\n",
    "    if self.head.next is None:\n",
    "        val = self.head.val\n",
    "        self.head = None   # automatic garbage collection\n",
    "        return val\n",
    "\n",
    "    # case when there is 2 or more nodes\n",
    "    # Reach the previous to last node\n",
    "    temp = self.head\n",
    "    while temp.next is not None:\n",
    "        prev = temp\n",
    "        temp = temp.next\n",
    "\n",
    "    val = temp.val\n",
    "    prev.next = None\n",
    "\n",
    "Doubly.pop = pop"
   ]
  },
  {
   "cell_type": "code",
   "execution_count": null,
   "id": "caa73111-9f2f-44a2-af7e-29a87dca7257",
   "metadata": {},
   "outputs": [],
   "source": []
  }
 ],
 "metadata": {
  "kernelspec": {
   "display_name": "Python 3 (ipykernel)",
   "language": "python",
   "name": "python3"
  },
  "language_info": {
   "codemirror_mode": {
    "name": "ipython",
    "version": 3
   },
   "file_extension": ".py",
   "mimetype": "text/x-python",
   "name": "python",
   "nbconvert_exporter": "python",
   "pygments_lexer": "ipython3",
   "version": "3.13.7"
  }
 },
 "nbformat": 4,
 "nbformat_minor": 5
}
