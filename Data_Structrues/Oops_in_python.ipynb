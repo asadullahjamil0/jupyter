{
 "cells": [
  {
   "cell_type": "code",
   "execution_count": 18,
   "id": "d1e1416a-9ea5-419b-aa17-805652f54c28",
   "metadata": {},
   "outputs": [],
   "source": [
    "class Point:\n",
    "    def __init__(self, x=0, y=0):\n",
    "        self.x = x\n",
    "        self.y = y\n",
    "\n",
    "    def __str__(self):\n",
    "        return \"[\" + str(self.x) + \",\" + str(self.y) + \"]\""
   ]
  },
  {
   "cell_type": "code",
   "execution_count": 19,
   "id": "6ae24994-6f40-430c-8a44-6afa7e8b9e55",
   "metadata": {},
   "outputs": [
    {
     "name": "stdout",
     "output_type": "stream",
     "text": [
      "p1 =  0\n",
      "p2 =  2\n"
     ]
    }
   ],
   "source": [
    "p1 = Point() #p1 is a reference variable\n",
    "print(\"p1 = \", p1.x)\n",
    "\n",
    "p2 = Point(2, 4) #notice we do not pass in self. This is automatically done for us in python\n",
    "print(\"p2 = \", p2.x)"
   ]
  },
  {
   "cell_type": "code",
   "execution_count": 20,
   "id": "fde88873-a93f-4968-a787-b00503e1aedd",
   "metadata": {},
   "outputs": [
    {
     "name": "stdout",
     "output_type": "stream",
     "text": [
      "[2,4]\n"
     ]
    }
   ],
   "source": [
    "print(p2)"
   ]
  },
  {
   "cell_type": "code",
   "execution_count": 25,
   "id": "e7ef3890-f75e-4577-9f80-e19b3b976746",
   "metadata": {},
   "outputs": [],
   "source": [
    "class Shape:\n",
    "    def __init__(self, points):\n",
    "        self.points = points\n",
    "\n",
    "    def __str__(self):\n",
    "        ret = \"\"\n",
    "        for i in self.points:\n",
    "            ret += str(i) + \" - \"\n",
    "        return ret"
   ]
  },
  {
   "cell_type": "code",
   "execution_count": 26,
   "id": "26ba72c3-1197-42ae-8e36-8b5a701eb561",
   "metadata": {},
   "outputs": [
    {
     "name": "stdout",
     "output_type": "stream",
     "text": [
      "[5,5] - [10,5] - [5,10] - \n"
     ]
    }
   ],
   "source": [
    "p1 = Point(5, 5)\n",
    "p2 = Point(10, 5)\n",
    "p3 = Point(5, 10)\n",
    "p = [p1, p2, p3]\n",
    "\n",
    "sh = Shape(p)\n",
    "print(sh)"
   ]
  },
  {
   "cell_type": "code",
   "execution_count": 27,
   "id": "949762eb-d554-4ea2-b980-5e9dc95afabe",
   "metadata": {},
   "outputs": [],
   "source": [
    "def print_points(self):\n",
    "    for i in self.points:\n",
    "        print(i)\n",
    "\n",
    "Shape.print_points = print_points"
   ]
  },
  {
   "cell_type": "code",
   "execution_count": 29,
   "id": "8f14fcca-461a-4f45-8584-66d8c204e9e5",
   "metadata": {},
   "outputs": [
    {
     "name": "stdout",
     "output_type": "stream",
     "text": [
      "[5,5]\n",
      "[10,5]\n",
      "[5,10]\n"
     ]
    }
   ],
   "source": [
    "sh.print_points()"
   ]
  },
  {
   "cell_type": "code",
   "execution_count": 30,
   "id": "727e2c9a-2fcd-4516-8a85-9ebeb73c37d2",
   "metadata": {},
   "outputs": [],
   "source": [
    "class Triangle(Shape):\n",
    "    pass"
   ]
  },
  {
   "cell_type": "code",
   "execution_count": 31,
   "id": "4c1dfd12-8acb-4b60-91dd-b87a5b4eeb3c",
   "metadata": {},
   "outputs": [],
   "source": [
    "t = Triangle(p)"
   ]
  },
  {
   "cell_type": "code",
   "execution_count": 32,
   "id": "a4045b93-fda3-4c05-a58f-91a52177e0f8",
   "metadata": {},
   "outputs": [
    {
     "name": "stdout",
     "output_type": "stream",
     "text": [
      "[5,5]\n",
      "[10,5]\n",
      "[5,10]\n"
     ]
    }
   ],
   "source": [
    "t.print_points()"
   ]
  },
  {
   "cell_type": "code",
   "execution_count": null,
   "id": "15b513a2-154a-41d2-94f6-9971f6ed0951",
   "metadata": {},
   "outputs": [],
   "source": []
  }
 ],
 "metadata": {
  "kernelspec": {
   "display_name": "Python 3 (ipykernel)",
   "language": "python",
   "name": "python3"
  },
  "language_info": {
   "codemirror_mode": {
    "name": "ipython",
    "version": 3
   },
   "file_extension": ".py",
   "mimetype": "text/x-python",
   "name": "python",
   "nbconvert_exporter": "python",
   "pygments_lexer": "ipython3",
   "version": "3.13.7"
  }
 },
 "nbformat": 4,
 "nbformat_minor": 5
}
