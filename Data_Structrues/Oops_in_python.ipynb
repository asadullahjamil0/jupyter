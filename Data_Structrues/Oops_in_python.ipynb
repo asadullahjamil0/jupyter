{
 "cells": [
  {
   "cell_type": "code",
   "execution_count": 1,
   "id": "d1e1416a-9ea5-419b-aa17-805652f54c28",
   "metadata": {},
   "outputs": [],
   "source": [
    "class Point:\n",
    "    def __init__(self, x=0, y=0):\n",
    "        self.x = x\n",
    "        self.y = y\n",
    "\n",
    "    def __str__(self):\n",
    "        return \"[\" + str(self.x) + \",\" + str(self.y) + \"]\""
   ]
  },
  {
   "cell_type": "code",
   "execution_count": 2,
   "id": "6ae24994-6f40-430c-8a44-6afa7e8b9e55",
   "metadata": {},
   "outputs": [
    {
     "name": "stdout",
     "output_type": "stream",
     "text": [
      "p1 =  0\n",
      "p2 =  2\n"
     ]
    }
   ],
   "source": [
    "p1 = Point() #p1 is a reference variable\n",
    "print(\"p1 = \", p1.x)\n",
    "\n",
    "p2 = Point(2, 4) #notice we do not pass in self. This is automatically done for us in python\n",
    "print(\"p2 = \", p2.x)"
   ]
  },
  {
   "cell_type": "code",
   "execution_count": 3,
   "id": "fde88873-a93f-4968-a787-b00503e1aedd",
   "metadata": {},
   "outputs": [
    {
     "name": "stdout",
     "output_type": "stream",
     "text": [
      "[2,4]\n"
     ]
    }
   ],
   "source": [
    "print(p2)"
   ]
  },
  {
   "cell_type": "code",
   "execution_count": 4,
   "id": "e7ef3890-f75e-4577-9f80-e19b3b976746",
   "metadata": {},
   "outputs": [],
   "source": [
    "class Shape:\n",
    "    def __init__(self, points):\n",
    "        self.points = points\n",
    "\n",
    "    def __str__(self):\n",
    "        ret = \"\"\n",
    "        for i in self.points:\n",
    "            ret += str(i) + \" - \"\n",
    "        return ret"
   ]
  },
  {
   "cell_type": "code",
   "execution_count": 5,
   "id": "26ba72c3-1197-42ae-8e36-8b5a701eb561",
   "metadata": {},
   "outputs": [
    {
     "name": "stdout",
     "output_type": "stream",
     "text": [
      "[5,5] - [10,5] - [5,10] - \n"
     ]
    }
   ],
   "source": [
    "p1 = Point(5, 5)\n",
    "p2 = Point(10, 5)\n",
    "p3 = Point(5, 10)\n",
    "p = [p1, p2, p3]\n",
    "\n",
    "sh = Shape(p)\n",
    "print(sh)"
   ]
  },
  {
   "cell_type": "code",
   "execution_count": 6,
   "id": "949762eb-d554-4ea2-b980-5e9dc95afabe",
   "metadata": {},
   "outputs": [],
   "source": [
    "def print_points(self):\n",
    "    for i in self.points:\n",
    "        print(i)\n",
    "\n",
    "Shape.print_points = print_points"
   ]
  },
  {
   "cell_type": "code",
   "execution_count": 7,
   "id": "8f14fcca-461a-4f45-8584-66d8c204e9e5",
   "metadata": {},
   "outputs": [
    {
     "name": "stdout",
     "output_type": "stream",
     "text": [
      "[5,5]\n",
      "[10,5]\n",
      "[5,10]\n"
     ]
    }
   ],
   "source": [
    "sh.print_points()"
   ]
  },
  {
   "cell_type": "code",
   "execution_count": 8,
   "id": "727e2c9a-2fcd-4516-8a85-9ebeb73c37d2",
   "metadata": {},
   "outputs": [],
   "source": [
    "class Triangle(Shape):\n",
    "    pass"
   ]
  },
  {
   "cell_type": "code",
   "execution_count": 9,
   "id": "4c1dfd12-8acb-4b60-91dd-b87a5b4eeb3c",
   "metadata": {},
   "outputs": [],
   "source": [
    "t = Triangle(p)"
   ]
  },
  {
   "cell_type": "code",
   "execution_count": 10,
   "id": "a4045b93-fda3-4c05-a58f-91a52177e0f8",
   "metadata": {},
   "outputs": [
    {
     "name": "stdout",
     "output_type": "stream",
     "text": [
      "[5,5]\n",
      "[10,5]\n",
      "[5,10]\n"
     ]
    }
   ],
   "source": [
    "t.print_points()"
   ]
  },
  {
   "cell_type": "code",
   "execution_count": 11,
   "id": "15b513a2-154a-41d2-94f6-9971f6ed0951",
   "metadata": {},
   "outputs": [],
   "source": [
    "def fab1(n):\n",
    "    if n <= 1:\n",
    "        return 1\n",
    "\n",
    "    else:\n",
    "        return fab1(n-2) + fab1(n-1)"
   ]
  },
  {
   "cell_type": "code",
   "execution_count": 12,
   "id": "1bcc9412-67d2-423c-97fd-352e2d77ff63",
   "metadata": {},
   "outputs": [
    {
     "data": {
      "text/plain": [
       "3"
      ]
     },
     "execution_count": 12,
     "metadata": {},
     "output_type": "execute_result"
    }
   ],
   "source": [
    "fab1(3)"
   ]
  },
  {
   "cell_type": "code",
   "execution_count": 13,
   "id": "17a07e45-8b0b-4d4d-a1b7-0578b5ea3f79",
   "metadata": {},
   "outputs": [
    {
     "name": "stdout",
     "output_type": "stream",
     "text": [
      "CPU times: total: 141 ms\n",
      "Wall time: 147 ms\n"
     ]
    },
    {
     "data": {
      "text/plain": [
       "1346269"
      ]
     },
     "execution_count": 13,
     "metadata": {},
     "output_type": "execute_result"
    }
   ],
   "source": [
    "time(fab1(30))"
   ]
  },
  {
   "cell_type": "code",
   "execution_count": 14,
   "id": "9f975824-4cb5-4ab9-8bfd-201dab714a45",
   "metadata": {},
   "outputs": [],
   "source": [
    "def fab2(n):\n",
    "    a = 1\n",
    "    b = 1\n",
    "\n",
    "    for i in range(n):\n",
    "        a, b = b, a + b\n",
    "\n",
    "    return a \n"
   ]
  },
  {
   "cell_type": "code",
   "execution_count": 15,
   "id": "0bc20a8c-4fc2-4650-bf53-1849b3c635e1",
   "metadata": {},
   "outputs": [
    {
     "data": {
      "text/plain": [
       "13"
      ]
     },
     "execution_count": 15,
     "metadata": {},
     "output_type": "execute_result"
    }
   ],
   "source": [
    "fab2(6)"
   ]
  },
  {
   "cell_type": "code",
   "execution_count": 16,
   "id": "81313edf-c3f6-441c-8c22-f5bb109badbb",
   "metadata": {},
   "outputs": [
    {
     "name": "stdout",
     "output_type": "stream",
     "text": [
      "CPU times: total: 0 ns\n",
      "Wall time: 10 μs\n"
     ]
    },
    {
     "data": {
      "text/plain": [
       "2880067194370816120"
      ]
     },
     "execution_count": 16,
     "metadata": {},
     "output_type": "execute_result"
    }
   ],
   "source": [
    "time(fab2(89))"
   ]
  },
  {
   "cell_type": "code",
   "execution_count": 17,
   "id": "87228147-c642-495a-932e-ff1e897bb37c",
   "metadata": {},
   "outputs": [],
   "source": [
    "import time\n",
    "def compute_time(fn, limit):\n",
    "    l = []\n",
    "\n",
    "    for i in range(limit):\n",
    "        start_time = int(round(time.time() * 1000))\n",
    "\n",
    "        fn(i)\n",
    "\n",
    "        end_time = int(round(time.time() * 1000))\n",
    "\n",
    "        time_taken = end_time - start_time\n",
    "        l.append(time_taken)\n",
    "\n",
    "    return l"
   ]
  },
  {
   "cell_type": "code",
   "execution_count": 25,
   "id": "1585f312-ad55-4bab-9dde-adbb66a20649",
   "metadata": {},
   "outputs": [],
   "source": [
    "limit = 35\n",
    "fab1_time = compute_time(fab1, limit)\n",
    "fab2_time = compute_time(fab2, limit)\n"
   ]
  },
  {
   "cell_type": "code",
   "execution_count": 26,
   "id": "5cd23227-62a7-4ac7-8b25-ed64be0c1e0e",
   "metadata": {},
   "outputs": [
    {
     "name": "stdout",
     "output_type": "stream",
     "text": [
      "[0, 0, 0, 0, 0, 0, 0, 0, 0, 0, 0, 1, 0, 0, 0, 0, 1, 0, 0, 1, 1, 2, 4, 11, 8, 14, 21, 34, 57, 92, 143, 228, 390, 612, 1030]\n",
      "[0, 0, 0, 0, 0, 0, 0, 0, 0, 0, 0, 0, 0, 0, 0, 0, 0, 0, 0, 0, 0, 0, 0, 0, 0, 0, 0, 0, 0, 0, 0, 0, 0, 0, 0]\n"
     ]
    }
   ],
   "source": [
    "print(fab1_time)\n",
    "print(fab2_time)"
   ]
  },
  {
   "cell_type": "code",
   "execution_count": 27,
   "id": "a80a8676-9a2a-42d8-9acd-0db56fe75e40",
   "metadata": {},
   "outputs": [],
   "source": [
    "import matplotlib.pyplot as plt"
   ]
  },
  {
   "cell_type": "code",
   "execution_count": 28,
   "id": "5cfb2782-c9f1-4282-b756-f8acbf3e270f",
   "metadata": {},
   "outputs": [],
   "source": [
    "%matplotlib inline"
   ]
  },
  {
   "cell_type": "code",
   "execution_count": 35,
   "id": "1d76f9f3-e72a-4e66-aea5-3dee3c341aa8",
   "metadata": {},
   "outputs": [
    {
     "data": {
      "image/png": "[encoded data removed]",
      "text/plain": [
       "<Figure size 640x480 with 1 Axes>"
      ]
     },
     "metadata": {},
     "output_type": "display_data"
    }
   ],
   "source": [
    "plt.figure()\n",
    "plt.xlabel(\"fab(n)\")\n",
    "plt.ylabel(\"time(ms)\")\n",
    "plt.plot(fab1_time)\n",
    "plt.plot(fab2_time)\n",
    "plt.show()"
   ]
  },
  {
   "cell_type": "code",
   "execution_count": null,
   "id": "3c776829-62b0-4ffd-b59e-b40870ed4d3b",
   "metadata": {},
   "outputs": [],
   "source": []
  }
 ],
 "metadata": {
  "kernelspec": {
   "display_name": "Python 3 (ipykernel)",
   "language": "python",
   "name": "python3"
  },
  "language_info": {
   "codemirror_mode": {
    "name": "ipython",
    "version": 3
   },
   "file_extension": ".py",
   "mimetype": "text/x-python",
   "name": "python",
   "nbconvert_exporter": "python",
   "pygments_lexer": "ipython3",
   "version": "3.13.7"
  }
 },
 "nbformat": 4,
 "nbformat_minor": 5
}
