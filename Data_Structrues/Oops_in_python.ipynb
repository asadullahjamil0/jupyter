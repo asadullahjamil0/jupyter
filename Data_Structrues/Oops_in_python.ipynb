{
 "cells": [
  {
   "cell_type": "code",
   "execution_count": 1,
   "id": "d1e1416a-9ea5-419b-aa17-805652f54c28",
   "metadata": {},
   "outputs": [],
   "source": [
    "class Point:\n",
    "    def __init__(self, x=0, y=0):\n",
    "        self.x = x\n",
    "        self.y = y"
   ]
  },
  {
   "cell_type": "code",
   "execution_count": 2,
   "id": "6ae24994-6f40-430c-8a44-6afa7e8b9e55",
   "metadata": {},
   "outputs": [
    {
     "name": "stdout",
     "output_type": "stream",
     "text": [
      "p1 =  0\n",
      "p2 =  2\n"
     ]
    }
   ],
   "source": [
    "p1 = Point() #p1 is a reference variable\n",
    "print(\"p1 = \", p1.x)\n",
    "\n",
    "p2 = Point(2, 4) #notice we do not pass in self. This is automatically done for us in python\n",
    "print(\"p2 = \", p2.x)"
   ]
  },
  {
   "cell_type": "code",
   "execution_count": 6,
   "id": "fde88873-a93f-4968-a787-b00503e1aedd",
   "metadata": {},
   "outputs": [
    {
     "name": "stdout",
     "output_type": "stream",
     "text": [
      "<__main__.Point object at 0x00000231B158B890>\n"
     ]
    }
   ],
   "source": [
    "print(p2)"
   ]
  },
  {
   "cell_type": "code",
   "execution_count": null,
   "id": "e7ef3890-f75e-4577-9f80-e19b3b976746",
   "metadata": {},
   "outputs": [],
   "source": []
  }
 ],
 "metadata": {
  "kernelspec": {
   "display_name": "Python 3 (ipykernel)",
   "language": "python",
   "name": "python3"
  },
  "language_info": {
   "codemirror_mode": {
    "name": "ipython",
    "version": 3
   },
   "file_extension": ".py",
   "mimetype": "text/x-python",
   "name": "python",
   "nbconvert_exporter": "python",
   "pygments_lexer": "ipython3",
   "version": "3.13.7"
  }
 },
 "nbformat": 4,
 "nbformat_minor": 5
}
