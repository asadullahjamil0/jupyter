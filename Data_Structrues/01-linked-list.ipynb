{
 "cells": [
  {
   "cell_type": "code",
   "execution_count": 39,
   "id": "f5f2bc37-9153-451b-9304-6164a5d9698d",
   "metadata": {},
   "outputs": [],
   "source": [
    "class Node:\n",
    "    def __init__(self, data = None):\n",
    "        self.val = data\n",
    "        self.next = None\n",
    "class LinkedList:\n",
    "    def __init__(self):\n",
    "        self.head = None\n",
    "        "
   ]
  },
  {
   "cell_type": "code",
   "execution_count": 40,
   "id": "0eba4bc2-b1ec-4985-bdaf-dea836ff2d2d",
   "metadata": {},
   "outputs": [],
   "source": [
    "def push(self, val):\n",
    "    new_node = Node(val)\n",
    "\n",
    "    if self.head is None:\n",
    "        self.head = new_node\n",
    "        return\n",
    "\n",
    "    last = self.head\n",
    "    while last.next is not None:\n",
    "        last = last.next\n",
    "\n",
    "    last.next = new_node\n",
    "LinkedList.push = push    "
   ]
  },
  {
   "cell_type": "code",
   "execution_count": 41,
   "id": "d2b6cf23-5dca-452b-bc4b-ceba448b4b89",
   "metadata": {},
   "outputs": [],
   "source": [
    "def __str__(self):\n",
    "    ret_str = '['\n",
    "    temp = self.head\n",
    "    while temp is not None:\n",
    "        ret_str += str(temp.val) + ', '\n",
    "        temp = temp.next\n",
    "\n",
    "    ret_str = ret_str.rstrip(', ')\n",
    "    ret_str += ']'\n",
    "    return ret_str\n",
    "\n",
    "LinkedList.__str__ = __str__"
   ]
  },
  {
   "cell_type": "code",
   "execution_count": 42,
   "id": "0c6617c8-6d7f-441e-8564-b108851b0e07",
   "metadata": {},
   "outputs": [
    {
     "name": "stdout",
     "output_type": "stream",
     "text": [
      "[1, 2, 3]\n"
     ]
    }
   ],
   "source": [
    "l = LinkedList()\n",
    "l.push(1)\n",
    "l.push(2)\n",
    "l.push(3)\n",
    "print(l)"
   ]
  },
  {
   "cell_type": "code",
   "execution_count": 43,
   "id": "01819b7a-b466-4525-b7dc-aaf54f3562ac",
   "metadata": {},
   "outputs": [],
   "source": [
    "def pop(self):\n",
    "    if self.head is None:\n",
    "        raise Exception(\"Cannot pop! No value\")\n",
    "\n",
    "    if self.head.next is None:\n",
    "        print(\"Case 1\")\n",
    "        val = self.head\n",
    "        self.head = None\n",
    "        return val\n",
    "\n",
    "    temp = self.head\n",
    "    while temp.next is not None:\n",
    "        prev = temp\n",
    "        temp = temp.next\n",
    "\n",
    "    print(\"Case 2\")\n",
    "    val = temp.val\n",
    "    prev.next = None\n",
    "    return val\n",
    "\n",
    "LinkedList.pop = pop"
   ]
  },
  {
   "cell_type": "code",
   "execution_count": 75,
   "id": "08146805-b1e0-4ae0-9aa4-a7c4f1e5046c",
   "metadata": {},
   "outputs": [],
   "source": [
    "l.push(1)\n",
    "l.push(2)\n",
    "l.push(3)"
   ]
  },
  {
   "cell_type": "code",
   "execution_count": 45,
   "id": "e6cdad28-b749-48b7-9189-bdd0919e6d93",
   "metadata": {},
   "outputs": [
    {
     "name": "stdout",
     "output_type": "stream",
     "text": [
      "[1, 2, 3, 1, 2, 3]\n"
     ]
    }
   ],
   "source": [
    "print(l)"
   ]
  },
  {
   "cell_type": "code",
   "execution_count": 46,
   "id": "87fddc71-f9a1-4585-9498-1852861cce0a",
   "metadata": {},
   "outputs": [
    {
     "name": "stdout",
     "output_type": "stream",
     "text": [
      "Case 2\n",
      "[1, 2, 3, 1, 2]\n"
     ]
    }
   ],
   "source": [
    "l.pop()\n",
    "print(l)"
   ]
  },
  {
   "cell_type": "code",
   "execution_count": 58,
   "id": "4d4493df-e1f3-4923-a26f-5165c7272de4",
   "metadata": {},
   "outputs": [],
   "source": [
    "def insert(self, index, val):\n",
    "    new_node = Node(val)\n",
    "\n",
    "    if index == 0:\n",
    "        print(\"case 1\")\n",
    "        new_node.next = self.head\n",
    "        self.head = new_node\n",
    "        return\n",
    "\n",
    "    temp = self.head\n",
    "    counter = 0\n",
    "    while temp is not None and counter < index:\n",
    "        prev = temp\n",
    "        temp = temp.next\n",
    "        counter += 1\n",
    "    print(\"case 2\")\n",
    "    prev.next = new_node\n",
    "    new_node.next = temp\n",
    "\n",
    "LinkedList.insert = insert"
   ]
  },
  {
   "cell_type": "code",
   "execution_count": 59,
   "id": "9433de57-9434-4c80-aaf0-91636bec64dc",
   "metadata": {},
   "outputs": [
    {
     "name": "stdout",
     "output_type": "stream",
     "text": [
      "[0, 1, 2, 4, 3, 1]\n"
     ]
    }
   ],
   "source": [
    "print(l)"
   ]
  },
  {
   "cell_type": "code",
   "execution_count": 50,
   "id": "e16bc904-f82d-49a3-a3ba-8911862a423d",
   "metadata": {},
   "outputs": [
    {
     "name": "stdout",
     "output_type": "stream",
     "text": [
      "case 1\n",
      "[0, 1, 2, 4, 3, 1, 2]\n"
     ]
    }
   ],
   "source": [
    "l.insert(0, 0)\n",
    "print(l)"
   ]
  },
  {
   "cell_type": "code",
   "execution_count": 62,
   "id": "98415b55-f18f-4170-af99-d2ec5b945cd8",
   "metadata": {},
   "outputs": [
    {
     "name": "stdout",
     "output_type": "stream",
     "text": [
      "case 2\n",
      "[0, 1, 2, 4, 3, 1, 12, 12, 14]\n"
     ]
    }
   ],
   "source": [
    "l.insert(40, 14)\n",
    "print(l)"
   ]
  },
  {
   "cell_type": "code",
   "execution_count": 78,
   "id": "62aa62d4-8cae-4b45-972b-800fc91359b8",
   "metadata": {},
   "outputs": [],
   "source": [
    "def remove(self, val):\n",
    "    temp = self.head\n",
    "    if temp is not None:\n",
    "        if temp.val == val:\n",
    "            print(\"case 1\")\n",
    "            self.head = temp.next\n",
    "            temp = None\n",
    "            return\n",
    "            \n",
    "    while temp is not None:\n",
    "        if temp.val == val:\n",
    "            break\n",
    "        prev = temp\n",
    "        temp = temp.next\n",
    "\n",
    "    if temp is None:\n",
    "        print(\"case 2.1\")\n",
    "        return\n",
    "\n",
    "    print(\"case 2\")\n",
    "    prev.next = prev.next.next\n",
    "\n",
    "LinkedList.remove = remove"
   ]
  },
  {
   "cell_type": "code",
   "execution_count": 95,
   "id": "3ec3070a-dedb-4bb7-b2aa-9bfad38caeef",
   "metadata": {},
   "outputs": [
    {
     "name": "stdout",
     "output_type": "stream",
     "text": [
      "[2, 2, 3, 23, 23, 232]\n"
     ]
    }
   ],
   "source": [
    "# l.remove(1)\n",
    "print(l)\n",
    "l.push(81)\n"
   ]
  },
  {
   "cell_type": "code",
   "execution_count": 135,
   "id": "3d878c7e-a44c-44cf-99ef-52bbfb0ca98d",
   "metadata": {},
   "outputs": [],
   "source": [
    "def len(self):\n",
    "    counter = 0\n",
    "    temp = self.head\n",
    "    while temp is not None:\n",
    "        prev = temp\n",
    "        temp = temp.next\n",
    "        counter += 1\n",
    "    return counter\n",
    "\n",
    "LinkedList.len = len"
   ]
  },
  {
   "cell_type": "code",
   "execution_count": 132,
   "id": "f2c27c48-2154-4add-95d6-6169f9cf43bc",
   "metadata": {},
   "outputs": [
    {
     "name": "stdout",
     "output_type": "stream",
     "text": [
      "[2, 2, 3, 23, 23, 232, 81]\n"
     ]
    }
   ],
   "source": [
    "print(l)"
   ]
  },
  {
   "cell_type": "code",
   "execution_count": 133,
   "id": "15550d0d-5cf4-4310-9db2-02d6d7c094f9",
   "metadata": {},
   "outputs": [
    {
     "name": "stdout",
     "output_type": "stream",
     "text": [
      "7\n"
     ]
    }
   ],
   "source": [
    "print(l.len())"
   ]
  },
  {
   "cell_type": "code",
   "execution_count": null,
   "id": "7eefe996-e40f-46c6-a947-7f321b31f831",
   "metadata": {},
   "outputs": [],
   "source": []
  }
 ],
 "metadata": {
  "kernelspec": {
   "display_name": "Python 3 (ipykernel)",
   "language": "python",
   "name": "python3"
  },
  "language_info": {
   "codemirror_mode": {
    "name": "ipython",
    "version": 3
   },
   "file_extension": ".py",
   "mimetype": "text/x-python",
   "name": "python",
   "nbconvert_exporter": "python",
   "pygments_lexer": "ipython3",
   "version": "3.12.7"
  }
 },
 "nbformat": 4,
 "nbformat_minor": 5
}
