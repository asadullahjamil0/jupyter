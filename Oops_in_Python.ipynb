{
 "cells": [
  {
   "cell_type": "code",
   "execution_count": 31,
   "id": "dd0936b1-e13d-4bee-b0e5-63c39b9e921b",
   "metadata": {},
   "outputs": [],
   "source": [
    "class Point:\n",
    "    def __init__(self, x = 0, y = 0):\n",
    "        self.x = x\n",
    "        self.y = y\n",
    "    def __str__(self):\n",
    "        return \"[\" + str(self.x) + \",\" + str(self.y) + \"]\"\n",
    "     "
   ]
  },
  {
   "cell_type": "code",
   "execution_count": 32,
   "id": "11518255-5fb4-4fa1-b194-4a1e3de0e37c",
   "metadata": {},
   "outputs": [],
   "source": [
    "p1 = Point()\n"
   ]
  },
  {
   "cell_type": "code",
   "execution_count": 33,
   "id": "0cef05f7-61e6-43f5-b951-484150de7ee9",
   "metadata": {},
   "outputs": [
    {
     "name": "stdout",
     "output_type": "stream",
     "text": [
      "p1 =  0\n"
     ]
    }
   ],
   "source": [
    "print(\"p1 = \", p1.x)"
   ]
  },
  {
   "cell_type": "code",
   "execution_count": 34,
   "id": "8e244129-efcb-4bef-aa22-03f40630e924",
   "metadata": {},
   "outputs": [],
   "source": [
    "p2 = Point(2, 4)"
   ]
  },
  {
   "cell_type": "code",
   "execution_count": 35,
   "id": "1026417f-fb5a-4618-be0c-23c46c7b403e",
   "metadata": {},
   "outputs": [
    {
     "name": "stdout",
     "output_type": "stream",
     "text": [
      "p2 =  2\n"
     ]
    }
   ],
   "source": [
    "print(\"p2 = \", p2.x)"
   ]
  },
  {
   "cell_type": "code",
   "execution_count": 36,
   "id": "395829ea-5c22-4bf4-b81d-5a394deaad9c",
   "metadata": {},
   "outputs": [
    {
     "name": "stdout",
     "output_type": "stream",
     "text": [
      "[2,4]\n"
     ]
    }
   ],
   "source": [
    "print(p2)"
   ]
  },
  {
   "cell_type": "code",
   "execution_count": 42,
   "id": "172d04fe-6014-4559-b08a-38bec6735ef0",
   "metadata": {},
   "outputs": [],
   "source": [
    "class Shape:\n",
    "    def __init__(self, points):\n",
    "        self.points = points\n",
    "    def __str__(self):\n",
    "        ret = \" \"\n",
    "        for i in self.points:\n",
    "            ret += str(i) + \" - \"\n",
    "        return ret"
   ]
  },
  {
   "cell_type": "code",
   "execution_count": 43,
   "id": "e5e17e66-a82b-4089-9f5f-416085dd5048",
   "metadata": {},
   "outputs": [],
   "source": [
    "p1 = [5, 5]\n",
    "p2 = [10, 5]\n",
    "p3 = [5, 10]\n",
    "p = [ p1, p2, p3]\n",
    "sh = Shape(p)"
   ]
  },
  {
   "cell_type": "code",
   "execution_count": 52,
   "id": "1aa349d3-24de-467a-93fe-39345fd7e192",
   "metadata": {},
   "outputs": [
    {
     "name": "stdout",
     "output_type": "stream",
     "text": [
      " [5, 5] - [10, 5] - [5, 10] - \n"
     ]
    }
   ],
   "source": [
    "print(sh)"
   ]
  },
  {
   "cell_type": "code",
   "execution_count": 57,
   "id": "8e81fec8-4831-45ed-9dbf-85d713a089d8",
   "metadata": {},
   "outputs": [],
   "source": [
    "# Composition\n",
    "def print_points(self):\n",
    "    for i in self.points:\n",
    "        print(i)\n",
    "        \n",
    "Shape.print_points = print_points"
   ]
  },
  {
   "cell_type": "code",
   "execution_count": 58,
   "id": "c28e562e-2b61-4e6e-8026-416702f9f9f8",
   "metadata": {},
   "outputs": [
    {
     "name": "stdout",
     "output_type": "stream",
     "text": [
      "[5, 5]\n",
      "[10, 5]\n",
      "[5, 10]\n"
     ]
    }
   ],
   "source": [
    "sh.print_points()"
   ]
  },
  {
   "cell_type": "code",
   "execution_count": 63,
   "id": "37dd7e5c-757f-4c1f-bd10-a769dc7a46f6",
   "metadata": {},
   "outputs": [],
   "source": [
    "# Inheritance\n",
    "class Rectangle(Shape):\n",
    "    pass"
   ]
  },
  {
   "cell_type": "code",
   "execution_count": 64,
   "id": "53fced99-5e26-4d8e-9de6-f592fd8e64ab",
   "metadata": {},
   "outputs": [],
   "source": [
    "t = Rectangle(p)"
   ]
  },
  {
   "cell_type": "code",
   "execution_count": 65,
   "id": "65b3762c-df6c-4bd3-9a7d-989feb74e09b",
   "metadata": {},
   "outputs": [
    {
     "name": "stdout",
     "output_type": "stream",
     "text": [
      "[5, 5]\n",
      "[10, 5]\n",
      "[5, 10]\n"
     ]
    }
   ],
   "source": [
    "t.print_points()"
   ]
  },
  {
   "cell_type": "code",
   "execution_count": 66,
   "id": "f500401b-4931-4804-81c5-a75acb7926b5",
   "metadata": {},
   "outputs": [
    {
     "name": "stdout",
     "output_type": "stream",
     "text": [
      " [5, 5] - [10, 5] - [5, 10] - \n"
     ]
    }
   ],
   "source": [
    "print(t)"
   ]
  },
  {
   "cell_type": "code",
   "execution_count": null,
   "id": "9448e86f-34c1-48b0-aaa5-c257d846d94d",
   "metadata": {},
   "outputs": [],
   "source": []
  }
 ],
 "metadata": {
  "kernelspec": {
   "display_name": "Python 3 (ipykernel)",
   "language": "python",
   "name": "python3"
  },
  "language_info": {
   "codemirror_mode": {
    "name": "ipython",
    "version": 3
   },
   "file_extension": ".py",
   "mimetype": "text/x-python",
   "name": "python",
   "nbconvert_exporter": "python",
   "pygments_lexer": "ipython3",
   "version": "3.12.7"
  }
 },
 "nbformat": 4,
 "nbformat_minor": 5
}
